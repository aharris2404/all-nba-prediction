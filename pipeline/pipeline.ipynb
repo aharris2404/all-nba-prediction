{
 "cells": [
  {
   "cell_type": "code",
   "execution_count": 39,
   "metadata": {},
   "outputs": [],
   "source": [
    "# https://github.com/swar/nba_api/issues/124"
   ]
  },
  {
   "cell_type": "code",
   "execution_count": 40,
   "metadata": {},
   "outputs": [],
   "source": [
    "import pandas as pd\n",
    "from time import time\n",
    "from nba_api.stats.static import players\n",
    "from nba_api.stats.endpoints import commonplayerinfo\n",
    "from nba_api.stats.endpoints import playercareerstats\n",
    "from nba_api.stats.endpoints import playerawards"
   ]
  },
  {
   "cell_type": "code",
   "execution_count": 41,
   "metadata": {},
   "outputs": [
    {
     "name": "stdout",
     "output_type": "stream",
     "text": [
      "{'Host': 'stats.nba.com', 'User-Agent': 'Mozilla/5.0 (Windows NT 10.0; Win64; x64; rv:72.0) Gecko/20100101 Firefox/72.0', 'Accept': 'application/json, text/plain, */*', 'Accept-Language': 'en-US,en;q=0.5', 'Accept-Encoding': 'gzip, deflate, br', 'x-nba-stats-origin': 'stats', 'x-nba-stats-token': 'true', 'Connection': 'keep-alive', 'Referer': 'https://stats.nba.com/', 'Pragma': 'no-cache', 'Cache-Control': 'no-cache'}\n"
     ]
    }
   ],
   "source": [
    "from nba_api.stats.library import http\n",
    "\n",
    "print(http.STATS_HEADERS)"
   ]
  },
  {
   "cell_type": "code",
   "execution_count": 42,
   "metadata": {},
   "outputs": [],
   "source": [
    "pd.set_option('display.max_rows', 500)\n",
    "pd.set_option('display.max_columns', 500)"
   ]
  },
  {
   "cell_type": "code",
   "execution_count": 43,
   "metadata": {},
   "outputs": [],
   "source": [
    "# function which collects player seasons and drops before modern 3 point era and insufficient data\n",
    "\n",
    "def collect_seasons(id):\n",
    "    season_filter = 1998 # the first year of the modern 3 point era\n",
    "\n",
    "    career = playercareerstats.PlayerCareerStats(player_id=id)\n",
    "    df = career.get_data_frames()[0]\n",
    "\n",
    "    df['SEASON_ID'] = df['SEASON_ID'].apply(lambda x: int(x[:4]) + 1) #make seasons numeric type\n",
    "    df = df[df['SEASON_ID'] >= season_filter] # drop any seasons before modern era\n",
    "\n",
    "    return df"
   ]
  },
  {
   "cell_type": "code",
   "execution_count": 44,
   "metadata": {},
   "outputs": [],
   "source": [
    "# function which gets player awards\n",
    "\n",
    "# fun fact and test case: dominique wilkins in 94 made an All-NBA team\n",
    "# but played for two teams that year\n",
    "\n",
    "def collect_awards(id):\n",
    "    awards = playerawards.PlayerAwards(player_id=id)\n",
    "\n",
    "    df = awards.get_data_frames()[0]\n",
    "\n",
    "    df = df[df['DESCRIPTION'] == 'All-NBA']\n",
    "    df = df[['SEASON', 'ALL_NBA_TEAM_NUMBER']]\n",
    "\n",
    "    df['SEASON'] = df['SEASON'].apply(lambda x: int(x[:4]) + 1) #make seasons numeric type\n",
    "\n",
    "    return df"
   ]
  },
  {
   "cell_type": "code",
   "execution_count": 45,
   "metadata": {},
   "outputs": [],
   "source": [
    "# function which joins the awards and seasons\n",
    "\n",
    "def stat_join(seasons, awards):\n",
    "    df = seasons.join(awards.set_index('SEASON'), on='SEASON_ID')\n",
    "    df['ALL_NBA_TEAM_NUMBER'] = df['ALL_NBA_TEAM_NUMBER'].fillna(0)\n",
    "    return df"
   ]
  },
  {
   "cell_type": "code",
   "execution_count": 46,
   "metadata": {},
   "outputs": [],
   "source": [
    "# function which loops through each player\n",
    "\n",
    "nba_players = players.get_players()"
   ]
  },
  {
   "cell_type": "code",
   "execution_count": 47,
   "metadata": {},
   "outputs": [
    {
     "data": {
      "text/plain": [
       "4900"
      ]
     },
     "execution_count": 47,
     "metadata": {},
     "output_type": "execute_result"
    }
   ],
   "source": [
    "len(nba_players)"
   ]
  },
  {
   "cell_type": "code",
   "execution_count": 48,
   "metadata": {},
   "outputs": [
    {
     "data": {
      "text/plain": [
       "{'id': 76001,\n",
       " 'full_name': 'Alaa Abdelnaby',\n",
       " 'first_name': 'Alaa',\n",
       " 'last_name': 'Abdelnaby',\n",
       " 'is_active': False}"
      ]
     },
     "execution_count": 48,
     "metadata": {},
     "output_type": "execute_result"
    }
   ],
   "source": [
    "nba_players[0]"
   ]
  },
  {
   "cell_type": "code",
   "execution_count": 49,
   "metadata": {},
   "outputs": [
    {
     "data": {
      "text/plain": [
       "8"
      ]
     },
     "execution_count": 49,
     "metadata": {},
     "output_type": "execute_result"
    }
   ],
   "source": [
    "len(nba_players[4892: 4900])"
   ]
  },
  {
   "cell_type": "code",
   "execution_count": 52,
   "metadata": {},
   "outputs": [],
   "source": [
    "def collect_chunk(nba_players, start_point, chunk_size):\n",
    "    print(f'start point = {start_point}')\n",
    "    final_df = pd.DataFrame()\n",
    "    for count, player in enumerate(nba_players[start_point:start_point + chunk_size]):\n",
    "        id = player['id']\n",
    "        name = player['full_name']\n",
    "\n",
    "        start = time()\n",
    "        print(f\"Processing {name}...\")\n",
    "\n",
    "        seasons = collect_seasons(id)\n",
    "        awards = collect_awards(id)\n",
    "        df = stat_join(seasons, awards)\n",
    "        df['NAME'] = player['full_name']\n",
    "\n",
    "        if count == 0:\n",
    "            final_df = df\n",
    "        else:\n",
    "            final_df = pd.concat([final_df, df])\n",
    "        \n",
    "        end = time()\n",
    "        print(f\"Took {end - start} seconds to finish count number {count}\")\n",
    "\n",
    "    return final_df"
   ]
  },
  {
   "cell_type": "code",
   "execution_count": 54,
   "metadata": {},
   "outputs": [
    {
     "name": "stdout",
     "output_type": "stream",
     "text": [
      "collecting chunk 2100 through 2200\n",
      "start point = 2100\n",
      "Processing Winfred Jacobs...\n",
      "Took 0.6909525394439697 seconds to finish count number 0\n",
      "Processing Casey Jacobsen...\n"
     ]
    },
    {
     "name": "stderr",
     "output_type": "stream",
     "text": [
      "/tmp/ipykernel_4467/1331416308.py:19: FutureWarning: The behavior of DataFrame concatenation with empty or all-NA entries is deprecated. In a future version, this will no longer exclude empty or all-NA columns when determining the result dtypes. To retain the old behavior, exclude the relevant entries before the concat operation.\n",
      "  final_df = pd.concat([final_df, df])\n"
     ]
    },
    {
     "name": "stdout",
     "output_type": "stream",
     "text": [
      "Took 0.5616276264190674 seconds to finish count number 1\n",
      "Processing Sam Jacobson...\n",
      "Took 0.5572407245635986 seconds to finish count number 2\n",
      "Processing Dave Jamerson...\n",
      "Took 0.540339469909668 seconds to finish count number 3\n",
      "Processing Aaron James...\n"
     ]
    },
    {
     "name": "stderr",
     "output_type": "stream",
     "text": [
      "/tmp/ipykernel_4467/1331416308.py:19: FutureWarning: The behavior of DataFrame concatenation with empty or all-NA entries is deprecated. In a future version, this will no longer exclude empty or all-NA columns when determining the result dtypes. To retain the old behavior, exclude the relevant entries before the concat operation.\n",
      "  final_df = pd.concat([final_df, df])\n"
     ]
    },
    {
     "name": "stdout",
     "output_type": "stream",
     "text": [
      "Took 0.5224177837371826 seconds to finish count number 4\n",
      "Processing Bernard James...\n",
      "Took 0.4731872081756592 seconds to finish count number 5\n",
      "Processing Damion James...\n",
      "Took 0.46660757064819336 seconds to finish count number 6\n",
      "Processing Gene James...\n"
     ]
    },
    {
     "name": "stderr",
     "output_type": "stream",
     "text": [
      "/tmp/ipykernel_4467/1331416308.py:19: FutureWarning: The behavior of DataFrame concatenation with empty or all-NA entries is deprecated. In a future version, this will no longer exclude empty or all-NA columns when determining the result dtypes. To retain the old behavior, exclude the relevant entries before the concat operation.\n",
      "  final_df = pd.concat([final_df, df])\n"
     ]
    },
    {
     "name": "stdout",
     "output_type": "stream",
     "text": [
      "Took 0.4856874942779541 seconds to finish count number 7\n",
      "Processing Henry James...\n",
      "Took 0.44244909286499023 seconds to finish count number 8\n",
      "Processing Jerome James...\n",
      "Took 0.45020365715026855 seconds to finish count number 9\n",
      "Processing Justin James...\n",
      "Took 0.6108996868133545 seconds to finish count number 10\n",
      "Processing LeBron James...\n",
      "Took 0.5198028087615967 seconds to finish count number 11\n",
      "Processing Mike James...\n",
      "Took 0.4278295040130615 seconds to finish count number 12\n",
      "Processing Mike James...\n",
      "Took 0.4378218650817871 seconds to finish count number 13\n",
      "Processing Tim James...\n",
      "Took 0.5983645915985107 seconds to finish count number 14\n",
      "Processing Antawn Jamison...\n",
      "Took 0.4310891628265381 seconds to finish count number 15\n",
      "Processing Harold Jamison...\n",
      "Took 0.4788639545440674 seconds to finish count number 16\n",
      "Processing John Janisch...\n"
     ]
    },
    {
     "name": "stderr",
     "output_type": "stream",
     "text": [
      "/tmp/ipykernel_4467/1331416308.py:19: FutureWarning: The behavior of DataFrame concatenation with empty or all-NA entries is deprecated. In a future version, this will no longer exclude empty or all-NA columns when determining the result dtypes. To retain the old behavior, exclude the relevant entries before the concat operation.\n",
      "  final_df = pd.concat([final_df, df])\n"
     ]
    },
    {
     "name": "stdout",
     "output_type": "stream",
     "text": [
      "Took 0.493088960647583 seconds to finish count number 17\n",
      "Processing Howie Janotta...\n"
     ]
    },
    {
     "name": "stderr",
     "output_type": "stream",
     "text": [
      "/tmp/ipykernel_4467/1331416308.py:19: FutureWarning: The behavior of DataFrame concatenation with empty or all-NA entries is deprecated. In a future version, this will no longer exclude empty or all-NA columns when determining the result dtypes. To retain the old behavior, exclude the relevant entries before the concat operation.\n",
      "  final_df = pd.concat([final_df, df])\n"
     ]
    },
    {
     "name": "stdout",
     "output_type": "stream",
     "text": [
      "Took 0.3743138313293457 seconds to finish count number 18\n",
      "Processing Jaime Jaquez Jr....\n",
      "Took 0.655778169631958 seconds to finish count number 19\n",
      "Processing Marko Jaric...\n",
      "Took 0.4499063491821289 seconds to finish count number 20\n",
      "Processing Tony Jaros...\n"
     ]
    },
    {
     "name": "stderr",
     "output_type": "stream",
     "text": [
      "/tmp/ipykernel_4467/1331416308.py:19: FutureWarning: The behavior of DataFrame concatenation with empty or all-NA entries is deprecated. In a future version, this will no longer exclude empty or all-NA columns when determining the result dtypes. To retain the old behavior, exclude the relevant entries before the concat operation.\n",
      "  final_df = pd.concat([final_df, df])\n"
     ]
    },
    {
     "name": "stdout",
     "output_type": "stream",
     "text": [
      "Took 0.4623861312866211 seconds to finish count number 21\n",
      "Processing DeJon Jarreau...\n",
      "Took 0.46128225326538086 seconds to finish count number 22\n",
      "Processing Sarunas Jasikevicius...\n",
      "Took 0.45638394355773926 seconds to finish count number 23\n",
      "Processing Nathan Jawai...\n",
      "Took 0.36272263526916504 seconds to finish count number 24\n",
      "Processing Buddy Jeannette...\n"
     ]
    },
    {
     "name": "stderr",
     "output_type": "stream",
     "text": [
      "/tmp/ipykernel_4467/1331416308.py:19: FutureWarning: The behavior of DataFrame concatenation with empty or all-NA entries is deprecated. In a future version, this will no longer exclude empty or all-NA columns when determining the result dtypes. To retain the old behavior, exclude the relevant entries before the concat operation.\n",
      "  final_df = pd.concat([final_df, df])\n"
     ]
    },
    {
     "name": "stdout",
     "output_type": "stream",
     "text": [
      "Took 0.48348259925842285 seconds to finish count number 25\n",
      "Processing Abdul Jeelani...\n",
      "Took 0.5856237411499023 seconds to finish count number 26\n",
      "Processing Chris Jefferies...\n",
      "Took 0.5465152263641357 seconds to finish count number 27\n",
      "Processing Othyus Jeffers...\n",
      "Took 0.4736356735229492 seconds to finish count number 28\n",
      "Processing Al Jefferson...\n",
      "Took 0.41414952278137207 seconds to finish count number 29\n",
      "Processing Amile Jefferson...\n",
      "Took 1.9703283309936523 seconds to finish count number 30\n",
      "Processing Cory Jefferson...\n",
      "Took 1.6421043872833252 seconds to finish count number 31\n",
      "Processing Dontell Jefferson...\n",
      "Took 1.6370325088500977 seconds to finish count number 32\n",
      "Processing Richard Jefferson...\n",
      "Took 2.6841609477996826 seconds to finish count number 33\n",
      "Processing DaQuan Jeffries...\n",
      "Took 2.5360589027404785 seconds to finish count number 34\n",
      "Processing Jared Jeffries...\n",
      "Took 2.8582684993743896 seconds to finish count number 35\n",
      "Processing Charles Jenkins...\n",
      "Took 1.5630974769592285 seconds to finish count number 36\n",
      "Processing Horace Jenkins...\n",
      "Took 1.7642076015472412 seconds to finish count number 37\n",
      "Processing John Jenkins...\n",
      "Took 1.8762860298156738 seconds to finish count number 38\n",
      "Processing Brandon Jennings...\n",
      "Took 2.774484395980835 seconds to finish count number 39\n",
      "Processing Keith Jennings...\n",
      "Took 3.1217854022979736 seconds to finish count number 40\n",
      "Processing Chris Jent...\n",
      "Took 1.585463047027588 seconds to finish count number 41\n",
      "Processing Les Jepsen...\n",
      "Took 1.2551722526550293 seconds to finish count number 42\n",
      "Processing Jonas Jerebko...\n",
      "Took 1.7303416728973389 seconds to finish count number 43\n",
      "Processing Ty Jerome...\n",
      "Took 0.6224477291107178 seconds to finish count number 44\n",
      "Processing Curtis Jerrells...\n"
     ]
    },
    {
     "name": "stderr",
     "output_type": "stream",
     "text": [
      "/tmp/ipykernel_4467/1331416308.py:19: FutureWarning: The behavior of DataFrame concatenation with empty or all-NA entries is deprecated. In a future version, this will no longer exclude empty or all-NA columns when determining the result dtypes. To retain the old behavior, exclude the relevant entries before the concat operation.\n",
      "  final_df = pd.concat([final_df, df])\n"
     ]
    },
    {
     "name": "stdout",
     "output_type": "stream",
     "text": [
      "Took 4.324501276016235 seconds to finish count number 45\n",
      "Processing Grant Jerrett...\n",
      "Took 2.738166570663452 seconds to finish count number 46\n",
      "Processing Pooh Jeter...\n",
      "Took 1.6132256984710693 seconds to finish count number 47\n",
      "Processing Isaiah Joe...\n",
      "Took 0.5390830039978027 seconds to finish count number 48\n",
      "Processing Britton Johnsen...\n",
      "Took 2.978045701980591 seconds to finish count number 49\n",
      "Processing Alexander Johnson...\n",
      "Took 2.5506248474121094 seconds to finish count number 50\n",
      "Processing Alize Johnson...\n",
      "Took 2.0572524070739746 seconds to finish count number 51\n",
      "Processing Amir Johnson...\n",
      "Took 2.0632588863372803 seconds to finish count number 52\n",
      "Processing Andy Johnson...\n"
     ]
    },
    {
     "name": "stderr",
     "output_type": "stream",
     "text": [
      "/tmp/ipykernel_4467/1331416308.py:19: FutureWarning: The behavior of DataFrame concatenation with empty or all-NA entries is deprecated. In a future version, this will no longer exclude empty or all-NA columns when determining the result dtypes. To retain the old behavior, exclude the relevant entries before the concat operation.\n",
      "  final_df = pd.concat([final_df, df])\n"
     ]
    },
    {
     "name": "stdout",
     "output_type": "stream",
     "text": [
      "Took 4.6653783321380615 seconds to finish count number 53\n",
      "Processing Anthony Johnson...\n",
      "Took 2.552659749984741 seconds to finish count number 54\n",
      "Processing Armon Johnson...\n",
      "Took 2.4039716720581055 seconds to finish count number 55\n",
      "Processing Arnie Johnson...\n"
     ]
    },
    {
     "name": "stderr",
     "output_type": "stream",
     "text": [
      "/tmp/ipykernel_4467/1331416308.py:19: FutureWarning: The behavior of DataFrame concatenation with empty or all-NA entries is deprecated. In a future version, this will no longer exclude empty or all-NA columns when determining the result dtypes. To retain the old behavior, exclude the relevant entries before the concat operation.\n",
      "  final_df = pd.concat([final_df, df])\n"
     ]
    },
    {
     "name": "stdout",
     "output_type": "stream",
     "text": [
      "Took 1.7290806770324707 seconds to finish count number 56\n",
      "Processing Avery Johnson...\n",
      "Took 1.8040895462036133 seconds to finish count number 57\n",
      "Processing BJ Johnson...\n",
      "Took 1.6399798393249512 seconds to finish count number 58\n",
      "Processing Brice Johnson...\n",
      "Took 1.6539933681488037 seconds to finish count number 59\n",
      "Processing Buck Johnson...\n",
      "Took 2.484215259552002 seconds to finish count number 60\n",
      "Processing Cameron Johnson...\n",
      "Took 0.674302339553833 seconds to finish count number 61\n",
      "Processing Carldell Johnson...\n",
      "Took 2.4288957118988037 seconds to finish count number 62\n",
      "Processing Charlie Johnson...\n"
     ]
    },
    {
     "name": "stderr",
     "output_type": "stream",
     "text": [
      "/tmp/ipykernel_4467/1331416308.py:19: FutureWarning: The behavior of DataFrame concatenation with empty or all-NA entries is deprecated. In a future version, this will no longer exclude empty or all-NA columns when determining the result dtypes. To retain the old behavior, exclude the relevant entries before the concat operation.\n",
      "  final_df = pd.concat([final_df, df])\n"
     ]
    },
    {
     "name": "stdout",
     "output_type": "stream",
     "text": [
      "Took 1.3581476211547852 seconds to finish count number 63\n",
      "Processing Chris Johnson...\n",
      "Took 2.4892232418060303 seconds to finish count number 64\n",
      "Processing Chris Johnson...\n",
      "Took 1.874164342880249 seconds to finish count number 65\n",
      "Processing Clay Johnson...\n",
      "Took 1.612379550933838 seconds to finish count number 66\n",
      "Processing Clemon Johnson...\n",
      "Took 1.8368418216705322 seconds to finish count number 67\n",
      "Processing Dakari Johnson...\n",
      "Took 4.630030870437622 seconds to finish count number 68\n",
      "Processing Darryl Johnson...\n",
      "Took 1.8043591976165771 seconds to finish count number 69\n",
      "Processing Dave Johnson...\n",
      "Took 1.433107614517212 seconds to finish count number 70\n",
      "Processing David Johnson...\n"
     ]
    },
    {
     "name": "stderr",
     "output_type": "stream",
     "text": [
      "/tmp/ipykernel_4467/1331416308.py:19: FutureWarning: The behavior of DataFrame concatenation with empty or all-NA entries is deprecated. In a future version, this will no longer exclude empty or all-NA columns when determining the result dtypes. To retain the old behavior, exclude the relevant entries before the concat operation.\n",
      "  final_df = pd.concat([final_df, df])\n"
     ]
    },
    {
     "name": "stdout",
     "output_type": "stream",
     "text": [
      "Took 4.10999321937561 seconds to finish count number 71\n",
      "Processing David Johnson...\n",
      "Took 1.530935525894165 seconds to finish count number 72\n",
      "Processing DeMarco Johnson...\n",
      "Took 2.393794298171997 seconds to finish count number 73\n",
      "Processing Dennis Johnson...\n",
      "Took 2.405461311340332 seconds to finish count number 74\n",
      "Processing DerMarr Johnson...\n",
      "Took 2.353391647338867 seconds to finish count number 75\n",
      "Processing Eddie Johnson...\n",
      "Took 2.2726669311523438 seconds to finish count number 76\n",
      "Processing Eddie Johnson...\n",
      "Took 1.534114122390747 seconds to finish count number 77\n",
      "Processing Eric Johnson...\n",
      "Took 3.8010153770446777 seconds to finish count number 78\n",
      "Processing Ervin Johnson...\n",
      "Took 1.706233263015747 seconds to finish count number 79\n",
      "Processing Frank Johnson...\n",
      "Took 2.459885835647583 seconds to finish count number 80\n",
      "Processing George Johnson...\n"
     ]
    },
    {
     "name": "stderr",
     "output_type": "stream",
     "text": [
      "/tmp/ipykernel_4467/1331416308.py:19: FutureWarning: The behavior of DataFrame concatenation with empty or all-NA entries is deprecated. In a future version, this will no longer exclude empty or all-NA columns when determining the result dtypes. To retain the old behavior, exclude the relevant entries before the concat operation.\n",
      "  final_df = pd.concat([final_df, df])\n"
     ]
    },
    {
     "name": "stdout",
     "output_type": "stream",
     "text": [
      "Took 1.6926534175872803 seconds to finish count number 81\n",
      "Processing George Johnson...\n",
      "Took 2.427989959716797 seconds to finish count number 82\n",
      "Processing George Johnson...\n",
      "Took 1.936418056488037 seconds to finish count number 83\n",
      "Processing Gus Johnson...\n"
     ]
    },
    {
     "name": "stderr",
     "output_type": "stream",
     "text": [
      "/tmp/ipykernel_4467/1331416308.py:19: FutureWarning: The behavior of DataFrame concatenation with empty or all-NA entries is deprecated. In a future version, this will no longer exclude empty or all-NA columns when determining the result dtypes. To retain the old behavior, exclude the relevant entries before the concat operation.\n",
      "  final_df = pd.concat([final_df, df])\n"
     ]
    },
    {
     "name": "stdout",
     "output_type": "stream",
     "text": [
      "Took 1.515956163406372 seconds to finish count number 84\n",
      "Processing Harold Johnson...\n"
     ]
    },
    {
     "name": "stderr",
     "output_type": "stream",
     "text": [
      "/tmp/ipykernel_4467/1331416308.py:19: FutureWarning: The behavior of DataFrame concatenation with empty or all-NA entries is deprecated. In a future version, this will no longer exclude empty or all-NA columns when determining the result dtypes. To retain the old behavior, exclude the relevant entries before the concat operation.\n",
      "  final_df = pd.concat([final_df, df])\n"
     ]
    },
    {
     "name": "stdout",
     "output_type": "stream",
     "text": [
      "Took 2.257636070251465 seconds to finish count number 85\n",
      "Processing Ivan Johnson...\n",
      "Took 1.4249563217163086 seconds to finish count number 86\n",
      "Processing JaJuan Johnson...\n",
      "Took 1.898026943206787 seconds to finish count number 87\n",
      "Processing Jalen Johnson...\n",
      "Took 0.558729887008667 seconds to finish count number 88\n",
      "Processing James Johnson...\n",
      "Took 0.5634846687316895 seconds to finish count number 89\n",
      "Processing Joe Johnson...\n",
      "Took 2.0006539821624756 seconds to finish count number 90\n",
      "Processing John Johnson...\n",
      "Took 4.813929080963135 seconds to finish count number 91\n",
      "Processing Kannard Johnson...\n",
      "Took 1.7357738018035889 seconds to finish count number 92\n",
      "Processing Keldon Johnson...\n",
      "Took 1.5382366180419922 seconds to finish count number 93\n",
      "Processing Ken Johnson...\n",
      "Took 2.380220890045166 seconds to finish count number 94\n",
      "Processing Ken Johnson...\n"
     ]
    },
    {
     "name": "stderr",
     "output_type": "stream",
     "text": [
      "/tmp/ipykernel_4467/1331416308.py:19: FutureWarning: The behavior of DataFrame concatenation with empty or all-NA entries is deprecated. In a future version, this will no longer exclude empty or all-NA columns when determining the result dtypes. To retain the old behavior, exclude the relevant entries before the concat operation.\n",
      "  final_df = pd.concat([final_df, df])\n"
     ]
    },
    {
     "name": "stdout",
     "output_type": "stream",
     "text": [
      "Took 1.7515907287597656 seconds to finish count number 95\n",
      "Processing Keon Johnson...\n",
      "Took 0.5815050601959229 seconds to finish count number 96\n",
      "Processing Kevin Johnson...\n",
      "Took 1.5780138969421387 seconds to finish count number 97\n",
      "Processing Keyontae Johnson...\n",
      "Took 0.5674333572387695 seconds to finish count number 98\n",
      "Processing Larry Johnson...\n",
      "Took 4.611421823501587 seconds to finish count number 99\n",
      "collecting chunk 2200 through 2300\n",
      "start point = 2200\n",
      "Processing Larry Johnson...\n",
      "Took 2.6580188274383545 seconds to finish count number 0\n",
      "Processing Lee Johnson...\n",
      "Took 4.547337770462036 seconds to finish count number 1\n",
      "Processing Linton Johnson...\n"
     ]
    },
    {
     "name": "stderr",
     "output_type": "stream",
     "text": [
      "/tmp/ipykernel_4467/1331416308.py:19: FutureWarning: The behavior of DataFrame concatenation with empty or all-NA entries is deprecated. In a future version, this will no longer exclude empty or all-NA columns when determining the result dtypes. To retain the old behavior, exclude the relevant entries before the concat operation.\n",
      "  final_df = pd.concat([final_df, df])\n"
     ]
    },
    {
     "name": "stdout",
     "output_type": "stream",
     "text": [
      "Took 1.5873467922210693 seconds to finish count number 2\n",
      "Processing Lynbert Johnson...\n"
     ]
    },
    {
     "name": "stderr",
     "output_type": "stream",
     "text": [
      "/tmp/ipykernel_4467/1331416308.py:19: FutureWarning: The behavior of DataFrame concatenation with empty or all-NA entries is deprecated. In a future version, this will no longer exclude empty or all-NA columns when determining the result dtypes. To retain the old behavior, exclude the relevant entries before the concat operation.\n",
      "  final_df = pd.concat([final_df, df])\n"
     ]
    },
    {
     "name": "stdout",
     "output_type": "stream",
     "text": [
      "Took 1.4544219970703125 seconds to finish count number 3\n",
      "Processing Magic Johnson...\n",
      "Took 1.8534786701202393 seconds to finish count number 4\n",
      "Processing Marques Johnson...\n",
      "Took 2.462610960006714 seconds to finish count number 5\n",
      "Processing Mickey Johnson...\n",
      "Took 4.1628258228302 seconds to finish count number 6\n",
      "Processing Neil Johnson...\n"
     ]
    },
    {
     "name": "stderr",
     "output_type": "stream",
     "text": [
      "/tmp/ipykernel_4467/1331416308.py:19: FutureWarning: The behavior of DataFrame concatenation with empty or all-NA entries is deprecated. In a future version, this will no longer exclude empty or all-NA columns when determining the result dtypes. To retain the old behavior, exclude the relevant entries before the concat operation.\n",
      "  final_df = pd.concat([final_df, df])\n"
     ]
    },
    {
     "name": "stdout",
     "output_type": "stream",
     "text": [
      "Took 3.019216775894165 seconds to finish count number 7\n",
      "Processing Nick Johnson...\n",
      "Took 1.6167817115783691 seconds to finish count number 8\n",
      "Processing Ollie Johnson...\n",
      "Took 2.757955312728882 seconds to finish count number 9\n",
      "Processing Omari Johnson...\n",
      "Took 1.9240729808807373 seconds to finish count number 10\n",
      "Processing Orlando Johnson...\n",
      "Took 2.690525531768799 seconds to finish count number 11\n",
      "Processing Reggie Johnson...\n",
      "Took 1.738983392715454 seconds to finish count number 12\n",
      "Processing Rich Johnson...\n"
     ]
    },
    {
     "name": "stderr",
     "output_type": "stream",
     "text": [
      "/tmp/ipykernel_4467/1331416308.py:19: FutureWarning: The behavior of DataFrame concatenation with empty or all-NA entries is deprecated. In a future version, this will no longer exclude empty or all-NA columns when determining the result dtypes. To retain the old behavior, exclude the relevant entries before the concat operation.\n",
      "  final_df = pd.concat([final_df, df])\n"
     ]
    },
    {
     "name": "stdout",
     "output_type": "stream",
     "text": [
      "Took 2.472043514251709 seconds to finish count number 13\n",
      "Processing Ron Johnson...\n"
     ]
    },
    {
     "name": "stderr",
     "output_type": "stream",
     "text": [
      "/tmp/ipykernel_4467/1331416308.py:19: FutureWarning: The behavior of DataFrame concatenation with empty or all-NA entries is deprecated. In a future version, this will no longer exclude empty or all-NA columns when determining the result dtypes. To retain the old behavior, exclude the relevant entries before the concat operation.\n",
      "  final_df = pd.concat([final_df, df])\n"
     ]
    },
    {
     "name": "stdout",
     "output_type": "stream",
     "text": [
      "Took 1.903759241104126 seconds to finish count number 14\n",
      "Processing Stanley Johnson...\n",
      "Took 2.5584030151367188 seconds to finish count number 15\n",
      "Processing Steffond Johnson...\n",
      "Took 5.527924299240112 seconds to finish count number 16\n",
      "Processing Steve Johnson...\n",
      "Took 1.579524278640747 seconds to finish count number 17\n",
      "Processing Trey Johnson...\n",
      "Took 2.644995927810669 seconds to finish count number 18\n",
      "Processing Tyler Johnson...\n",
      "Took 2.4582972526550293 seconds to finish count number 19\n",
      "Processing Vinnie Johnson...\n",
      "Took 2.6371078491210938 seconds to finish count number 20\n",
      "Processing Wesley Johnson...\n",
      "Took 1.437845230102539 seconds to finish count number 21\n",
      "Processing Darius Johnson-Odom...\n",
      "Took 1.4594779014587402 seconds to finish count number 22\n",
      "Processing Nate Johnston...\n",
      "Took 4.582176685333252 seconds to finish count number 23\n",
      "Processing Neil Johnston...\n"
     ]
    },
    {
     "name": "stderr",
     "output_type": "stream",
     "text": [
      "/tmp/ipykernel_4467/1331416308.py:19: FutureWarning: The behavior of DataFrame concatenation with empty or all-NA entries is deprecated. In a future version, this will no longer exclude empty or all-NA columns when determining the result dtypes. To retain the old behavior, exclude the relevant entries before the concat operation.\n",
      "  final_df = pd.concat([final_df, df])\n"
     ]
    },
    {
     "name": "stdout",
     "output_type": "stream",
     "text": [
      "Took 1.5583574771881104 seconds to finish count number 24\n",
      "Processing Jim Johnstone...\n",
      "Took 2.462373971939087 seconds to finish count number 25\n",
      "Processing Nikola Jokic...\n",
      "Took 0.6200151443481445 seconds to finish count number 26\n",
      "Processing Howie Jolliff...\n"
     ]
    },
    {
     "name": "stderr",
     "output_type": "stream",
     "text": [
      "/tmp/ipykernel_4467/1331416308.py:19: FutureWarning: The behavior of DataFrame concatenation with empty or all-NA entries is deprecated. In a future version, this will no longer exclude empty or all-NA columns when determining the result dtypes. To retain the old behavior, exclude the relevant entries before the concat operation.\n",
      "  final_df = pd.concat([final_df, df])\n"
     ]
    },
    {
     "name": "stdout",
     "output_type": "stream",
     "text": [
      "Took 1.5041310787200928 seconds to finish count number 27\n",
      "Processing Alvin Jones...\n",
      "Took 1.4281063079833984 seconds to finish count number 28\n",
      "Processing Anthony Jones...\n",
      "Took 2.2519071102142334 seconds to finish count number 29\n",
      "Processing Askia Jones...\n",
      "Took 2.292672634124756 seconds to finish count number 30\n",
      "Processing Bill Jones...\n",
      "Took 2.46462082862854 seconds to finish count number 31\n",
      "Processing Bobby Jones...\n",
      "Took 1.6106841564178467 seconds to finish count number 32\n",
      "Processing Bobby Jones...\n",
      "Took 1.6479878425598145 seconds to finish count number 33\n",
      "Processing Caldwell Jones...\n",
      "Took 1.8432252407073975 seconds to finish count number 34\n",
      "Processing Carlik Jones...\n",
      "Took 1.4618315696716309 seconds to finish count number 35\n",
      "Processing Charles Jones...\n",
      "Took 1.9145081043243408 seconds to finish count number 36\n",
      "Processing Charles Jones...\n",
      "Took 2.0692808628082275 seconds to finish count number 37\n",
      "Processing Charles R. Jones...\n",
      "Took 1.6916303634643555 seconds to finish count number 38\n",
      "Processing Colby Jones...\n",
      "Took 0.7194201946258545 seconds to finish count number 39\n",
      "Processing Dahntay Jones...\n",
      "Took 1.6406381130218506 seconds to finish count number 40\n",
      "Processing Damian Jones...\n",
      "Took 0.6140971183776855 seconds to finish count number 41\n",
      "Processing Damon Jones...\n",
      "Took 1.7435033321380615 seconds to finish count number 42\n",
      "Processing DeQuan Jones...\n",
      "Took 2.381155252456665 seconds to finish count number 43\n",
      "Processing Dominique Jones...\n",
      "Took 1.624455213546753 seconds to finish count number 44\n",
      "Processing Dontae' Jones...\n",
      "Took 1.7277727127075195 seconds to finish count number 45\n",
      "Processing Dwayne Jones...\n",
      "Took 1.7426502704620361 seconds to finish count number 46\n",
      "Processing Dwight Jones...\n",
      "Took 1.7323627471923828 seconds to finish count number 47\n",
      "Processing Earl Jones...\n"
     ]
    },
    {
     "name": "stderr",
     "output_type": "stream",
     "text": [
      "/tmp/ipykernel_4467/1331416308.py:19: FutureWarning: The behavior of DataFrame concatenation with empty or all-NA entries is deprecated. In a future version, this will no longer exclude empty or all-NA columns when determining the result dtypes. To retain the old behavior, exclude the relevant entries before the concat operation.\n",
      "  final_df = pd.concat([final_df, df])\n"
     ]
    },
    {
     "name": "stdout",
     "output_type": "stream",
     "text": [
      "Took 2.179277181625366 seconds to finish count number 48\n",
      "Processing Eddie Jones...\n",
      "Took 1.5622787475585938 seconds to finish count number 49\n",
      "Processing Edgar Jones...\n",
      "Took 1.3814866542816162 seconds to finish count number 50\n",
      "Processing Fred Jones...\n",
      "Took 1.539421796798706 seconds to finish count number 51\n",
      "Processing Herbert Jones...\n",
      "Took 0.4580368995666504 seconds to finish count number 52\n",
      "Processing Jake Jones...\n"
     ]
    },
    {
     "name": "stderr",
     "output_type": "stream",
     "text": [
      "/tmp/ipykernel_4467/1331416308.py:19: FutureWarning: The behavior of DataFrame concatenation with empty or all-NA entries is deprecated. In a future version, this will no longer exclude empty or all-NA columns when determining the result dtypes. To retain the old behavior, exclude the relevant entries before the concat operation.\n",
      "  final_df = pd.concat([final_df, df])\n"
     ]
    },
    {
     "name": "stdout",
     "output_type": "stream",
     "text": [
      "Took 1.5232815742492676 seconds to finish count number 53\n",
      "Processing Jalen Jones...\n",
      "Took 2.521284341812134 seconds to finish count number 54\n",
      "Processing James Jones...\n",
      "Took 1.7781095504760742 seconds to finish count number 55\n",
      "Processing Jemerrio Jones...\n",
      "Took 2.104926347732544 seconds to finish count number 56\n",
      "Processing Jimmy Jones...\n"
     ]
    },
    {
     "name": "stderr",
     "output_type": "stream",
     "text": [
      "/tmp/ipykernel_4467/1331416308.py:19: FutureWarning: The behavior of DataFrame concatenation with empty or all-NA entries is deprecated. In a future version, this will no longer exclude empty or all-NA columns when determining the result dtypes. To retain the old behavior, exclude the relevant entries before the concat operation.\n",
      "  final_df = pd.concat([final_df, df])\n"
     ]
    },
    {
     "name": "stdout",
     "output_type": "stream",
     "text": [
      "Took 4.231203556060791 seconds to finish count number 57\n",
      "Processing Johnny Jones...\n"
     ]
    },
    {
     "name": "stderr",
     "output_type": "stream",
     "text": [
      "/tmp/ipykernel_4467/1331416308.py:19: FutureWarning: The behavior of DataFrame concatenation with empty or all-NA entries is deprecated. In a future version, this will no longer exclude empty or all-NA columns when determining the result dtypes. To retain the old behavior, exclude the relevant entries before the concat operation.\n",
      "  final_df = pd.concat([final_df, df])\n"
     ]
    },
    {
     "name": "stdout",
     "output_type": "stream",
     "text": [
      "Took 1.6377055644989014 seconds to finish count number 58\n",
      "Processing Jumaine Jones...\n",
      "Took 1.5334742069244385 seconds to finish count number 59\n",
      "Processing K.C. Jones...\n"
     ]
    },
    {
     "name": "stderr",
     "output_type": "stream",
     "text": [
      "/tmp/ipykernel_4467/1331416308.py:19: FutureWarning: The behavior of DataFrame concatenation with empty or all-NA entries is deprecated. In a future version, this will no longer exclude empty or all-NA columns when determining the result dtypes. To retain the old behavior, exclude the relevant entries before the concat operation.\n",
      "  final_df = pd.concat([final_df, df])\n"
     ]
    },
    {
     "name": "stdout",
     "output_type": "stream",
     "text": [
      "Took 3.763543128967285 seconds to finish count number 60\n",
      "Processing Kai Jones...\n",
      "Took 3.396038770675659 seconds to finish count number 61\n",
      "Processing Kevin Jones...\n",
      "Took 2.573817014694214 seconds to finish count number 62\n",
      "Processing Larry Jones...\n"
     ]
    },
    {
     "name": "stderr",
     "output_type": "stream",
     "text": [
      "/tmp/ipykernel_4467/1331416308.py:19: FutureWarning: The behavior of DataFrame concatenation with empty or all-NA entries is deprecated. In a future version, this will no longer exclude empty or all-NA columns when determining the result dtypes. To retain the old behavior, exclude the relevant entries before the concat operation.\n",
      "  final_df = pd.concat([final_df, df])\n"
     ]
    },
    {
     "name": "stdout",
     "output_type": "stream",
     "text": [
      "Took 1.5066132545471191 seconds to finish count number 63\n",
      "Processing Major Jones...\n",
      "Took 2.481938123703003 seconds to finish count number 64\n",
      "Processing Mark Jones...\n",
      "Took 1.3261382579803467 seconds to finish count number 65\n",
      "Processing Mark Jones...\n",
      "Took 2.457958936691284 seconds to finish count number 66\n",
      "Processing Mason Jones...\n",
      "Took 1.4433858394622803 seconds to finish count number 67\n",
      "Processing Nick Jones...\n"
     ]
    },
    {
     "name": "stderr",
     "output_type": "stream",
     "text": [
      "/tmp/ipykernel_4467/1331416308.py:19: FutureWarning: The behavior of DataFrame concatenation with empty or all-NA entries is deprecated. In a future version, this will no longer exclude empty or all-NA columns when determining the result dtypes. To retain the old behavior, exclude the relevant entries before the concat operation.\n",
      "  final_df = pd.concat([final_df, df])\n"
     ]
    },
    {
     "name": "stdout",
     "output_type": "stream",
     "text": [
      "Took 3.271395206451416 seconds to finish count number 68\n",
      "Processing Ozell Jones...\n",
      "Took 1.4395129680633545 seconds to finish count number 69\n",
      "Processing Popeye Jones...\n",
      "Took 1.6029648780822754 seconds to finish count number 70\n",
      "Processing Rich Jones...\n"
     ]
    },
    {
     "name": "stderr",
     "output_type": "stream",
     "text": [
      "/tmp/ipykernel_4467/1331416308.py:19: FutureWarning: The behavior of DataFrame concatenation with empty or all-NA entries is deprecated. In a future version, this will no longer exclude empty or all-NA columns when determining the result dtypes. To retain the old behavior, exclude the relevant entries before the concat operation.\n",
      "  final_df = pd.concat([final_df, df])\n"
     ]
    },
    {
     "name": "stdout",
     "output_type": "stream",
     "text": [
      "Took 1.3420507907867432 seconds to finish count number 71\n",
      "Processing Robin Jones...\n"
     ]
    },
    {
     "name": "stderr",
     "output_type": "stream",
     "text": [
      "/tmp/ipykernel_4467/1331416308.py:19: FutureWarning: The behavior of DataFrame concatenation with empty or all-NA entries is deprecated. In a future version, this will no longer exclude empty or all-NA columns when determining the result dtypes. To retain the old behavior, exclude the relevant entries before the concat operation.\n",
      "  final_df = pd.concat([final_df, df])\n"
     ]
    },
    {
     "name": "stdout",
     "output_type": "stream",
     "text": [
      "Took 2.3444948196411133 seconds to finish count number 72\n",
      "Processing Sam Jones...\n"
     ]
    },
    {
     "name": "stderr",
     "output_type": "stream",
     "text": [
      "/tmp/ipykernel_4467/1331416308.py:19: FutureWarning: The behavior of DataFrame concatenation with empty or all-NA entries is deprecated. In a future version, this will no longer exclude empty or all-NA columns when determining the result dtypes. To retain the old behavior, exclude the relevant entries before the concat operation.\n",
      "  final_df = pd.concat([final_df, df])\n"
     ]
    },
    {
     "name": "stdout",
     "output_type": "stream",
     "text": [
      "Took 1.8474297523498535 seconds to finish count number 73\n",
      "Processing Shelton Jones...\n",
      "Took 2.4859681129455566 seconds to finish count number 74\n",
      "Processing Solomon Jones...\n",
      "Took 2.1164419651031494 seconds to finish count number 75\n",
      "Processing Steve Jones...\n"
     ]
    },
    {
     "name": "stderr",
     "output_type": "stream",
     "text": [
      "/tmp/ipykernel_4467/1331416308.py:19: FutureWarning: The behavior of DataFrame concatenation with empty or all-NA entries is deprecated. In a future version, this will no longer exclude empty or all-NA columns when determining the result dtypes. To retain the old behavior, exclude the relevant entries before the concat operation.\n",
      "  final_df = pd.concat([final_df, df])\n"
     ]
    },
    {
     "name": "stdout",
     "output_type": "stream",
     "text": [
      "Took 1.549199104309082 seconds to finish count number 76\n",
      "Processing Terrence Jones...\n",
      "Took 1.7850253582000732 seconds to finish count number 77\n",
      "Processing Tre Jones...\n",
      "Took 1.4824144840240479 seconds to finish count number 78\n",
      "Processing Tyus Jones...\n",
      "Took 0.43541908264160156 seconds to finish count number 79\n",
      "Processing Wali Jones...\n"
     ]
    },
    {
     "name": "stderr",
     "output_type": "stream",
     "text": [
      "/tmp/ipykernel_4467/1331416308.py:19: FutureWarning: The behavior of DataFrame concatenation with empty or all-NA entries is deprecated. In a future version, this will no longer exclude empty or all-NA columns when determining the result dtypes. To retain the old behavior, exclude the relevant entries before the concat operation.\n",
      "  final_df = pd.concat([final_df, df])\n"
     ]
    },
    {
     "name": "stdout",
     "output_type": "stream",
     "text": [
      "Took 1.624356985092163 seconds to finish count number 80\n",
      "Processing Wallace Jones...\n"
     ]
    },
    {
     "name": "stderr",
     "output_type": "stream",
     "text": [
      "/tmp/ipykernel_4467/1331416308.py:19: FutureWarning: The behavior of DataFrame concatenation with empty or all-NA entries is deprecated. In a future version, this will no longer exclude empty or all-NA columns when determining the result dtypes. To retain the old behavior, exclude the relevant entries before the concat operation.\n",
      "  final_df = pd.concat([final_df, df])\n"
     ]
    },
    {
     "name": "stdout",
     "output_type": "stream",
     "text": [
      "Took 2.470479965209961 seconds to finish count number 81\n",
      "Processing Wil Jones...\n"
     ]
    },
    {
     "name": "stderr",
     "output_type": "stream",
     "text": [
      "/tmp/ipykernel_4467/1331416308.py:19: FutureWarning: The behavior of DataFrame concatenation with empty or all-NA entries is deprecated. In a future version, this will no longer exclude empty or all-NA columns when determining the result dtypes. To retain the old behavior, exclude the relevant entries before the concat operation.\n",
      "  final_df = pd.concat([final_df, df])\n"
     ]
    },
    {
     "name": "stdout",
     "output_type": "stream",
     "text": [
      "Took 1.6510488986968994 seconds to finish count number 82\n",
      "Processing Willie Jones...\n"
     ]
    },
    {
     "name": "stderr",
     "output_type": "stream",
     "text": [
      "/tmp/ipykernel_4467/1331416308.py:19: FutureWarning: The behavior of DataFrame concatenation with empty or all-NA entries is deprecated. In a future version, this will no longer exclude empty or all-NA columns when determining the result dtypes. To retain the old behavior, exclude the relevant entries before the concat operation.\n",
      "  final_df = pd.concat([final_df, df])\n"
     ]
    },
    {
     "name": "stdout",
     "output_type": "stream",
     "text": [
      "Took 2.0294320583343506 seconds to finish count number 83\n",
      "Processing Willie Jones...\n",
      "Took 3.197263717651367 seconds to finish count number 84\n",
      "Processing Perry Jones III...\n",
      "Took 2.643098831176758 seconds to finish count number 85\n",
      "Processing Derrick Jones Jr....\n",
      "Took 0.6123480796813965 seconds to finish count number 86\n",
      "Processing Adonis Jordan...\n",
      "Took 2.573298931121826 seconds to finish count number 87\n",
      "Processing DeAndre Jordan...\n",
      "Took 1.7029805183410645 seconds to finish count number 88\n",
      "Processing Eddie Jordan...\n",
      "Took 1.6922705173492432 seconds to finish count number 89\n",
      "Processing Jerome Jordan...\n",
      "Took 2.428816318511963 seconds to finish count number 90\n",
      "Processing Michael Jordan...\n",
      "Took 1.8142766952514648 seconds to finish count number 91\n",
      "Processing Reggie Jordan...\n",
      "Took 2.6945700645446777 seconds to finish count number 92\n",
      "Processing Thomas Jordan...\n",
      "Took 3.8649277687072754 seconds to finish count number 93\n",
      "Processing Walter Jordan...\n"
     ]
    },
    {
     "name": "stderr",
     "output_type": "stream",
     "text": [
      "/tmp/ipykernel_4467/1331416308.py:19: FutureWarning: The behavior of DataFrame concatenation with empty or all-NA entries is deprecated. In a future version, this will no longer exclude empty or all-NA columns when determining the result dtypes. To retain the old behavior, exclude the relevant entries before the concat operation.\n",
      "  final_df = pd.concat([final_df, df])\n"
     ]
    },
    {
     "name": "stdout",
     "output_type": "stream",
     "text": [
      "Took 2.2526144981384277 seconds to finish count number 94\n",
      "Processing Phil Jordon...\n"
     ]
    },
    {
     "name": "stderr",
     "output_type": "stream",
     "text": [
      "/tmp/ipykernel_4467/1331416308.py:19: FutureWarning: The behavior of DataFrame concatenation with empty or all-NA entries is deprecated. In a future version, this will no longer exclude empty or all-NA columns when determining the result dtypes. To retain the old behavior, exclude the relevant entries before the concat operation.\n",
      "  final_df = pd.concat([final_df, df])\n"
     ]
    },
    {
     "name": "stdout",
     "output_type": "stream",
     "text": [
      "Took 1.4592912197113037 seconds to finish count number 95\n",
      "Processing Johnny Jorgensen...\n"
     ]
    },
    {
     "name": "stderr",
     "output_type": "stream",
     "text": [
      "/tmp/ipykernel_4467/1331416308.py:19: FutureWarning: The behavior of DataFrame concatenation with empty or all-NA entries is deprecated. In a future version, this will no longer exclude empty or all-NA columns when determining the result dtypes. To retain the old behavior, exclude the relevant entries before the concat operation.\n",
      "  final_df = pd.concat([final_df, df])\n"
     ]
    },
    {
     "name": "stdout",
     "output_type": "stream",
     "text": [
      "Took 2.3306026458740234 seconds to finish count number 96\n",
      "Processing Noble Jorgensen...\n"
     ]
    },
    {
     "name": "stderr",
     "output_type": "stream",
     "text": [
      "/tmp/ipykernel_4467/1331416308.py:19: FutureWarning: The behavior of DataFrame concatenation with empty or all-NA entries is deprecated. In a future version, this will no longer exclude empty or all-NA columns when determining the result dtypes. To retain the old behavior, exclude the relevant entries before the concat operation.\n",
      "  final_df = pd.concat([final_df, df])\n"
     ]
    },
    {
     "name": "stdout",
     "output_type": "stream",
     "text": [
      "Took 2.456634521484375 seconds to finish count number 97\n",
      "Processing Roger Jorgensen...\n"
     ]
    },
    {
     "name": "stderr",
     "output_type": "stream",
     "text": [
      "/tmp/ipykernel_4467/1331416308.py:19: FutureWarning: The behavior of DataFrame concatenation with empty or all-NA entries is deprecated. In a future version, this will no longer exclude empty or all-NA columns when determining the result dtypes. To retain the old behavior, exclude the relevant entries before the concat operation.\n",
      "  final_df = pd.concat([final_df, df])\n"
     ]
    },
    {
     "name": "stdout",
     "output_type": "stream",
     "text": [
      "Took 4.815607309341431 seconds to finish count number 98\n",
      "Processing Cory Joseph...\n",
      "Took 3.0064096450805664 seconds to finish count number 99\n",
      "collecting chunk 2300 through 2400\n",
      "start point = 2300\n",
      "Processing Garth Joseph...\n",
      "Took 3.666862964630127 seconds to finish count number 0\n",
      "Processing Kris Joseph...\n",
      "Took 1.5260777473449707 seconds to finish count number 1\n",
      "Processing Yvon Joseph...\n"
     ]
    },
    {
     "name": "stderr",
     "output_type": "stream",
     "text": [
      "/tmp/ipykernel_4467/1331416308.py:19: FutureWarning: The behavior of DataFrame concatenation with empty or all-NA entries is deprecated. In a future version, this will no longer exclude empty or all-NA columns when determining the result dtypes. To retain the old behavior, exclude the relevant entries before the concat operation.\n",
      "  final_df = pd.concat([final_df, df])\n"
     ]
    },
    {
     "name": "stdout",
     "output_type": "stream",
     "text": [
      "Took 1.7428889274597168 seconds to finish count number 2\n",
      "Processing Nikola Jovic...\n",
      "Took 1.2307579517364502 seconds to finish count number 3\n",
      "Processing Jeff Judkins...\n",
      "Took 1.4150807857513428 seconds to finish count number 4\n",
      "Processing Johnny Juzang...\n",
      "Took 0.6997847557067871 seconds to finish count number 5\n",
      "Processing Mfiondu Kabengele...\n",
      "Took 1.868882417678833 seconds to finish count number 6\n",
      "Processing Edwin Kachan...\n"
     ]
    },
    {
     "name": "stderr",
     "output_type": "stream",
     "text": [
      "/tmp/ipykernel_4467/1331416308.py:19: FutureWarning: The behavior of DataFrame concatenation with empty or all-NA entries is deprecated. In a future version, this will no longer exclude empty or all-NA columns when determining the result dtypes. To retain the old behavior, exclude the relevant entries before the concat operation.\n",
      "  final_df = pd.concat([final_df, df])\n"
     ]
    },
    {
     "name": "stdout",
     "output_type": "stream",
     "text": [
      "Took 1.6562914848327637 seconds to finish count number 7\n",
      "Processing George Kaftan...\n"
     ]
    },
    {
     "name": "stderr",
     "output_type": "stream",
     "text": [
      "/tmp/ipykernel_4467/1331416308.py:19: FutureWarning: The behavior of DataFrame concatenation with empty or all-NA entries is deprecated. In a future version, this will no longer exclude empty or all-NA columns when determining the result dtypes. To retain the old behavior, exclude the relevant entries before the concat operation.\n",
      "  final_df = pd.concat([final_df, df])\n"
     ]
    },
    {
     "name": "stdout",
     "output_type": "stream",
     "text": [
      "Took 2.517813205718994 seconds to finish count number 8\n",
      "Processing Ed Kalafat...\n"
     ]
    },
    {
     "name": "stderr",
     "output_type": "stream",
     "text": [
      "/tmp/ipykernel_4467/1331416308.py:19: FutureWarning: The behavior of DataFrame concatenation with empty or all-NA entries is deprecated. In a future version, this will no longer exclude empty or all-NA columns when determining the result dtypes. To retain the old behavior, exclude the relevant entries before the concat operation.\n",
      "  final_df = pd.concat([final_df, df])\n"
     ]
    },
    {
     "name": "stdout",
     "output_type": "stream",
     "text": [
      "Took 1.5426149368286133 seconds to finish count number 9\n",
      "Processing Georgios Kalaitzakis...\n",
      "Took 1.9384207725524902 seconds to finish count number 10\n",
      "Processing Chris Kaman...\n",
      "Took 1.8677268028259277 seconds to finish count number 11\n",
      "Processing Frank Kaminsky...\n",
      "Took 1.9245994091033936 seconds to finish count number 12\n",
      "Processing Ralph Kaplowitz...\n"
     ]
    },
    {
     "name": "stderr",
     "output_type": "stream",
     "text": [
      "/tmp/ipykernel_4467/1331416308.py:19: FutureWarning: The behavior of DataFrame concatenation with empty or all-NA entries is deprecated. In a future version, this will no longer exclude empty or all-NA columns when determining the result dtypes. To retain the old behavior, exclude the relevant entries before the concat operation.\n",
      "  final_df = pd.concat([final_df, df])\n"
     ]
    },
    {
     "name": "stdout",
     "output_type": "stream",
     "text": [
      "Took 2.3521409034729004 seconds to finish count number 13\n",
      "Processing Jason Kapono...\n",
      "Took 2.7909598350524902 seconds to finish count number 14\n",
      "Processing Tony Kappen...\n"
     ]
    },
    {
     "name": "stderr",
     "output_type": "stream",
     "text": [
      "/tmp/ipykernel_4467/1331416308.py:19: FutureWarning: The behavior of DataFrame concatenation with empty or all-NA entries is deprecated. In a future version, this will no longer exclude empty or all-NA columns when determining the result dtypes. To retain the old behavior, exclude the relevant entries before the concat operation.\n",
      "  final_df = pd.concat([final_df, df])\n"
     ]
    },
    {
     "name": "stdout",
     "output_type": "stream",
     "text": [
      "Took 2.4595041275024414 seconds to finish count number 15\n",
      "Processing Sergey Karasev...\n",
      "Took 7.78042197227478 seconds to finish count number 16\n",
      "Processing Coby Karl...\n",
      "Took 2.4565930366516113 seconds to finish count number 17\n",
      "Processing George Karl...\n"
     ]
    },
    {
     "name": "stderr",
     "output_type": "stream",
     "text": [
      "/tmp/ipykernel_4467/1331416308.py:19: FutureWarning: The behavior of DataFrame concatenation with empty or all-NA entries is deprecated. In a future version, this will no longer exclude empty or all-NA columns when determining the result dtypes. To retain the old behavior, exclude the relevant entries before the concat operation.\n",
      "  final_df = pd.concat([final_df, df])\n"
     ]
    },
    {
     "name": "stdout",
     "output_type": "stream",
     "text": [
      "Took 3.457042694091797 seconds to finish count number 18\n",
      "Processing Ed Kasid...\n"
     ]
    },
    {
     "name": "stderr",
     "output_type": "stream",
     "text": [
      "/tmp/ipykernel_4467/1331416308.py:19: FutureWarning: The behavior of DataFrame concatenation with empty or all-NA entries is deprecated. In a future version, this will no longer exclude empty or all-NA columns when determining the result dtypes. To retain the old behavior, exclude the relevant entries before the concat operation.\n",
      "  final_df = pd.concat([final_df, df])\n"
     ]
    },
    {
     "name": "stdout",
     "output_type": "stream",
     "text": [
      "Took 1.459686040878296 seconds to finish count number 19\n",
      "Processing Mario Kasun...\n",
      "Took 1.5428378582000732 seconds to finish count number 20\n",
      "Processing Leo Katkaveck...\n"
     ]
    },
    {
     "name": "stderr",
     "output_type": "stream",
     "text": [
      "/tmp/ipykernel_4467/1331416308.py:19: FutureWarning: The behavior of DataFrame concatenation with empty or all-NA entries is deprecated. In a future version, this will no longer exclude empty or all-NA columns when determining the result dtypes. To retain the old behavior, exclude the relevant entries before the concat operation.\n",
      "  final_df = pd.concat([final_df, df])\n"
     ]
    },
    {
     "name": "stdout",
     "output_type": "stream",
     "text": [
      "Took 1.6575539112091064 seconds to finish count number 21\n",
      "Processing Bob Kauffman...\n"
     ]
    },
    {
     "name": "stderr",
     "output_type": "stream",
     "text": [
      "/tmp/ipykernel_4467/1331416308.py:19: FutureWarning: The behavior of DataFrame concatenation with empty or all-NA entries is deprecated. In a future version, this will no longer exclude empty or all-NA columns when determining the result dtypes. To retain the old behavior, exclude the relevant entries before the concat operation.\n",
      "  final_df = pd.concat([final_df, df])\n"
     ]
    },
    {
     "name": "stdout",
     "output_type": "stream",
     "text": [
      "Took 2.6148345470428467 seconds to finish count number 22\n",
      "Processing Sasha Kaun...\n",
      "Took 1.4302988052368164 seconds to finish count number 23\n",
      "Processing Wilbert Kautz...\n"
     ]
    },
    {
     "name": "stderr",
     "output_type": "stream",
     "text": [
      "/tmp/ipykernel_4467/1331416308.py:19: FutureWarning: The behavior of DataFrame concatenation with empty or all-NA entries is deprecated. In a future version, this will no longer exclude empty or all-NA columns when determining the result dtypes. To retain the old behavior, exclude the relevant entries before the concat operation.\n",
      "  final_df = pd.concat([final_df, df])\n"
     ]
    },
    {
     "name": "stdout",
     "output_type": "stream",
     "text": [
      "Took 1.785585880279541 seconds to finish count number 24\n",
      "Processing Clarence Kea...\n",
      "Took 1.4916789531707764 seconds to finish count number 25\n",
      "Processing Michael Kearns...\n"
     ]
    },
    {
     "name": "stderr",
     "output_type": "stream",
     "text": [
      "/tmp/ipykernel_4467/1331416308.py:19: FutureWarning: The behavior of DataFrame concatenation with empty or all-NA entries is deprecated. In a future version, this will no longer exclude empty or all-NA columns when determining the result dtypes. To retain the old behavior, exclude the relevant entries before the concat operation.\n",
      "  final_df = pd.concat([final_df, df])\n"
     ]
    },
    {
     "name": "stdout",
     "output_type": "stream",
     "text": [
      "Took 2.385082721710205 seconds to finish count number 26\n",
      "Processing Tommy Kearns...\n"
     ]
    },
    {
     "name": "stderr",
     "output_type": "stream",
     "text": [
      "/tmp/ipykernel_4467/1331416308.py:19: FutureWarning: The behavior of DataFrame concatenation with empty or all-NA entries is deprecated. In a future version, this will no longer exclude empty or all-NA columns when determining the result dtypes. To retain the old behavior, exclude the relevant entries before the concat operation.\n",
      "  final_df = pd.concat([final_df, df])\n"
     ]
    },
    {
     "name": "stdout",
     "output_type": "stream",
     "text": [
      "Took 2.450686454772949 seconds to finish count number 27\n",
      "Processing Adam Keefe...\n",
      "Took 1.7065424919128418 seconds to finish count number 28\n",
      "Processing Harold Keeling...\n"
     ]
    },
    {
     "name": "stderr",
     "output_type": "stream",
     "text": [
      "/tmp/ipykernel_4467/1331416308.py:19: FutureWarning: The behavior of DataFrame concatenation with empty or all-NA entries is deprecated. In a future version, this will no longer exclude empty or all-NA columns when determining the result dtypes. To retain the old behavior, exclude the relevant entries before the concat operation.\n",
      "  final_df = pd.concat([final_df, df])\n"
     ]
    },
    {
     "name": "stdout",
     "output_type": "stream",
     "text": [
      "Took 1.3416028022766113 seconds to finish count number 29\n",
      "Processing Trevor Keels...\n",
      "Took 1.461272954940796 seconds to finish count number 30\n",
      "Processing Ken Keller...\n"
     ]
    },
    {
     "name": "stderr",
     "output_type": "stream",
     "text": [
      "/tmp/ipykernel_4467/1331416308.py:19: FutureWarning: The behavior of DataFrame concatenation with empty or all-NA entries is deprecated. In a future version, this will no longer exclude empty or all-NA columns when determining the result dtypes. To retain the old behavior, exclude the relevant entries before the concat operation.\n",
      "  final_df = pd.concat([final_df, df])\n"
     ]
    },
    {
     "name": "stdout",
     "output_type": "stream",
     "text": [
      "Took 1.5564358234405518 seconds to finish count number 31\n",
      "Processing Rich Kelley...\n",
      "Took 2.299488067626953 seconds to finish count number 32\n",
      "Processing Clark Kellogg...\n",
      "Took 2.411698818206787 seconds to finish count number 33\n",
      "Processing Gerard Kelly...\n"
     ]
    },
    {
     "name": "stderr",
     "output_type": "stream",
     "text": [
      "/tmp/ipykernel_4467/1331416308.py:19: FutureWarning: The behavior of DataFrame concatenation with empty or all-NA entries is deprecated. In a future version, this will no longer exclude empty or all-NA columns when determining the result dtypes. To retain the old behavior, exclude the relevant entries before the concat operation.\n",
      "  final_df = pd.concat([final_df, df])\n"
     ]
    },
    {
     "name": "stdout",
     "output_type": "stream",
     "text": [
      "Took 1.812873125076294 seconds to finish count number 34\n",
      "Processing Ryan Kelly...\n",
      "Took 1.5414135456085205 seconds to finish count number 35\n",
      "Processing Tom Kelly...\n"
     ]
    },
    {
     "name": "stderr",
     "output_type": "stream",
     "text": [
      "/tmp/ipykernel_4467/1331416308.py:19: FutureWarning: The behavior of DataFrame concatenation with empty or all-NA entries is deprecated. In a future version, this will no longer exclude empty or all-NA columns when determining the result dtypes. To retain the old behavior, exclude the relevant entries before the concat operation.\n",
      "  final_df = pd.concat([final_df, df])\n"
     ]
    },
    {
     "name": "stdout",
     "output_type": "stream",
     "text": [
      "Took 2.633028745651245 seconds to finish count number 36\n",
      "Processing Greg Kelser...\n",
      "Took 1.5546362400054932 seconds to finish count number 37\n",
      "Processing Ben Kelso...\n"
     ]
    },
    {
     "name": "stderr",
     "output_type": "stream",
     "text": [
      "/tmp/ipykernel_4467/1331416308.py:19: FutureWarning: The behavior of DataFrame concatenation with empty or all-NA entries is deprecated. In a future version, this will no longer exclude empty or all-NA columns when determining the result dtypes. To retain the old behavior, exclude the relevant entries before the concat operation.\n",
      "  final_df = pd.concat([final_df, df])\n"
     ]
    },
    {
     "name": "stdout",
     "output_type": "stream",
     "text": [
      "Took 1.438758373260498 seconds to finish count number 38\n",
      "Processing Shawn Kemp...\n",
      "Took 1.5352983474731445 seconds to finish count number 39\n",
      "Processing Tim Kempton...\n",
      "Took 1.7384257316589355 seconds to finish count number 40\n",
      "Processing Frank Kendrick...\n"
     ]
    },
    {
     "name": "stderr",
     "output_type": "stream",
     "text": [
      "/tmp/ipykernel_4467/1331416308.py:19: FutureWarning: The behavior of DataFrame concatenation with empty or all-NA entries is deprecated. In a future version, this will no longer exclude empty or all-NA columns when determining the result dtypes. To retain the old behavior, exclude the relevant entries before the concat operation.\n",
      "  final_df = pd.concat([final_df, df])\n"
     ]
    },
    {
     "name": "stdout",
     "output_type": "stream",
     "text": [
      "Took 1.6450364589691162 seconds to finish count number 41\n",
      "Processing Luke Kennard...\n",
      "Took 0.6891465187072754 seconds to finish count number 42\n",
      "Processing D.J. Kennedy...\n",
      "Took 1.672828197479248 seconds to finish count number 43\n",
      "Processing Eugene Kennedy...\n"
     ]
    },
    {
     "name": "stderr",
     "output_type": "stream",
     "text": [
      "/tmp/ipykernel_4467/1331416308.py:19: FutureWarning: The behavior of DataFrame concatenation with empty or all-NA entries is deprecated. In a future version, this will no longer exclude empty or all-NA columns when determining the result dtypes. To retain the old behavior, exclude the relevant entries before the concat operation.\n",
      "  final_df = pd.concat([final_df, df])\n"
     ]
    },
    {
     "name": "stdout",
     "output_type": "stream",
     "text": [
      "Took 1.6336469650268555 seconds to finish count number 44\n",
      "Processing Joe Kennedy...\n"
     ]
    },
    {
     "name": "stderr",
     "output_type": "stream",
     "text": [
      "/tmp/ipykernel_4467/1331416308.py:19: FutureWarning: The behavior of DataFrame concatenation with empty or all-NA entries is deprecated. In a future version, this will no longer exclude empty or all-NA columns when determining the result dtypes. To retain the old behavior, exclude the relevant entries before the concat operation.\n",
      "  final_df = pd.concat([final_df, df])\n"
     ]
    },
    {
     "name": "stdout",
     "output_type": "stream",
     "text": [
      "Took 1.501051902770996 seconds to finish count number 45\n",
      "Processing William Kennedy...\n"
     ]
    },
    {
     "name": "stderr",
     "output_type": "stream",
     "text": [
      "/tmp/ipykernel_4467/1331416308.py:19: FutureWarning: The behavior of DataFrame concatenation with empty or all-NA entries is deprecated. In a future version, this will no longer exclude empty or all-NA columns when determining the result dtypes. To retain the old behavior, exclude the relevant entries before the concat operation.\n",
      "  final_df = pd.concat([final_df, df])\n"
     ]
    },
    {
     "name": "stdout",
     "output_type": "stream",
     "text": [
      "Took 1.9788973331451416 seconds to finish count number 46\n",
      "Processing Larry Kenon...\n",
      "Took 2.320045232772827 seconds to finish count number 47\n",
      "Processing Bill Kenville...\n"
     ]
    },
    {
     "name": "stderr",
     "output_type": "stream",
     "text": [
      "/tmp/ipykernel_4467/1331416308.py:19: FutureWarning: The behavior of DataFrame concatenation with empty or all-NA entries is deprecated. In a future version, this will no longer exclude empty or all-NA columns when determining the result dtypes. To retain the old behavior, exclude the relevant entries before the concat operation.\n",
      "  final_df = pd.concat([final_df, df])\n"
     ]
    },
    {
     "name": "stdout",
     "output_type": "stream",
     "text": [
      "Took 1.5404043197631836 seconds to finish count number 48\n",
      "Processing Jonathan Kerner...\n",
      "Took 1.4303207397460938 seconds to finish count number 49\n",
      "Processing Johnny Kerr...\n"
     ]
    },
    {
     "name": "stderr",
     "output_type": "stream",
     "text": [
      "/tmp/ipykernel_4467/1331416308.py:19: FutureWarning: The behavior of DataFrame concatenation with empty or all-NA entries is deprecated. In a future version, this will no longer exclude empty or all-NA columns when determining the result dtypes. To retain the old behavior, exclude the relevant entries before the concat operation.\n",
      "  final_df = pd.concat([final_df, df])\n"
     ]
    },
    {
     "name": "stdout",
     "output_type": "stream",
     "text": [
      "Took 2.5576093196868896 seconds to finish count number 50\n",
      "Processing Steve Kerr...\n",
      "Took 2.656115770339966 seconds to finish count number 51\n",
      "Processing Jack Kerris...\n"
     ]
    },
    {
     "name": "stderr",
     "output_type": "stream",
     "text": [
      "/tmp/ipykernel_4467/1331416308.py:19: FutureWarning: The behavior of DataFrame concatenation with empty or all-NA entries is deprecated. In a future version, this will no longer exclude empty or all-NA columns when determining the result dtypes. To retain the old behavior, exclude the relevant entries before the concat operation.\n",
      "  final_df = pd.concat([final_df, df])\n"
     ]
    },
    {
     "name": "stdout",
     "output_type": "stream",
     "text": [
      "Took 2.1916112899780273 seconds to finish count number 52\n",
      "Processing Jerome Kersey...\n",
      "Took 1.9103314876556396 seconds to finish count number 53\n",
      "Processing Alec Kessler...\n",
      "Took 1.637132167816162 seconds to finish count number 54\n",
      "Processing Walker Kessler...\n",
      "Took 0.5029680728912354 seconds to finish count number 55\n",
      "Processing Lari Ketner...\n",
      "Took 1.570878505706787 seconds to finish count number 56\n",
      "Processing Braxton Key...\n",
      "Took 2.545497417449951 seconds to finish count number 57\n",
      "Processing Randolph Keys...\n",
      "Took 2.1850452423095703 seconds to finish count number 58\n",
      "Processing Viktor Khryapa...\n",
      "Took 1.612490177154541 seconds to finish count number 59\n",
      "Processing Jason Kidd...\n",
      "Took 2.677799940109253 seconds to finish count number 60\n",
      "Processing Stanton Kidd...\n",
      "Took 1.3914108276367188 seconds to finish count number 61\n",
      "Processing Warren Kidd...\n",
      "Took 2.6745967864990234 seconds to finish count number 62\n",
      "Processing Michael Kidd-Gilchrist...\n",
      "Took 1.6488277912139893 seconds to finish count number 63\n",
      "Processing Irv Kiffin...\n"
     ]
    },
    {
     "name": "stderr",
     "output_type": "stream",
     "text": [
      "/tmp/ipykernel_4467/1331416308.py:19: FutureWarning: The behavior of DataFrame concatenation with empty or all-NA entries is deprecated. In a future version, this will no longer exclude empty or all-NA columns when determining the result dtypes. To retain the old behavior, exclude the relevant entries before the concat operation.\n",
      "  final_df = pd.concat([final_df, df])\n"
     ]
    },
    {
     "name": "stdout",
     "output_type": "stream",
     "text": [
      "Took 3.4902045726776123 seconds to finish count number 64\n",
      "Processing Jack Kiley...\n"
     ]
    },
    {
     "name": "stderr",
     "output_type": "stream",
     "text": [
      "/tmp/ipykernel_4467/1331416308.py:19: FutureWarning: The behavior of DataFrame concatenation with empty or all-NA entries is deprecated. In a future version, this will no longer exclude empty or all-NA columns when determining the result dtypes. To retain the old behavior, exclude the relevant entries before the concat operation.\n",
      "  final_df = pd.concat([final_df, df])\n"
     ]
    },
    {
     "name": "stdout",
     "output_type": "stream",
     "text": [
      "Took 1.61468505859375 seconds to finish count number 65\n",
      "Processing Ernie Killum...\n"
     ]
    },
    {
     "name": "stderr",
     "output_type": "stream",
     "text": [
      "/tmp/ipykernel_4467/1331416308.py:19: FutureWarning: The behavior of DataFrame concatenation with empty or all-NA entries is deprecated. In a future version, this will no longer exclude empty or all-NA columns when determining the result dtypes. To retain the old behavior, exclude the relevant entries before the concat operation.\n",
      "  final_df = pd.concat([final_df, df])\n"
     ]
    },
    {
     "name": "stdout",
     "output_type": "stream",
     "text": [
      "Took 2.6808478832244873 seconds to finish count number 66\n",
      "Processing Carl Kilpatrick...\n"
     ]
    },
    {
     "name": "stderr",
     "output_type": "stream",
     "text": [
      "/tmp/ipykernel_4467/1331416308.py:19: FutureWarning: The behavior of DataFrame concatenation with empty or all-NA entries is deprecated. In a future version, this will no longer exclude empty or all-NA columns when determining the result dtypes. To retain the old behavior, exclude the relevant entries before the concat operation.\n",
      "  final_df = pd.concat([final_df, df])\n"
     ]
    },
    {
     "name": "stdout",
     "output_type": "stream",
     "text": [
      "Took 1.7541840076446533 seconds to finish count number 67\n",
      "Processing Sean Kilpatrick...\n",
      "Took 3.33742618560791 seconds to finish count number 68\n",
      "Processing Toby Kimball...\n"
     ]
    },
    {
     "name": "stderr",
     "output_type": "stream",
     "text": [
      "/tmp/ipykernel_4467/1331416308.py:19: FutureWarning: The behavior of DataFrame concatenation with empty or all-NA entries is deprecated. In a future version, this will no longer exclude empty or all-NA columns when determining the result dtypes. To retain the old behavior, exclude the relevant entries before the concat operation.\n",
      "  final_df = pd.concat([final_df, df])\n"
     ]
    },
    {
     "name": "stdout",
     "output_type": "stream",
     "text": [
      "Took 1.6417067050933838 seconds to finish count number 69\n",
      "Processing Bo Kimble...\n",
      "Took 1.3541295528411865 seconds to finish count number 70\n",
      "Processing Stan Kimbrough...\n",
      "Took 1.6455984115600586 seconds to finish count number 71\n",
      "Processing Chad Kinch...\n"
     ]
    },
    {
     "name": "stderr",
     "output_type": "stream",
     "text": [
      "/tmp/ipykernel_4467/1331416308.py:19: FutureWarning: The behavior of DataFrame concatenation with empty or all-NA entries is deprecated. In a future version, this will no longer exclude empty or all-NA columns when determining the result dtypes. To retain the old behavior, exclude the relevant entries before the concat operation.\n",
      "  final_df = pd.concat([final_df, df])\n"
     ]
    },
    {
     "name": "stdout",
     "output_type": "stream",
     "text": [
      "Took 1.5409104824066162 seconds to finish count number 72\n",
      "Processing Albert King...\n",
      "Took 1.500220537185669 seconds to finish count number 73\n",
      "Processing Bernard King...\n",
      "Took 1.737821340560913 seconds to finish count number 74\n",
      "Processing Chris King...\n",
      "Took 1.6357369422912598 seconds to finish count number 75\n",
      "Processing Dan King...\n"
     ]
    },
    {
     "name": "stderr",
     "output_type": "stream",
     "text": [
      "/tmp/ipykernel_4467/1331416308.py:19: FutureWarning: The behavior of DataFrame concatenation with empty or all-NA entries is deprecated. In a future version, this will no longer exclude empty or all-NA columns when determining the result dtypes. To retain the old behavior, exclude the relevant entries before the concat operation.\n",
      "  final_df = pd.concat([final_df, df])\n"
     ]
    },
    {
     "name": "stdout",
     "output_type": "stream",
     "text": [
      "Took 2.593289375305176 seconds to finish count number 76\n",
      "Processing Frankie King...\n",
      "Took 1.327113389968872 seconds to finish count number 77\n",
      "Processing George King...\n"
     ]
    },
    {
     "name": "stderr",
     "output_type": "stream",
     "text": [
      "/tmp/ipykernel_4467/1331416308.py:19: FutureWarning: The behavior of DataFrame concatenation with empty or all-NA entries is deprecated. In a future version, this will no longer exclude empty or all-NA columns when determining the result dtypes. To retain the old behavior, exclude the relevant entries before the concat operation.\n",
      "  final_df = pd.concat([final_df, df])\n"
     ]
    },
    {
     "name": "stdout",
     "output_type": "stream",
     "text": [
      "Took 1.6107211112976074 seconds to finish count number 78\n",
      "Processing George King...\n",
      "Took 1.5377981662750244 seconds to finish count number 79\n",
      "Processing Gerard King...\n",
      "Took 1.5707268714904785 seconds to finish count number 80\n",
      "Processing Jim King...\n"
     ]
    },
    {
     "name": "stderr",
     "output_type": "stream",
     "text": [
      "/tmp/ipykernel_4467/1331416308.py:19: FutureWarning: The behavior of DataFrame concatenation with empty or all-NA entries is deprecated. In a future version, this will no longer exclude empty or all-NA columns when determining the result dtypes. To retain the old behavior, exclude the relevant entries before the concat operation.\n",
      "  final_df = pd.concat([final_df, df])\n"
     ]
    },
    {
     "name": "stdout",
     "output_type": "stream",
     "text": [
      "Took 3.5867340564727783 seconds to finish count number 81\n",
      "Processing Jimmy King...\n",
      "Took 2.6736397743225098 seconds to finish count number 82\n",
      "Processing Louis King...\n",
      "Took 2.842880964279175 seconds to finish count number 83\n",
      "Processing Maury King...\n"
     ]
    },
    {
     "name": "stderr",
     "output_type": "stream",
     "text": [
      "/tmp/ipykernel_4467/1331416308.py:19: FutureWarning: The behavior of DataFrame concatenation with empty or all-NA entries is deprecated. In a future version, this will no longer exclude empty or all-NA columns when determining the result dtypes. To retain the old behavior, exclude the relevant entries before the concat operation.\n",
      "  final_df = pd.concat([final_df, df])\n"
     ]
    },
    {
     "name": "stdout",
     "output_type": "stream",
     "text": [
      "Took 2.351881504058838 seconds to finish count number 84\n",
      "Processing Reggie King...\n",
      "Took 1.673295021057129 seconds to finish count number 85\n",
      "Processing Rich King...\n",
      "Took 2.4240758419036865 seconds to finish count number 86\n",
      "Processing Stacey King...\n",
      "Took 2.534355878829956 seconds to finish count number 87\n",
      "Processing Tom King...\n"
     ]
    },
    {
     "name": "stderr",
     "output_type": "stream",
     "text": [
      "/tmp/ipykernel_4467/1331416308.py:19: FutureWarning: The behavior of DataFrame concatenation with empty or all-NA entries is deprecated. In a future version, this will no longer exclude empty or all-NA columns when determining the result dtypes. To retain the old behavior, exclude the relevant entries before the concat operation.\n",
      "  final_df = pd.concat([final_df, df])\n"
     ]
    },
    {
     "name": "stdout",
     "output_type": "stream",
     "text": [
      "Took 2.459942102432251 seconds to finish count number 88\n",
      "Processing Bob Kinney...\n"
     ]
    },
    {
     "name": "stderr",
     "output_type": "stream",
     "text": [
      "/tmp/ipykernel_4467/1331416308.py:19: FutureWarning: The behavior of DataFrame concatenation with empty or all-NA entries is deprecated. In a future version, this will no longer exclude empty or all-NA columns when determining the result dtypes. To retain the old behavior, exclude the relevant entries before the concat operation.\n",
      "  final_df = pd.concat([final_df, df])\n"
     ]
    },
    {
     "name": "stdout",
     "output_type": "stream",
     "text": [
      "Took 2.5874407291412354 seconds to finish count number 89\n",
      "Processing Tarence Kinsey...\n",
      "Took 1.7097370624542236 seconds to finish count number 90\n",
      "Processing Andrei Kirilenko...\n",
      "Took 2.246969223022461 seconds to finish count number 91\n",
      "Processing Alex Kirk...\n",
      "Took 2.3803272247314453 seconds to finish count number 92\n",
      "Processing Walt Kirk...\n"
     ]
    },
    {
     "name": "stderr",
     "output_type": "stream",
     "text": [
      "/tmp/ipykernel_4467/1331416308.py:19: FutureWarning: The behavior of DataFrame concatenation with empty or all-NA entries is deprecated. In a future version, this will no longer exclude empty or all-NA columns when determining the result dtypes. To retain the old behavior, exclude the relevant entries before the concat operation.\n",
      "  final_df = pd.concat([final_df, df])\n"
     ]
    },
    {
     "name": "stdout",
     "output_type": "stream",
     "text": [
      "Took 1.7482101917266846 seconds to finish count number 93\n",
      "Processing Corey Kispert...\n",
      "Took 0.6122481822967529 seconds to finish count number 94\n",
      "Processing Doug Kistler...\n"
     ]
    },
    {
     "name": "stderr",
     "output_type": "stream",
     "text": [
      "/tmp/ipykernel_4467/1331416308.py:19: FutureWarning: The behavior of DataFrame concatenation with empty or all-NA entries is deprecated. In a future version, this will no longer exclude empty or all-NA columns when determining the result dtypes. To retain the old behavior, exclude the relevant entries before the concat operation.\n",
      "  final_df = pd.concat([final_df, df])\n"
     ]
    },
    {
     "name": "stdout",
     "output_type": "stream",
     "text": [
      "Took 1.9262073040008545 seconds to finish count number 95\n",
      "Processing Curtis Kitchen...\n",
      "Took 2.6859490871429443 seconds to finish count number 96\n",
      "Processing Greg Kite...\n",
      "Took 1.6331384181976318 seconds to finish count number 97\n",
      "Processing Kerry Kittles...\n",
      "Took 1.757352590560913 seconds to finish count number 98\n",
      "Processing Maxi Kleber...\n",
      "Took 0.5313551425933838 seconds to finish count number 99\n",
      "collecting chunk 2400 through 2500\n",
      "start point = 2400\n",
      "Processing Joe Kleine...\n",
      "Took 2.5148463249206543 seconds to finish count number 0\n",
      "Processing Linas Kleiza...\n",
      "Took 2.5332343578338623 seconds to finish count number 1\n",
      "Processing Leo Klier...\n"
     ]
    },
    {
     "name": "stderr",
     "output_type": "stream",
     "text": [
      "/tmp/ipykernel_4467/1331416308.py:19: FutureWarning: The behavior of DataFrame concatenation with empty or all-NA entries is deprecated. In a future version, this will no longer exclude empty or all-NA columns when determining the result dtypes. To retain the old behavior, exclude the relevant entries before the concat operation.\n",
      "  final_df = pd.concat([final_df, df])\n"
     ]
    },
    {
     "name": "stdout",
     "output_type": "stream",
     "text": [
      "Took 1.8786852359771729 seconds to finish count number 2\n",
      "Processing Herm Klotz...\n"
     ]
    },
    {
     "name": "stderr",
     "output_type": "stream",
     "text": [
      "/tmp/ipykernel_4467/1331416308.py:19: FutureWarning: The behavior of DataFrame concatenation with empty or all-NA entries is deprecated. In a future version, this will no longer exclude empty or all-NA columns when determining the result dtypes. To retain the old behavior, exclude the relevant entries before the concat operation.\n",
      "  final_df = pd.concat([final_df, df])\n"
     ]
    },
    {
     "name": "stdout",
     "output_type": "stream",
     "text": [
      "Took 3.4701128005981445 seconds to finish count number 3\n",
      "Processing Duane Klueh...\n"
     ]
    },
    {
     "name": "stderr",
     "output_type": "stream",
     "text": [
      "/tmp/ipykernel_4467/1331416308.py:19: FutureWarning: The behavior of DataFrame concatenation with empty or all-NA entries is deprecated. In a future version, this will no longer exclude empty or all-NA columns when determining the result dtypes. To retain the old behavior, exclude the relevant entries before the concat operation.\n",
      "  final_df = pd.concat([final_df, df])\n"
     ]
    },
    {
     "name": "stdout",
     "output_type": "stream",
     "text": [
      "Took 1.6097733974456787 seconds to finish count number 4\n",
      "Processing Billy Knight...\n",
      "Took 2.352945566177368 seconds to finish count number 5\n",
      "Processing Bob Knight...\n"
     ]
    },
    {
     "name": "stderr",
     "output_type": "stream",
     "text": [
      "/tmp/ipykernel_4467/1331416308.py:19: FutureWarning: The behavior of DataFrame concatenation with empty or all-NA entries is deprecated. In a future version, this will no longer exclude empty or all-NA columns when determining the result dtypes. To retain the old behavior, exclude the relevant entries before the concat operation.\n",
      "  final_df = pd.concat([final_df, df])\n"
     ]
    },
    {
     "name": "stdout",
     "output_type": "stream",
     "text": [
      "Took 3.030433416366577 seconds to finish count number 6\n",
      "Processing Brandin Knight...\n",
      "Took 1.6847271919250488 seconds to finish count number 7\n",
      "Processing Brandon Knight...\n",
      "Took 4.539546489715576 seconds to finish count number 8\n",
      "Processing Brevin Knight...\n",
      "Took 1.5952980518341064 seconds to finish count number 9\n",
      "Processing Nathan Knight...\n",
      "Took 1.6636202335357666 seconds to finish count number 10\n",
      "Processing Negele Knight...\n",
      "Took 1.6176705360412598 seconds to finish count number 11\n",
      "Processing Ron Knight...\n"
     ]
    },
    {
     "name": "stderr",
     "output_type": "stream",
     "text": [
      "/tmp/ipykernel_4467/1331416308.py:19: FutureWarning: The behavior of DataFrame concatenation with empty or all-NA entries is deprecated. In a future version, this will no longer exclude empty or all-NA columns when determining the result dtypes. To retain the old behavior, exclude the relevant entries before the concat operation.\n",
      "  final_df = pd.concat([final_df, df])\n"
     ]
    },
    {
     "name": "stdout",
     "output_type": "stream",
     "text": [
      "Took 1.5578584671020508 seconds to finish count number 12\n",
      "Processing Toby Knight...\n",
      "Took 2.6432433128356934 seconds to finish count number 13\n",
      "Processing Travis Knight...\n",
      "Took 2.552786350250244 seconds to finish count number 14\n",
      "Processing Lee Knorek...\n"
     ]
    },
    {
     "name": "stderr",
     "output_type": "stream",
     "text": [
      "/tmp/ipykernel_4467/1331416308.py:19: FutureWarning: The behavior of DataFrame concatenation with empty or all-NA entries is deprecated. In a future version, this will no longer exclude empty or all-NA columns when determining the result dtypes. To retain the old behavior, exclude the relevant entries before the concat operation.\n",
      "  final_df = pd.concat([final_df, df])\n"
     ]
    },
    {
     "name": "stdout",
     "output_type": "stream",
     "text": [
      "Took 2.251805067062378 seconds to finish count number 15\n",
      "Processing Dick Knostman...\n"
     ]
    },
    {
     "name": "stderr",
     "output_type": "stream",
     "text": [
      "/tmp/ipykernel_4467/1331416308.py:19: FutureWarning: The behavior of DataFrame concatenation with empty or all-NA entries is deprecated. In a future version, this will no longer exclude empty or all-NA columns when determining the result dtypes. To retain the old behavior, exclude the relevant entries before the concat operation.\n",
      "  final_df = pd.concat([final_df, df])\n"
     ]
    },
    {
     "name": "stdout",
     "output_type": "stream",
     "text": [
      "Took 2.768782615661621 seconds to finish count number 16\n",
      "Processing Rod Knowles...\n"
     ]
    },
    {
     "name": "stderr",
     "output_type": "stream",
     "text": [
      "/tmp/ipykernel_4467/1331416308.py:19: FutureWarning: The behavior of DataFrame concatenation with empty or all-NA entries is deprecated. In a future version, this will no longer exclude empty or all-NA columns when determining the result dtypes. To retain the old behavior, exclude the relevant entries before the concat operation.\n",
      "  final_df = pd.concat([final_df, df])\n"
     ]
    },
    {
     "name": "stdout",
     "output_type": "stream",
     "text": [
      "Took 3.6876299381256104 seconds to finish count number 17\n",
      "Processing Kevin Knox II...\n",
      "Took 0.5131340026855469 seconds to finish count number 18\n",
      "Processing Bart Kofoed...\n",
      "Took 1.7412083148956299 seconds to finish count number 19\n",
      "Processing Don Kojis...\n"
     ]
    },
    {
     "name": "stderr",
     "output_type": "stream",
     "text": [
      "/tmp/ipykernel_4467/1331416308.py:19: FutureWarning: The behavior of DataFrame concatenation with empty or all-NA entries is deprecated. In a future version, this will no longer exclude empty or all-NA columns when determining the result dtypes. To retain the old behavior, exclude the relevant entries before the concat operation.\n",
      "  final_df = pd.concat([final_df, df])\n"
     ]
    },
    {
     "name": "stdout",
     "output_type": "stream",
     "text": [
      "Took 2.5980048179626465 seconds to finish count number 20\n",
      "Processing Christian Koloko...\n",
      "Took 0.49698376655578613 seconds to finish count number 21\n",
      "Processing Milo Komenich...\n"
     ]
    },
    {
     "name": "stderr",
     "output_type": "stream",
     "text": [
      "/tmp/ipykernel_4467/1331416308.py:19: FutureWarning: The behavior of DataFrame concatenation with empty or all-NA entries is deprecated. In a future version, this will no longer exclude empty or all-NA columns when determining the result dtypes. To retain the old behavior, exclude the relevant entries before the concat operation.\n",
      "  final_df = pd.concat([final_df, df])\n"
     ]
    },
    {
     "name": "stdout",
     "output_type": "stream",
     "text": [
      "Took 1.7136030197143555 seconds to finish count number 22\n",
      "Processing Howard Komives...\n"
     ]
    },
    {
     "name": "stderr",
     "output_type": "stream",
     "text": [
      "/tmp/ipykernel_4467/1331416308.py:19: FutureWarning: The behavior of DataFrame concatenation with empty or all-NA entries is deprecated. In a future version, this will no longer exclude empty or all-NA columns when determining the result dtypes. To retain the old behavior, exclude the relevant entries before the concat operation.\n",
      "  final_df = pd.concat([final_df, df])\n"
     ]
    },
    {
     "name": "stdout",
     "output_type": "stream",
     "text": [
      "Took 1.4333536624908447 seconds to finish count number 23\n",
      "Processing Jon Koncak...\n",
      "Took 1.5325813293457031 seconds to finish count number 24\n",
      "Processing John Konchar...\n",
      "Took 0.5366091728210449 seconds to finish count number 25\n",
      "Processing Bud Koper...\n"
     ]
    },
    {
     "name": "stderr",
     "output_type": "stream",
     "text": [
      "/tmp/ipykernel_4467/1331416308.py:19: FutureWarning: The behavior of DataFrame concatenation with empty or all-NA entries is deprecated. In a future version, this will no longer exclude empty or all-NA columns when determining the result dtypes. To retain the old behavior, exclude the relevant entries before the concat operation.\n",
      "  final_df = pd.concat([final_df, df])\n"
     ]
    },
    {
     "name": "stdout",
     "output_type": "stream",
     "text": [
      "Took 2.5413076877593994 seconds to finish count number 26\n",
      "Processing Joe Kopicki...\n",
      "Took 1.7364614009857178 seconds to finish count number 27\n",
      "Processing Furkan Korkmaz...\n",
      "Took 2.6868555545806885 seconds to finish count number 28\n",
      "Processing Frank Kornet...\n",
      "Took 5.430903434753418 seconds to finish count number 29\n",
      "Processing Luke Kornet...\n",
      "Took 2.6889452934265137 seconds to finish count number 30\n",
      "Processing Yaroslav Korolev...\n",
      "Took 1.4789676666259766 seconds to finish count number 31\n",
      "Processing Kyle Korver...\n",
      "Took 1.8022255897521973 seconds to finish count number 32\n",
      "Processing Len Kosmalski...\n"
     ]
    },
    {
     "name": "stderr",
     "output_type": "stream",
     "text": [
      "/tmp/ipykernel_4467/1331416308.py:19: FutureWarning: The behavior of DataFrame concatenation with empty or all-NA entries is deprecated. In a future version, this will no longer exclude empty or all-NA columns when determining the result dtypes. To retain the old behavior, exclude the relevant entries before the concat operation.\n",
      "  final_df = pd.concat([final_df, df])\n"
     ]
    },
    {
     "name": "stdout",
     "output_type": "stream",
     "text": [
      "Took 1.5096187591552734 seconds to finish count number 33\n",
      "Processing Andy Kostecka...\n"
     ]
    },
    {
     "name": "stderr",
     "output_type": "stream",
     "text": [
      "/tmp/ipykernel_4467/1331416308.py:19: FutureWarning: The behavior of DataFrame concatenation with empty or all-NA entries is deprecated. In a future version, this will no longer exclude empty or all-NA columns when determining the result dtypes. To retain the old behavior, exclude the relevant entries before the concat operation.\n",
      "  final_df = pd.concat([final_df, df])\n"
     ]
    },
    {
     "name": "stdout",
     "output_type": "stream",
     "text": [
      "Took 3.038849353790283 seconds to finish count number 34\n",
      "Processing Harold Kottman...\n"
     ]
    },
    {
     "name": "stderr",
     "output_type": "stream",
     "text": [
      "/tmp/ipykernel_4467/1331416308.py:19: FutureWarning: The behavior of DataFrame concatenation with empty or all-NA entries is deprecated. In a future version, this will no longer exclude empty or all-NA columns when determining the result dtypes. To retain the old behavior, exclude the relevant entries before the concat operation.\n",
      "  final_df = pd.concat([final_df, df])\n"
     ]
    },
    {
     "name": "stdout",
     "output_type": "stream",
     "text": [
      "Took 2.357236862182617 seconds to finish count number 35\n",
      "Processing Kosta Koufos...\n",
      "Took 2.6865320205688477 seconds to finish count number 36\n",
      "Processing Tom Kozelko...\n"
     ]
    },
    {
     "name": "stderr",
     "output_type": "stream",
     "text": [
      "/tmp/ipykernel_4467/1331416308.py:19: FutureWarning: The behavior of DataFrame concatenation with empty or all-NA entries is deprecated. In a future version, this will no longer exclude empty or all-NA columns when determining the result dtypes. To retain the old behavior, exclude the relevant entries before the concat operation.\n",
      "  final_df = pd.concat([final_df, df])\n"
     ]
    },
    {
     "name": "stdout",
     "output_type": "stream",
     "text": [
      "Took 1.4330835342407227 seconds to finish count number 37\n",
      "Processing Arvid Kramer...\n"
     ]
    },
    {
     "name": "stderr",
     "output_type": "stream",
     "text": [
      "/tmp/ipykernel_4467/1331416308.py:19: FutureWarning: The behavior of DataFrame concatenation with empty or all-NA entries is deprecated. In a future version, this will no longer exclude empty or all-NA columns when determining the result dtypes. To retain the old behavior, exclude the relevant entries before the concat operation.\n",
      "  final_df = pd.concat([final_df, df])\n"
     ]
    },
    {
     "name": "stdout",
     "output_type": "stream",
     "text": [
      "Took 3.584169387817383 seconds to finish count number 38\n",
      "Processing Barry Kramer...\n"
     ]
    },
    {
     "name": "stderr",
     "output_type": "stream",
     "text": [
      "/tmp/ipykernel_4467/1331416308.py:19: FutureWarning: The behavior of DataFrame concatenation with empty or all-NA entries is deprecated. In a future version, this will no longer exclude empty or all-NA columns when determining the result dtypes. To retain the old behavior, exclude the relevant entries before the concat operation.\n",
      "  final_df = pd.concat([final_df, df])\n"
     ]
    },
    {
     "name": "stdout",
     "output_type": "stream",
     "text": [
      "Took 3.992680788040161 seconds to finish count number 39\n",
      "Processing Joel Kramer...\n",
      "Took 2.5534515380859375 seconds to finish count number 40\n",
      "Processing Dan Kraus...\n"
     ]
    },
    {
     "name": "stderr",
     "output_type": "stream",
     "text": [
      "/tmp/ipykernel_4467/1331416308.py:19: FutureWarning: The behavior of DataFrame concatenation with empty or all-NA entries is deprecated. In a future version, this will no longer exclude empty or all-NA columns when determining the result dtypes. To retain the old behavior, exclude the relevant entries before the concat operation.\n",
      "  final_df = pd.concat([final_df, df])\n"
     ]
    },
    {
     "name": "stdout",
     "output_type": "stream",
     "text": [
      "Took 5.144060134887695 seconds to finish count number 41\n",
      "Processing Herb Krautblatt...\n"
     ]
    },
    {
     "name": "stderr",
     "output_type": "stream",
     "text": [
      "/tmp/ipykernel_4467/1331416308.py:19: FutureWarning: The behavior of DataFrame concatenation with empty or all-NA entries is deprecated. In a future version, this will no longer exclude empty or all-NA columns when determining the result dtypes. To retain the old behavior, exclude the relevant entries before the concat operation.\n",
      "  final_df = pd.concat([final_df, df])\n"
     ]
    },
    {
     "name": "stdout",
     "output_type": "stream",
     "text": [
      "Took 4.665282964706421 seconds to finish count number 42\n",
      "Processing Viacheslav Kravtsov...\n",
      "Took 2.272963523864746 seconds to finish count number 43\n",
      "Processing Jim Krebs...\n"
     ]
    },
    {
     "name": "stderr",
     "output_type": "stream",
     "text": [
      "/tmp/ipykernel_4467/1331416308.py:19: FutureWarning: The behavior of DataFrame concatenation with empty or all-NA entries is deprecated. In a future version, this will no longer exclude empty or all-NA columns when determining the result dtypes. To retain the old behavior, exclude the relevant entries before the concat operation.\n",
      "  final_df = pd.concat([final_df, df])\n"
     ]
    },
    {
     "name": "stdout",
     "output_type": "stream",
     "text": [
      "Took 2.4492363929748535 seconds to finish count number 44\n",
      "Processing Vit Krejci...\n",
      "Took 0.6110308170318604 seconds to finish count number 45\n",
      "Processing Wayne Kreklow...\n",
      "Took 2.281492233276367 seconds to finish count number 46\n",
      "Processing Tom Kron...\n"
     ]
    },
    {
     "name": "stderr",
     "output_type": "stream",
     "text": [
      "/tmp/ipykernel_4467/1331416308.py:19: FutureWarning: The behavior of DataFrame concatenation with empty or all-NA entries is deprecated. In a future version, this will no longer exclude empty or all-NA columns when determining the result dtypes. To retain the old behavior, exclude the relevant entries before the concat operation.\n",
      "  final_df = pd.concat([final_df, df])\n"
     ]
    },
    {
     "name": "stdout",
     "output_type": "stream",
     "text": [
      "Took 1.4999594688415527 seconds to finish count number 47\n",
      "Processing Tom Kropp...\n"
     ]
    },
    {
     "name": "stderr",
     "output_type": "stream",
     "text": [
      "/tmp/ipykernel_4467/1331416308.py:19: FutureWarning: The behavior of DataFrame concatenation with empty or all-NA entries is deprecated. In a future version, this will no longer exclude empty or all-NA columns when determining the result dtypes. To retain the old behavior, exclude the relevant entries before the concat operation.\n",
      "  final_df = pd.concat([final_df, df])\n"
     ]
    },
    {
     "name": "stdout",
     "output_type": "stream",
     "text": [
      "Took 1.6389353275299072 seconds to finish count number 48\n",
      "Processing Nenad Krstic...\n",
      "Took 2.273399829864502 seconds to finish count number 49\n",
      "Processing Larry Krystkowiak...\n",
      "Took 1.765843152999878 seconds to finish count number 50\n",
      "Processing Steve Kuberski...\n"
     ]
    },
    {
     "name": "stderr",
     "output_type": "stream",
     "text": [
      "/tmp/ipykernel_4467/1331416308.py:19: FutureWarning: The behavior of DataFrame concatenation with empty or all-NA entries is deprecated. In a future version, this will no longer exclude empty or all-NA columns when determining the result dtypes. To retain the old behavior, exclude the relevant entries before the concat operation.\n",
      "  final_df = pd.concat([final_df, df])\n"
     ]
    },
    {
     "name": "stdout",
     "output_type": "stream",
     "text": [
      "Took 1.8967607021331787 seconds to finish count number 51\n",
      "Processing Leo Kubiak...\n"
     ]
    },
    {
     "name": "stderr",
     "output_type": "stream",
     "text": [
      "/tmp/ipykernel_4467/1331416308.py:19: FutureWarning: The behavior of DataFrame concatenation with empty or all-NA entries is deprecated. In a future version, this will no longer exclude empty or all-NA columns when determining the result dtypes. To retain the old behavior, exclude the relevant entries before the concat operation.\n",
      "  final_df = pd.concat([final_df, df])\n"
     ]
    },
    {
     "name": "stdout",
     "output_type": "stream",
     "text": [
      "Took 2.558722496032715 seconds to finish count number 52\n",
      "Processing Bruce Kuczenski...\n",
      "Took 1.5588116645812988 seconds to finish count number 53\n",
      "Processing Frank Kudelka...\n"
     ]
    },
    {
     "name": "stderr",
     "output_type": "stream",
     "text": [
      "/tmp/ipykernel_4467/1331416308.py:19: FutureWarning: The behavior of DataFrame concatenation with empty or all-NA entries is deprecated. In a future version, this will no longer exclude empty or all-NA columns when determining the result dtypes. To retain the old behavior, exclude the relevant entries before the concat operation.\n",
      "  final_df = pd.concat([final_df, df])\n"
     ]
    },
    {
     "name": "stdout",
     "output_type": "stream",
     "text": [
      "Took 1.61590576171875 seconds to finish count number 54\n",
      "Processing John Kuester...\n",
      "Took 1.6695706844329834 seconds to finish count number 55\n",
      "Processing Ray Kuka...\n"
     ]
    },
    {
     "name": "stderr",
     "output_type": "stream",
     "text": [
      "/tmp/ipykernel_4467/1331416308.py:19: FutureWarning: The behavior of DataFrame concatenation with empty or all-NA entries is deprecated. In a future version, this will no longer exclude empty or all-NA columns when determining the result dtypes. To retain the old behavior, exclude the relevant entries before the concat operation.\n",
      "  final_df = pd.concat([final_df, df])\n"
     ]
    },
    {
     "name": "stdout",
     "output_type": "stream",
     "text": [
      "Took 1.5311517715454102 seconds to finish count number 56\n",
      "Processing Toni Kukoc...\n",
      "Took 1.6089553833007812 seconds to finish count number 57\n",
      "Processing Arnoldas Kulboka...\n",
      "Took 1.5326662063598633 seconds to finish count number 58\n",
      "Processing Jonathan Kuminga...\n",
      "Took 2.3996570110321045 seconds to finish count number 59\n",
      "Processing Kevin Kunnert...\n"
     ]
    },
    {
     "name": "stderr",
     "output_type": "stream",
     "text": [
      "/tmp/ipykernel_4467/1331416308.py:19: FutureWarning: The behavior of DataFrame concatenation with empty or all-NA entries is deprecated. In a future version, this will no longer exclude empty or all-NA columns when determining the result dtypes. To retain the old behavior, exclude the relevant entries before the concat operation.\n",
      "  final_df = pd.concat([final_df, df])\n"
     ]
    },
    {
     "name": "stdout",
     "output_type": "stream",
     "text": [
      "Took 1.707174301147461 seconds to finish count number 60\n",
      "Processing Mitch Kupchak...\n",
      "Took 1.646090030670166 seconds to finish count number 61\n",
      "Processing Charles Kupec...\n"
     ]
    },
    {
     "name": "stderr",
     "output_type": "stream",
     "text": [
      "/tmp/ipykernel_4467/1331416308.py:19: FutureWarning: The behavior of DataFrame concatenation with empty or all-NA entries is deprecated. In a future version, this will no longer exclude empty or all-NA columns when determining the result dtypes. To retain the old behavior, exclude the relevant entries before the concat operation.\n",
      "  final_df = pd.concat([final_df, df])\n"
     ]
    },
    {
     "name": "stdout",
     "output_type": "stream",
     "text": [
      "Took 1.8256902694702148 seconds to finish count number 62\n",
      "Processing Rodions Kurucs...\n",
      "Took 2.4583659172058105 seconds to finish count number 63\n",
      "Processing Rob Kurz...\n",
      "Took 1.969421148300171 seconds to finish count number 64\n",
      "Processing Ibrahim Kutluay...\n",
      "Took 2.650080680847168 seconds to finish count number 65\n",
      "Processing Kyle Kuzma...\n",
      "Took 0.5200753211975098 seconds to finish count number 66\n",
      "Processing Ognjen Kuzmic...\n",
      "Took 2.469975471496582 seconds to finish count number 67\n",
      "Processing Mindaugas Kuzminskas...\n",
      "Took 2.463737964630127 seconds to finish count number 68\n",
      "Processing Fred LaCour...\n"
     ]
    },
    {
     "name": "stderr",
     "output_type": "stream",
     "text": [
      "/tmp/ipykernel_4467/1331416308.py:19: FutureWarning: The behavior of DataFrame concatenation with empty or all-NA entries is deprecated. In a future version, this will no longer exclude empty or all-NA columns when determining the result dtypes. To retain the old behavior, exclude the relevant entries before the concat operation.\n",
      "  final_df = pd.concat([final_df, df])\n"
     ]
    },
    {
     "name": "stdout",
     "output_type": "stream",
     "text": [
      "Took 3.346371650695801 seconds to finish count number 69\n",
      "Processing Raef LaFrentz...\n",
      "Took 2.3526511192321777 seconds to finish count number 70\n",
      "Processing Tom LaGarde...\n",
      "Took 1.6388859748840332 seconds to finish count number 71\n",
      "Processing Jake LaRavia...\n",
      "Took 0.43009018898010254 seconds to finish count number 72\n",
      "Processing Rusty LaRue...\n",
      "Took 3.9057605266571045 seconds to finish count number 73\n",
      "Processing Rudy LaRusso...\n"
     ]
    },
    {
     "name": "stderr",
     "output_type": "stream",
     "text": [
      "/tmp/ipykernel_4467/1331416308.py:19: FutureWarning: The behavior of DataFrame concatenation with empty or all-NA entries is deprecated. In a future version, this will no longer exclude empty or all-NA columns when determining the result dtypes. To retain the old behavior, exclude the relevant entries before the concat operation.\n",
      "  final_df = pd.concat([final_df, df])\n"
     ]
    },
    {
     "name": "stdout",
     "output_type": "stream",
     "text": [
      "Took 1.708580493927002 seconds to finish count number 74\n",
      "Processing Zach LaVine...\n",
      "Took 0.5013561248779297 seconds to finish count number 75\n",
      "Processing Skal Labissiere...\n",
      "Took 3.522435426712036 seconds to finish count number 76\n",
      "Processing Sam Lacey...\n",
      "Took 1.605452537536621 seconds to finish count number 77\n",
      "Processing Christian Laettner...\n",
      "Took 1.6673035621643066 seconds to finish count number 78\n",
      "Processing Oliver Lafayette...\n",
      "Took 1.6149933338165283 seconds to finish count number 79\n",
      "Processing Bill Laimbeer...\n",
      "Took 1.533804178237915 seconds to finish count number 80\n",
      "Processing Pete Lalich...\n"
     ]
    },
    {
     "name": "stderr",
     "output_type": "stream",
     "text": [
      "/tmp/ipykernel_4467/1331416308.py:19: FutureWarning: The behavior of DataFrame concatenation with empty or all-NA entries is deprecated. In a future version, this will no longer exclude empty or all-NA columns when determining the result dtypes. To retain the old behavior, exclude the relevant entries before the concat operation.\n",
      "  final_df = pd.concat([final_df, df])\n"
     ]
    },
    {
     "name": "stdout",
     "output_type": "stream",
     "text": [
      "Took 1.5334110260009766 seconds to finish count number 81\n",
      "Processing Bo Lamar...\n"
     ]
    },
    {
     "name": "stderr",
     "output_type": "stream",
     "text": [
      "/tmp/ipykernel_4467/1331416308.py:19: FutureWarning: The behavior of DataFrame concatenation with empty or all-NA entries is deprecated. In a future version, this will no longer exclude empty or all-NA columns when determining the result dtypes. To retain the old behavior, exclude the relevant entries before the concat operation.\n",
      "  final_df = pd.concat([final_df, df])\n"
     ]
    },
    {
     "name": "stdout",
     "output_type": "stream",
     "text": [
      "Took 1.8796250820159912 seconds to finish count number 82\n",
      "Processing Anthony Lamb...\n",
      "Took 1.492553949356079 seconds to finish count number 83\n",
      "Processing Doron Lamb...\n",
      "Took 1.6505422592163086 seconds to finish count number 84\n",
      "Processing Jeremy Lamb...\n",
      "Took 2.9554100036621094 seconds to finish count number 85\n",
      "Processing John Lambert...\n",
      "Took 1.5642976760864258 seconds to finish count number 86\n",
      "Processing Jeff Lamp...\n",
      "Took 2.45743989944458 seconds to finish count number 87\n",
      "Processing Maciej Lampe...\n",
      "Took 2.5355520248413086 seconds to finish count number 88\n",
      "Processing Jim Lampley...\n",
      "Took 2.2938451766967773 seconds to finish count number 89\n",
      "Processing Sean Lampley...\n",
      "Took 2.6214239597320557 seconds to finish count number 90\n",
      "Processing Jock Landale...\n",
      "Took 0.5118961334228516 seconds to finish count number 91\n",
      "Processing Carl Landry...\n",
      "Took 1.5531878471374512 seconds to finish count number 92\n",
      "Processing Marcus Landry...\n",
      "Took 1.4335894584655762 seconds to finish count number 93\n",
      "Processing Mark Landsberger...\n",
      "Took 1.5489630699157715 seconds to finish count number 94\n",
      "Processing Jerome Lane...\n",
      "Took 1.3968744277954102 seconds to finish count number 95\n",
      "Processing Andrew Lang...\n",
      "Took 1.8706121444702148 seconds to finish count number 96\n",
      "Processing Antonio Lang...\n",
      "Took 1.5358703136444092 seconds to finish count number 97\n",
      "Processing James Lang...\n",
      "Took 3.7639167308807373 seconds to finish count number 98\n",
      "Processing Trajan Langdon...\n",
      "Took 1.6361141204833984 seconds to finish count number 99\n",
      "collecting chunk 2500 through 2600\n",
      "start point = 2500\n",
      "Processing Keith Langford...\n",
      "Took 2.4705703258514404 seconds to finish count number 0\n",
      "Processing Romeo Langford...\n",
      "Took 2.3368079662323 seconds to finish count number 1\n",
      "Processing Dan Langhi...\n",
      "Took 2.5528900623321533 seconds to finish count number 2\n",
      "Processing Bob Lanier...\n",
      "Took 1.4864747524261475 seconds to finish count number 3\n",
      "Processing Stu Lantz...\n"
     ]
    },
    {
     "name": "stderr",
     "output_type": "stream",
     "text": [
      "/tmp/ipykernel_4467/1331416308.py:19: FutureWarning: The behavior of DataFrame concatenation with empty or all-NA entries is deprecated. In a future version, this will no longer exclude empty or all-NA columns when determining the result dtypes. To retain the old behavior, exclude the relevant entries before the concat operation.\n",
      "  final_df = pd.concat([final_df, df])\n"
     ]
    },
    {
     "name": "stdout",
     "output_type": "stream",
     "text": [
      "Took 1.690589427947998 seconds to finish count number 4\n",
      "Processing Nicolas Laprovittola...\n",
      "Took 1.681579828262329 seconds to finish count number 5\n",
      "Processing York Larese...\n"
     ]
    },
    {
     "name": "stderr",
     "output_type": "stream",
     "text": [
      "/tmp/ipykernel_4467/1331416308.py:19: FutureWarning: The behavior of DataFrame concatenation with empty or all-NA entries is deprecated. In a future version, this will no longer exclude empty or all-NA columns when determining the result dtypes. To retain the old behavior, exclude the relevant entries before the concat operation.\n",
      "  final_df = pd.concat([final_df, df])\n"
     ]
    },
    {
     "name": "stdout",
     "output_type": "stream",
     "text": [
      "Took 1.6252849102020264 seconds to finish count number 6\n",
      "Processing Shane Larkin...\n",
      "Took 2.7335329055786133 seconds to finish count number 7\n",
      "Processing John Laskowski...\n"
     ]
    },
    {
     "name": "stderr",
     "output_type": "stream",
     "text": [
      "/tmp/ipykernel_4467/1331416308.py:19: FutureWarning: The behavior of DataFrame concatenation with empty or all-NA entries is deprecated. In a future version, this will no longer exclude empty or all-NA columns when determining the result dtypes. To retain the old behavior, exclude the relevant entries before the concat operation.\n",
      "  final_df = pd.concat([final_df, df])\n"
     ]
    },
    {
     "name": "stdout",
     "output_type": "stream",
     "text": [
      "Took 1.4327301979064941 seconds to finish count number 8\n",
      "Processing Stephane Lasme...\n",
      "Took 2.5999081134796143 seconds to finish count number 9\n",
      "Processing Dave Lattin...\n"
     ]
    },
    {
     "name": "stderr",
     "output_type": "stream",
     "text": [
      "/tmp/ipykernel_4467/1331416308.py:19: FutureWarning: The behavior of DataFrame concatenation with empty or all-NA entries is deprecated. In a future version, this will no longer exclude empty or all-NA columns when determining the result dtypes. To retain the old behavior, exclude the relevant entries before the concat operation.\n",
      "  final_df = pd.concat([final_df, df])\n"
     ]
    },
    {
     "name": "stdout",
     "output_type": "stream",
     "text": [
      "Took 2.43041729927063 seconds to finish count number 10\n",
      "Processing Priest Lauderdale...\n",
      "Took 1.4454069137573242 seconds to finish count number 11\n",
      "Processing Rich Laurel...\n"
     ]
    },
    {
     "name": "stderr",
     "output_type": "stream",
     "text": [
      "/tmp/ipykernel_4467/1331416308.py:19: FutureWarning: The behavior of DataFrame concatenation with empty or all-NA entries is deprecated. In a future version, this will no longer exclude empty or all-NA columns when determining the result dtypes. To retain the old behavior, exclude the relevant entries before the concat operation.\n",
      "  final_df = pd.concat([final_df, df])\n"
     ]
    },
    {
     "name": "stdout",
     "output_type": "stream",
     "text": [
      "Took 2.361212968826294 seconds to finish count number 12\n",
      "Processing Walt Lautenbach...\n"
     ]
    },
    {
     "name": "stderr",
     "output_type": "stream",
     "text": [
      "/tmp/ipykernel_4467/1331416308.py:19: FutureWarning: The behavior of DataFrame concatenation with empty or all-NA entries is deprecated. In a future version, this will no longer exclude empty or all-NA columns when determining the result dtypes. To retain the old behavior, exclude the relevant entries before the concat operation.\n",
      "  final_df = pd.concat([final_df, df])\n"
     ]
    },
    {
     "name": "stdout",
     "output_type": "stream",
     "text": [
      "Took 1.5306460857391357 seconds to finish count number 13\n",
      "Processing Joffrey Lauvergne...\n",
      "Took 2.1195638179779053 seconds to finish count number 14\n",
      "Processing Tony Lavelli...\n"
     ]
    },
    {
     "name": "stderr",
     "output_type": "stream",
     "text": [
      "/tmp/ipykernel_4467/1331416308.py:19: FutureWarning: The behavior of DataFrame concatenation with empty or all-NA entries is deprecated. In a future version, this will no longer exclude empty or all-NA columns when determining the result dtypes. To retain the old behavior, exclude the relevant entries before the concat operation.\n",
      "  final_df = pd.concat([final_df, df])\n"
     ]
    },
    {
     "name": "stdout",
     "output_type": "stream",
     "text": [
      "Took 2.392090320587158 seconds to finish count number 15\n",
      "Processing Bob Lavoy...\n"
     ]
    },
    {
     "name": "stderr",
     "output_type": "stream",
     "text": [
      "/tmp/ipykernel_4467/1331416308.py:19: FutureWarning: The behavior of DataFrame concatenation with empty or all-NA entries is deprecated. In a future version, this will no longer exclude empty or all-NA columns when determining the result dtypes. To retain the old behavior, exclude the relevant entries before the concat operation.\n",
      "  final_df = pd.concat([final_df, df])\n"
     ]
    },
    {
     "name": "stdout",
     "output_type": "stream",
     "text": [
      "Took 1.714566946029663 seconds to finish count number 16\n",
      "Processing Acie Law...\n",
      "Took 2.7028896808624268 seconds to finish count number 17\n",
      "Processing Vic Law...\n",
      "Took 2.6561226844787598 seconds to finish count number 18\n",
      "Processing Gani Lawal...\n",
      "Took 1.6274189949035645 seconds to finish count number 19\n",
      "Processing Ed Lawrence...\n"
     ]
    },
    {
     "name": "stderr",
     "output_type": "stream",
     "text": [
      "/tmp/ipykernel_4467/1331416308.py:19: FutureWarning: The behavior of DataFrame concatenation with empty or all-NA entries is deprecated. In a future version, this will no longer exclude empty or all-NA columns when determining the result dtypes. To retain the old behavior, exclude the relevant entries before the concat operation.\n",
      "  final_df = pd.concat([final_df, df])\n"
     ]
    },
    {
     "name": "stdout",
     "output_type": "stream",
     "text": [
      "Took 1.665212631225586 seconds to finish count number 20\n",
      "Processing A.J. Lawson...\n",
      "Took 0.6128256320953369 seconds to finish count number 21\n",
      "Processing Jason Lawson...\n",
      "Took 4.884006500244141 seconds to finish count number 22\n",
      "Processing Ty Lawson...\n",
      "Took 1.934342622756958 seconds to finish count number 23\n",
      "Processing Jake Layman...\n",
      "Took 2.7527694702148438 seconds to finish count number 24\n",
      "Processing Dennis Layton...\n"
     ]
    },
    {
     "name": "stderr",
     "output_type": "stream",
     "text": [
      "/tmp/ipykernel_4467/1331416308.py:19: FutureWarning: The behavior of DataFrame concatenation with empty or all-NA entries is deprecated. In a future version, this will no longer exclude empty or all-NA columns when determining the result dtypes. To retain the old behavior, exclude the relevant entries before the concat operation.\n",
      "  final_df = pd.concat([final_df, df])\n"
     ]
    },
    {
     "name": "stdout",
     "output_type": "stream",
     "text": [
      "Took 2.7138357162475586 seconds to finish count number 25\n",
      "Processing Caris LeVert...\n",
      "Took 0.7687060832977295 seconds to finish count number 26\n",
      "Processing T.J. Leaf...\n",
      "Took 1.632734775543213 seconds to finish count number 27\n",
      "Processing Emanuel Leaks...\n"
     ]
    },
    {
     "name": "stderr",
     "output_type": "stream",
     "text": [
      "/tmp/ipykernel_4467/1331416308.py:19: FutureWarning: The behavior of DataFrame concatenation with empty or all-NA entries is deprecated. In a future version, this will no longer exclude empty or all-NA columns when determining the result dtypes. To retain the old behavior, exclude the relevant entries before the concat operation.\n",
      "  final_df = pd.concat([final_df, df])\n"
     ]
    },
    {
     "name": "stdout",
     "output_type": "stream",
     "text": [
      "Took 1.630927562713623 seconds to finish count number 28\n",
      "Processing Hal Lear...\n"
     ]
    },
    {
     "name": "stderr",
     "output_type": "stream",
     "text": [
      "/tmp/ipykernel_4467/1331416308.py:19: FutureWarning: The behavior of DataFrame concatenation with empty or all-NA entries is deprecated. In a future version, this will no longer exclude empty or all-NA columns when determining the result dtypes. To retain the old behavior, exclude the relevant entries before the concat operation.\n",
      "  final_df = pd.concat([final_df, df])\n"
     ]
    },
    {
     "name": "stdout",
     "output_type": "stream",
     "text": [
      "Took 2.5079123973846436 seconds to finish count number 29\n",
      "Processing Allen Leavell...\n",
      "Took 2.4529030323028564 seconds to finish count number 30\n",
      "Processing Jeff Lebo...\n",
      "Took 5.525343656539917 seconds to finish count number 31\n",
      "Processing Eric Leckner...\n",
      "Took 1.9189612865447998 seconds to finish count number 32\n",
      "Processing Jalen Lecque...\n",
      "Took 1.5641262531280518 seconds to finish count number 33\n",
      "Processing Ricky Ledo...\n",
      "Took 4.811899185180664 seconds to finish count number 34\n",
      "Processing Butch Lee...\n"
     ]
    },
    {
     "name": "stderr",
     "output_type": "stream",
     "text": [
      "/tmp/ipykernel_4467/1331416308.py:19: FutureWarning: The behavior of DataFrame concatenation with empty or all-NA entries is deprecated. In a future version, this will no longer exclude empty or all-NA columns when determining the result dtypes. To retain the old behavior, exclude the relevant entries before the concat operation.\n",
      "  final_df = pd.concat([final_df, df])\n"
     ]
    },
    {
     "name": "stdout",
     "output_type": "stream",
     "text": [
      "Took 1.9438228607177734 seconds to finish count number 35\n",
      "Processing Clyde Lee...\n"
     ]
    },
    {
     "name": "stderr",
     "output_type": "stream",
     "text": [
      "/tmp/ipykernel_4467/1331416308.py:19: FutureWarning: The behavior of DataFrame concatenation with empty or all-NA entries is deprecated. In a future version, this will no longer exclude empty or all-NA columns when determining the result dtypes. To retain the old behavior, exclude the relevant entries before the concat operation.\n",
      "  final_df = pd.concat([final_df, df])\n"
     ]
    },
    {
     "name": "stdout",
     "output_type": "stream",
     "text": [
      "Took 4.295393228530884 seconds to finish count number 36\n",
      "Processing Courtney Lee...\n",
      "Took 1.6108448505401611 seconds to finish count number 37\n",
      "Processing Damion Lee...\n",
      "Took 0.7197332382202148 seconds to finish count number 38\n",
      "Processing David Lee...\n",
      "Took 3.5834875106811523 seconds to finish count number 39\n",
      "Processing Doug Lee...\n",
      "Took 1.3534865379333496 seconds to finish count number 40\n",
      "Processing George Lee...\n"
     ]
    },
    {
     "name": "stderr",
     "output_type": "stream",
     "text": [
      "/tmp/ipykernel_4467/1331416308.py:19: FutureWarning: The behavior of DataFrame concatenation with empty or all-NA entries is deprecated. In a future version, this will no longer exclude empty or all-NA columns when determining the result dtypes. To retain the old behavior, exclude the relevant entries before the concat operation.\n",
      "  final_df = pd.concat([final_df, df])\n"
     ]
    },
    {
     "name": "stdout",
     "output_type": "stream",
     "text": [
      "Took 1.4119558334350586 seconds to finish count number 41\n",
      "Processing Greg Lee...\n"
     ]
    },
    {
     "name": "stderr",
     "output_type": "stream",
     "text": [
      "/tmp/ipykernel_4467/1331416308.py:19: FutureWarning: The behavior of DataFrame concatenation with empty or all-NA entries is deprecated. In a future version, this will no longer exclude empty or all-NA columns when determining the result dtypes. To retain the old behavior, exclude the relevant entries before the concat operation.\n",
      "  final_df = pd.concat([final_df, df])\n"
     ]
    },
    {
     "name": "stdout",
     "output_type": "stream",
     "text": [
      "Took 2.4010257720947266 seconds to finish count number 42\n",
      "Processing Keith Lee...\n",
      "Took 1.5131194591522217 seconds to finish count number 43\n",
      "Processing Kurk Lee...\n",
      "Took 1.6154227256774902 seconds to finish count number 44\n",
      "Processing Malcolm Lee...\n",
      "Took 1.7634344100952148 seconds to finish count number 45\n",
      "Processing Rock Lee...\n"
     ]
    },
    {
     "name": "stderr",
     "output_type": "stream",
     "text": [
      "/tmp/ipykernel_4467/1331416308.py:19: FutureWarning: The behavior of DataFrame concatenation with empty or all-NA entries is deprecated. In a future version, this will no longer exclude empty or all-NA columns when determining the result dtypes. To retain the old behavior, exclude the relevant entries before the concat operation.\n",
      "  final_df = pd.concat([final_df, df])\n"
     ]
    },
    {
     "name": "stdout",
     "output_type": "stream",
     "text": [
      "Took 1.9611284732818604 seconds to finish count number 46\n",
      "Processing Ron Lee...\n",
      "Took 1.3939287662506104 seconds to finish count number 47\n",
      "Processing Russell Lee...\n"
     ]
    },
    {
     "name": "stderr",
     "output_type": "stream",
     "text": [
      "/tmp/ipykernel_4467/1331416308.py:19: FutureWarning: The behavior of DataFrame concatenation with empty or all-NA entries is deprecated. In a future version, this will no longer exclude empty or all-NA columns when determining the result dtypes. To retain the old behavior, exclude the relevant entries before the concat operation.\n",
      "  final_df = pd.concat([final_df, df])\n"
     ]
    },
    {
     "name": "stdout",
     "output_type": "stream",
     "text": [
      "Took 2.892150402069092 seconds to finish count number 48\n",
      "Processing Saben Lee...\n",
      "Took 0.5846261978149414 seconds to finish count number 49\n",
      "Processing Ed Leede...\n"
     ]
    },
    {
     "name": "stderr",
     "output_type": "stream",
     "text": [
      "/tmp/ipykernel_4467/1331416308.py:19: FutureWarning: The behavior of DataFrame concatenation with empty or all-NA entries is deprecated. In a future version, this will no longer exclude empty or all-NA columns when determining the result dtypes. To retain the old behavior, exclude the relevant entries before the concat operation.\n",
      "  final_df = pd.concat([final_df, df])\n"
     ]
    },
    {
     "name": "stdout",
     "output_type": "stream",
     "text": [
      "Took 2.6559951305389404 seconds to finish count number 50\n",
      "Processing Hank Lefkowitz...\n"
     ]
    },
    {
     "name": "stderr",
     "output_type": "stream",
     "text": [
      "/tmp/ipykernel_4467/1331416308.py:19: FutureWarning: The behavior of DataFrame concatenation with empty or all-NA entries is deprecated. In a future version, this will no longer exclude empty or all-NA columns when determining the result dtypes. To retain the old behavior, exclude the relevant entries before the concat operation.\n",
      "  final_df = pd.concat([final_df, df])\n"
     ]
    },
    {
     "name": "stdout",
     "output_type": "stream",
     "text": [
      "Took 1.4448893070220947 seconds to finish count number 51\n",
      "Processing Tim Legler...\n",
      "Took 1.5276048183441162 seconds to finish count number 52\n",
      "Processing George Lehmann...\n"
     ]
    },
    {
     "name": "stderr",
     "output_type": "stream",
     "text": [
      "/tmp/ipykernel_4467/1331416308.py:19: FutureWarning: The behavior of DataFrame concatenation with empty or all-NA entries is deprecated. In a future version, this will no longer exclude empty or all-NA columns when determining the result dtypes. To retain the old behavior, exclude the relevant entries before the concat operation.\n",
      "  final_df = pd.concat([final_df, df])\n"
     ]
    },
    {
     "name": "stdout",
     "output_type": "stream",
     "text": [
      "Took 1.586275577545166 seconds to finish count number 53\n",
      "Processing Walt Lemon Jr....\n",
      "Took 2.8397488594055176 seconds to finish count number 54\n",
      "Processing Alex Len...\n",
      "Took 0.7019941806793213 seconds to finish count number 55\n",
      "Processing Voshon Lenard...\n",
      "Took 2.379751443862915 seconds to finish count number 56\n",
      "Processing Bob Leonard...\n"
     ]
    },
    {
     "name": "stderr",
     "output_type": "stream",
     "text": [
      "/tmp/ipykernel_4467/1331416308.py:19: FutureWarning: The behavior of DataFrame concatenation with empty or all-NA entries is deprecated. In a future version, this will no longer exclude empty or all-NA columns when determining the result dtypes. To retain the old behavior, exclude the relevant entries before the concat operation.\n",
      "  final_df = pd.concat([final_df, df])\n"
     ]
    },
    {
     "name": "stdout",
     "output_type": "stream",
     "text": [
      "Took 1.606806993484497 seconds to finish count number 57\n",
      "Processing Gary Leonard...\n",
      "Took 2.17364764213562 seconds to finish count number 58\n",
      "Processing Kawhi Leonard...\n",
      "Took 0.7023475170135498 seconds to finish count number 59\n",
      "Processing Meyers Leonard...\n",
      "Took 2.469127655029297 seconds to finish count number 60\n",
      "Processing Jim Les...\n",
      "Took 2.579343318939209 seconds to finish count number 61\n",
      "Processing Travis Leslie...\n",
      "Took 1.9274003505706787 seconds to finish count number 62\n",
      "Processing Ronnie Lester...\n",
      "Took 1.8448829650878906 seconds to finish count number 63\n",
      "Processing Clifford Lett...\n",
      "Took 1.4530277252197266 seconds to finish count number 64\n",
      "Processing Jon Leuer...\n",
      "Took 2.6269290447235107 seconds to finish count number 65\n",
      "Processing Andrew Levane...\n"
     ]
    },
    {
     "name": "stderr",
     "output_type": "stream",
     "text": [
      "/tmp/ipykernel_4467/1331416308.py:19: FutureWarning: The behavior of DataFrame concatenation with empty or all-NA entries is deprecated. In a future version, this will no longer exclude empty or all-NA columns when determining the result dtypes. To retain the old behavior, exclude the relevant entries before the concat operation.\n",
      "  final_df = pd.concat([final_df, df])\n"
     ]
    },
    {
     "name": "stdout",
     "output_type": "stream",
     "text": [
      "Took 1.841672658920288 seconds to finish count number 66\n",
      "Processing Lafayette Lever...\n",
      "Took 1.551708459854126 seconds to finish count number 67\n",
      "Processing Cliff Levingston...\n",
      "Took 1.6359095573425293 seconds to finish count number 68\n",
      "Processing Bobby Lewis...\n"
     ]
    },
    {
     "name": "stderr",
     "output_type": "stream",
     "text": [
      "/tmp/ipykernel_4467/1331416308.py:19: FutureWarning: The behavior of DataFrame concatenation with empty or all-NA entries is deprecated. In a future version, this will no longer exclude empty or all-NA columns when determining the result dtypes. To retain the old behavior, exclude the relevant entries before the concat operation.\n",
      "  final_df = pd.concat([final_df, df])\n"
     ]
    },
    {
     "name": "stdout",
     "output_type": "stream",
     "text": [
      "Took 1.8588595390319824 seconds to finish count number 69\n",
      "Processing Cedric Lewis...\n",
      "Took 1.4920086860656738 seconds to finish count number 70\n",
      "Processing Fred Lewis...\n"
     ]
    },
    {
     "name": "stderr",
     "output_type": "stream",
     "text": [
      "/tmp/ipykernel_4467/1331416308.py:19: FutureWarning: The behavior of DataFrame concatenation with empty or all-NA entries is deprecated. In a future version, this will no longer exclude empty or all-NA columns when determining the result dtypes. To retain the old behavior, exclude the relevant entries before the concat operation.\n",
      "  final_df = pd.concat([final_df, df])\n"
     ]
    },
    {
     "name": "stdout",
     "output_type": "stream",
     "text": [
      "Took 1.3373239040374756 seconds to finish count number 71\n",
      "Processing Freddie Lewis...\n"
     ]
    },
    {
     "name": "stderr",
     "output_type": "stream",
     "text": [
      "/tmp/ipykernel_4467/1331416308.py:19: FutureWarning: The behavior of DataFrame concatenation with empty or all-NA entries is deprecated. In a future version, this will no longer exclude empty or all-NA columns when determining the result dtypes. To retain the old behavior, exclude the relevant entries before the concat operation.\n",
      "  final_df = pd.concat([final_df, df])\n"
     ]
    },
    {
     "name": "stdout",
     "output_type": "stream",
     "text": [
      "Took 1.5411655902862549 seconds to finish count number 72\n",
      "Processing Grady Lewis...\n"
     ]
    },
    {
     "name": "stderr",
     "output_type": "stream",
     "text": [
      "/tmp/ipykernel_4467/1331416308.py:19: FutureWarning: The behavior of DataFrame concatenation with empty or all-NA entries is deprecated. In a future version, this will no longer exclude empty or all-NA columns when determining the result dtypes. To retain the old behavior, exclude the relevant entries before the concat operation.\n",
      "  final_df = pd.concat([final_df, df])\n"
     ]
    },
    {
     "name": "stdout",
     "output_type": "stream",
     "text": [
      "Took 2.1039862632751465 seconds to finish count number 73\n",
      "Processing Justin Lewis...\n"
     ]
    },
    {
     "name": "stderr",
     "output_type": "stream",
     "text": [
      "/tmp/ipykernel_4467/1331416308.py:19: FutureWarning: The behavior of DataFrame concatenation with empty or all-NA entries is deprecated. In a future version, this will no longer exclude empty or all-NA columns when determining the result dtypes. To retain the old behavior, exclude the relevant entries before the concat operation.\n",
      "  final_df = pd.concat([final_df, df])\n"
     ]
    },
    {
     "name": "stdout",
     "output_type": "stream",
     "text": [
      "Took 2.137754440307617 seconds to finish count number 74\n",
      "Processing Martin Lewis...\n",
      "Took 1.411527156829834 seconds to finish count number 75\n",
      "Processing Maxwell Lewis...\n",
      "Took 0.6278789043426514 seconds to finish count number 76\n",
      "Processing Quincy Lewis...\n",
      "Took 2.628197193145752 seconds to finish count number 77\n",
      "Processing Ralph Lewis...\n",
      "Took 1.52779221534729 seconds to finish count number 78\n",
      "Processing Rashard Lewis...\n",
      "Took 1.8404431343078613 seconds to finish count number 79\n",
      "Processing Reggie Lewis...\n",
      "Took 1.3713006973266602 seconds to finish count number 80\n",
      "Processing Scottie Lewis...\n",
      "Took 1.4917058944702148 seconds to finish count number 81\n",
      "Processing Kira Lewis Jr....\n",
      "Took 0.6118965148925781 seconds to finish count number 82\n",
      "Processing Marcus Liberty...\n",
      "Took 1.8053925037384033 seconds to finish count number 83\n",
      "Processing Todd Lichti...\n",
      "Took 1.6105411052703857 seconds to finish count number 84\n",
      "Processing E.J. Liddell...\n",
      "Took 0.5958194732666016 seconds to finish count number 85\n",
      "Processing DeAndre Liggins...\n",
      "Took 2.608541488647461 seconds to finish count number 86\n",
      "Processing Bill Ligon...\n"
     ]
    },
    {
     "name": "stderr",
     "output_type": "stream",
     "text": [
      "/tmp/ipykernel_4467/1331416308.py:19: FutureWarning: The behavior of DataFrame concatenation with empty or all-NA entries is deprecated. In a future version, this will no longer exclude empty or all-NA columns when determining the result dtypes. To retain the old behavior, exclude the relevant entries before the concat operation.\n",
      "  final_df = pd.concat([final_df, df])\n"
     ]
    },
    {
     "name": "stdout",
     "output_type": "stream",
     "text": [
      "Took 1.505418300628662 seconds to finish count number 87\n",
      "Processing Damian Lillard...\n",
      "Took 0.5930147171020508 seconds to finish count number 88\n",
      "Processing Jeremy Lin...\n",
      "Took 1.5210812091827393 seconds to finish count number 89\n",
      "Processing Steve Lingenfelter...\n",
      "Took 1.339616060256958 seconds to finish count number 90\n",
      "Processing Alton Lister...\n",
      "Took 2.684842348098755 seconds to finish count number 91\n",
      "Processing Nassir Little...\n",
      "Took 0.6882104873657227 seconds to finish count number 92\n",
      "Processing Dereck Lively II...\n",
      "Took 0.5519649982452393 seconds to finish count number 93\n",
      "Processing Isaiah Livers...\n",
      "Took 0.578176736831665 seconds to finish count number 94\n",
      "Processing Chris Livingston...\n",
      "Took 0.5132343769073486 seconds to finish count number 95\n",
      "Processing Randy Livingston...\n",
      "Took 1.760521650314331 seconds to finish count number 96\n",
      "Processing Shaun Livingston...\n",
      "Took 2.026350498199463 seconds to finish count number 97\n",
      "Processing Ron Livingstone...\n"
     ]
    },
    {
     "name": "stderr",
     "output_type": "stream",
     "text": [
      "/tmp/ipykernel_4467/1331416308.py:19: FutureWarning: The behavior of DataFrame concatenation with empty or all-NA entries is deprecated. In a future version, this will no longer exclude empty or all-NA columns when determining the result dtypes. To retain the old behavior, exclude the relevant entries before the concat operation.\n",
      "  final_df = pd.concat([final_df, df])\n"
     ]
    },
    {
     "name": "stdout",
     "output_type": "stream",
     "text": [
      "Took 1.583920955657959 seconds to finish count number 98\n",
      "Processing Horacio Llamas...\n",
      "Took 1.3967626094818115 seconds to finish count number 99\n",
      "collecting chunk 2600 through 2700\n",
      "start point = 2600\n",
      "Processing Earl Lloyd...\n",
      "Took 1.4052708148956299 seconds to finish count number 0\n",
      "Processing Lewis Lloyd...\n",
      "Took 1.5623023509979248 seconds to finish count number 1\n",
      "Processing Scott Lloyd...\n",
      "Took 2.5686635971069336 seconds to finish count number 2\n",
      "Processing Bob Lochmueller...\n",
      "Took 2.9966001510620117 seconds to finish count number 3\n",
      "Processing Robert Lock...\n",
      "Took 1.9814584255218506 seconds to finish count number 4\n",
      "Processing Darrell Lockhart...\n",
      "Took 2.51960825920105 seconds to finish count number 5\n",
      "Processing Ian Lockhart...\n",
      "Took 1.5060207843780518 seconds to finish count number 6\n",
      "Processing Kevin Loder...\n",
      "Took 2.868398666381836 seconds to finish count number 7\n",
      "Processing Don Lofgran...\n",
      "Took 1.5322914123535156 seconds to finish count number 8\n",
      "Processing Zach Lofton...\n"
     ]
    },
    {
     "name": "stderr",
     "output_type": "stream",
     "text": [
      "/tmp/ipykernel_4467/1331416308.py:19: FutureWarning: The behavior of DataFrame concatenation with empty or all-NA entries is deprecated. In a future version, this will no longer exclude empty or all-NA columns when determining the result dtypes. To retain the old behavior, exclude the relevant entries before the concat operation.\n",
      "  final_df = pd.concat([final_df, df])\n"
     ]
    },
    {
     "name": "stdout",
     "output_type": "stream",
     "text": [
      "Took 1.5131871700286865 seconds to finish count number 9\n",
      "Processing Kenneth Lofton Jr....\n",
      "Took 2.3760340213775635 seconds to finish count number 10\n",
      "Processing Johnny Logan...\n"
     ]
    },
    {
     "name": "stderr",
     "output_type": "stream",
     "text": [
      "/tmp/ipykernel_4467/1331416308.py:19: FutureWarning: The behavior of DataFrame concatenation with empty or all-NA entries is deprecated. In a future version, this will no longer exclude empty or all-NA columns when determining the result dtypes. To retain the old behavior, exclude the relevant entries before the concat operation.\n",
      "  final_df = pd.concat([final_df, df])\n"
     ]
    },
    {
     "name": "stdout",
     "output_type": "stream",
     "text": [
      "Took 1.7197721004486084 seconds to finish count number 11\n",
      "Processing Brad Lohaus...\n",
      "Took 1.6406474113464355 seconds to finish count number 12\n",
      "Processing Art Long...\n",
      "Took 1.5869405269622803 seconds to finish count number 13\n",
      "Processing Grant Long...\n",
      "Took 2.823108196258545 seconds to finish count number 14\n",
      "Processing John Long...\n",
      "Took 2.0725390911102295 seconds to finish count number 15\n",
      "Processing Paul Long...\n"
     ]
    },
    {
     "name": "stderr",
     "output_type": "stream",
     "text": [
      "/tmp/ipykernel_4467/1331416308.py:19: FutureWarning: The behavior of DataFrame concatenation with empty or all-NA entries is deprecated. In a future version, this will no longer exclude empty or all-NA columns when determining the result dtypes. To retain the old behavior, exclude the relevant entries before the concat operation.\n",
      "  final_df = pd.concat([final_df, df])\n"
     ]
    },
    {
     "name": "stdout",
     "output_type": "stream",
     "text": [
      "Took 1.4193501472473145 seconds to finish count number 16\n",
      "Processing Shawn Long...\n",
      "Took 2.5485544204711914 seconds to finish count number 17\n",
      "Processing Luc Longley...\n",
      "Took 1.6383204460144043 seconds to finish count number 18\n",
      "Processing Kevon Looney...\n",
      "Took 2.2391510009765625 seconds to finish count number 19\n",
      "Processing Brook Lopez...\n",
      "Took 0.5388627052307129 seconds to finish count number 20\n",
      "Processing Felipe Lopez...\n",
      "Took 2.426352024078369 seconds to finish count number 21\n",
      "Processing Raul Lopez...\n",
      "Took 2.4774858951568604 seconds to finish count number 22\n",
      "Processing Robin Lopez...\n",
      "Took 0.624016523361206 seconds to finish count number 23\n",
      "Processing Ryan Lorthridge...\n",
      "Took 2.684483289718628 seconds to finish count number 24\n",
      "Processing Jim Loscutoff...\n"
     ]
    },
    {
     "name": "stderr",
     "output_type": "stream",
     "text": [
      "/tmp/ipykernel_4467/1331416308.py:19: FutureWarning: The behavior of DataFrame concatenation with empty or all-NA entries is deprecated. In a future version, this will no longer exclude empty or all-NA columns when determining the result dtypes. To retain the old behavior, exclude the relevant entries before the concat operation.\n",
      "  final_df = pd.concat([final_df, df])\n"
     ]
    },
    {
     "name": "stdout",
     "output_type": "stream",
     "text": [
      "Took 1.7243006229400635 seconds to finish count number 25\n",
      "Processing Plummer Lott...\n"
     ]
    },
    {
     "name": "stderr",
     "output_type": "stream",
     "text": [
      "/tmp/ipykernel_4467/1331416308.py:19: FutureWarning: The behavior of DataFrame concatenation with empty or all-NA entries is deprecated. In a future version, this will no longer exclude empty or all-NA columns when determining the result dtypes. To retain the old behavior, exclude the relevant entries before the concat operation.\n",
      "  final_df = pd.concat([final_df, df])\n"
     ]
    },
    {
     "name": "stdout",
     "output_type": "stream",
     "text": [
      "Took 2.436887264251709 seconds to finish count number 26\n",
      "Processing Kevin Loughery...\n"
     ]
    },
    {
     "name": "stderr",
     "output_type": "stream",
     "text": [
      "/tmp/ipykernel_4467/1331416308.py:19: FutureWarning: The behavior of DataFrame concatenation with empty or all-NA entries is deprecated. In a future version, this will no longer exclude empty or all-NA columns when determining the result dtypes. To retain the old behavior, exclude the relevant entries before the concat operation.\n",
      "  final_df = pd.concat([final_df, df])\n"
     ]
    },
    {
     "name": "stdout",
     "output_type": "stream",
     "text": [
      "Took 1.5528006553649902 seconds to finish count number 27\n",
      "Processing Didi Louzada...\n",
      "Took 2.529496669769287 seconds to finish count number 28\n",
      "Processing Bob Love...\n"
     ]
    },
    {
     "name": "stderr",
     "output_type": "stream",
     "text": [
      "/tmp/ipykernel_4467/1331416308.py:19: FutureWarning: The behavior of DataFrame concatenation with empty or all-NA entries is deprecated. In a future version, this will no longer exclude empty or all-NA columns when determining the result dtypes. To retain the old behavior, exclude the relevant entries before the concat operation.\n",
      "  final_df = pd.concat([final_df, df])\n"
     ]
    },
    {
     "name": "stdout",
     "output_type": "stream",
     "text": [
      "Took 1.7442331314086914 seconds to finish count number 29\n",
      "Processing Kevin Love...\n",
      "Took 0.846942663192749 seconds to finish count number 30\n",
      "Processing Stan Love...\n"
     ]
    },
    {
     "name": "stderr",
     "output_type": "stream",
     "text": [
      "/tmp/ipykernel_4467/1331416308.py:19: FutureWarning: The behavior of DataFrame concatenation with empty or all-NA entries is deprecated. In a future version, this will no longer exclude empty or all-NA columns when determining the result dtypes. To retain the old behavior, exclude the relevant entries before the concat operation.\n",
      "  final_df = pd.concat([final_df, df])\n"
     ]
    },
    {
     "name": "stdout",
     "output_type": "stream",
     "text": [
      "Took 2.53094482421875 seconds to finish count number 31\n",
      "Processing Clyde Lovellette...\n"
     ]
    },
    {
     "name": "stderr",
     "output_type": "stream",
     "text": [
      "/tmp/ipykernel_4467/1331416308.py:19: FutureWarning: The behavior of DataFrame concatenation with empty or all-NA entries is deprecated. In a future version, this will no longer exclude empty or all-NA columns when determining the result dtypes. To retain the old behavior, exclude the relevant entries before the concat operation.\n",
      "  final_df = pd.concat([final_df, df])\n"
     ]
    },
    {
     "name": "stdout",
     "output_type": "stream",
     "text": [
      "Took 1.6394739151000977 seconds to finish count number 32\n",
      "Processing Sidney Lowe...\n",
      "Took 2.383953809738159 seconds to finish count number 33\n",
      "Processing Chuck Lowery...\n"
     ]
    },
    {
     "name": "stderr",
     "output_type": "stream",
     "text": [
      "/tmp/ipykernel_4467/1331416308.py:19: FutureWarning: The behavior of DataFrame concatenation with empty or all-NA entries is deprecated. In a future version, this will no longer exclude empty or all-NA columns when determining the result dtypes. To retain the old behavior, exclude the relevant entries before the concat operation.\n",
      "  final_df = pd.concat([final_df, df])\n"
     ]
    },
    {
     "name": "stdout",
     "output_type": "stream",
     "text": [
      "Took 1.6517157554626465 seconds to finish count number 34\n",
      "Processing Kyle Lowry...\n",
      "Took 0.570976734161377 seconds to finish count number 35\n",
      "Processing Jordan Loyd...\n",
      "Took 2.3639347553253174 seconds to finish count number 36\n",
      "Processing Al Lucas...\n"
     ]
    },
    {
     "name": "stderr",
     "output_type": "stream",
     "text": [
      "/tmp/ipykernel_4467/1331416308.py:19: FutureWarning: The behavior of DataFrame concatenation with empty or all-NA entries is deprecated. In a future version, this will no longer exclude empty or all-NA columns when determining the result dtypes. To retain the old behavior, exclude the relevant entries before the concat operation.\n",
      "  final_df = pd.concat([final_df, df])\n"
     ]
    },
    {
     "name": "stdout",
     "output_type": "stream",
     "text": [
      "Took 2.46763277053833 seconds to finish count number 37\n",
      "Processing Jerry Lucas...\n"
     ]
    },
    {
     "name": "stderr",
     "output_type": "stream",
     "text": [
      "/tmp/ipykernel_4467/1331416308.py:19: FutureWarning: The behavior of DataFrame concatenation with empty or all-NA entries is deprecated. In a future version, this will no longer exclude empty or all-NA columns when determining the result dtypes. To retain the old behavior, exclude the relevant entries before the concat operation.\n",
      "  final_df = pd.concat([final_df, df])\n"
     ]
    },
    {
     "name": "stdout",
     "output_type": "stream",
     "text": [
      "Took 1.5651955604553223 seconds to finish count number 38\n",
      "Processing John Lucas...\n",
      "Took 2.717878580093384 seconds to finish count number 39\n",
      "Processing Kalin Lucas...\n",
      "Took 5.267481088638306 seconds to finish count number 40\n",
      "Processing Maurice Lucas...\n",
      "Took 1.643226146697998 seconds to finish count number 41\n",
      "Processing John Lucas III...\n",
      "Took 1.8214447498321533 seconds to finish count number 42\n",
      "Processing Ted Luckenbill...\n"
     ]
    },
    {
     "name": "stderr",
     "output_type": "stream",
     "text": [
      "/tmp/ipykernel_4467/1331416308.py:19: FutureWarning: The behavior of DataFrame concatenation with empty or all-NA entries is deprecated. In a future version, this will no longer exclude empty or all-NA columns when determining the result dtypes. To retain the old behavior, exclude the relevant entries before the concat operation.\n",
      "  final_df = pd.concat([final_df, df])\n"
     ]
    },
    {
     "name": "stdout",
     "output_type": "stream",
     "text": [
      "Took 2.4867653846740723 seconds to finish count number 43\n",
      "Processing Tyronn Lue...\n",
      "Took 1.399930477142334 seconds to finish count number 44\n",
      "Processing Jim Luisi...\n"
     ]
    },
    {
     "name": "stderr",
     "output_type": "stream",
     "text": [
      "/tmp/ipykernel_4467/1331416308.py:19: FutureWarning: The behavior of DataFrame concatenation with empty or all-NA entries is deprecated. In a future version, this will no longer exclude empty or all-NA columns when determining the result dtypes. To retain the old behavior, exclude the relevant entries before the concat operation.\n",
      "  final_df = pd.concat([final_df, df])\n"
     ]
    },
    {
     "name": "stdout",
     "output_type": "stream",
     "text": [
      "Took 1.9300189018249512 seconds to finish count number 45\n",
      "Processing Al Lujack...\n"
     ]
    },
    {
     "name": "stderr",
     "output_type": "stream",
     "text": [
      "/tmp/ipykernel_4467/1331416308.py:19: FutureWarning: The behavior of DataFrame concatenation with empty or all-NA entries is deprecated. In a future version, this will no longer exclude empty or all-NA columns when determining the result dtypes. To retain the old behavior, exclude the relevant entries before the concat operation.\n",
      "  final_df = pd.concat([final_df, df])\n"
     ]
    },
    {
     "name": "stdout",
     "output_type": "stream",
     "text": [
      "Took 1.5256106853485107 seconds to finish count number 46\n",
      "Processing Phil Lumpkin...\n"
     ]
    },
    {
     "name": "stderr",
     "output_type": "stream",
     "text": [
      "/tmp/ipykernel_4467/1331416308.py:19: FutureWarning: The behavior of DataFrame concatenation with empty or all-NA entries is deprecated. In a future version, this will no longer exclude empty or all-NA columns when determining the result dtypes. To retain the old behavior, exclude the relevant entries before the concat operation.\n",
      "  final_df = pd.concat([final_df, df])\n"
     ]
    },
    {
     "name": "stdout",
     "output_type": "stream",
     "text": [
      "Took 2.352060317993164 seconds to finish count number 47\n",
      "Processing Ray Lumpp...\n"
     ]
    },
    {
     "name": "stderr",
     "output_type": "stream",
     "text": [
      "/tmp/ipykernel_4467/1331416308.py:19: FutureWarning: The behavior of DataFrame concatenation with empty or all-NA entries is deprecated. In a future version, this will no longer exclude empty or all-NA columns when determining the result dtypes. To retain the old behavior, exclude the relevant entries before the concat operation.\n",
      "  final_df = pd.concat([final_df, df])\n"
     ]
    },
    {
     "name": "stdout",
     "output_type": "stream",
     "text": [
      "Took 1.4714839458465576 seconds to finish count number 48\n",
      "Processing Gabriel Lundberg...\n",
      "Took 1.5273199081420898 seconds to finish count number 49\n",
      "Processing Seth Lundy...\n",
      "Took 0.5929703712463379 seconds to finish count number 50\n",
      "Processing Timothe Luwawu-Cabarrot...\n",
      "Took 1.4278192520141602 seconds to finish count number 51\n",
      "Processing Tyler Lydon...\n",
      "Took 1.6630611419677734 seconds to finish count number 52\n",
      "Processing Trey Lyles...\n",
      "Took 0.7125763893127441 seconds to finish count number 53\n",
      "Processing George Lynch...\n",
      "Took 3.506600856781006 seconds to finish count number 54\n",
      "Processing Kevin Lynch...\n",
      "Took 2.3499832153320312 seconds to finish count number 55\n",
      "Processing Mike Lynn...\n"
     ]
    },
    {
     "name": "stderr",
     "output_type": "stream",
     "text": [
      "/tmp/ipykernel_4467/1331416308.py:19: FutureWarning: The behavior of DataFrame concatenation with empty or all-NA entries is deprecated. In a future version, this will no longer exclude empty or all-NA columns when determining the result dtypes. To retain the old behavior, exclude the relevant entries before the concat operation.\n",
      "  final_df = pd.concat([final_df, df])\n"
     ]
    },
    {
     "name": "stdout",
     "output_type": "stream",
     "text": [
      "Took 1.5024430751800537 seconds to finish count number 56\n",
      "Processing Sheldon Mac...\n",
      "Took 1.5865323543548584 seconds to finish count number 57\n",
      "Processing Todd MacCulloch...\n",
      "Took 1.5006048679351807 seconds to finish count number 58\n",
      "Processing Ronnie MacGilvray...\n"
     ]
    },
    {
     "name": "stderr",
     "output_type": "stream",
     "text": [
      "/tmp/ipykernel_4467/1331416308.py:19: FutureWarning: The behavior of DataFrame concatenation with empty or all-NA entries is deprecated. In a future version, this will no longer exclude empty or all-NA columns when determining the result dtypes. To retain the old behavior, exclude the relevant entries before the concat operation.\n",
      "  final_df = pd.concat([final_df, df])\n"
     ]
    },
    {
     "name": "stdout",
     "output_type": "stream",
     "text": [
      "Took 1.8463287353515625 seconds to finish count number 59\n",
      "Processing Don MacLean...\n",
      "Took 2.488617181777954 seconds to finish count number 60\n",
      "Processing Mike Macaluso...\n"
     ]
    },
    {
     "name": "stderr",
     "output_type": "stream",
     "text": [
      "/tmp/ipykernel_4467/1331416308.py:19: FutureWarning: The behavior of DataFrame concatenation with empty or all-NA entries is deprecated. In a future version, this will no longer exclude empty or all-NA columns when determining the result dtypes. To retain the old behavior, exclude the relevant entries before the concat operation.\n",
      "  final_df = pd.concat([final_df, df])\n"
     ]
    },
    {
     "name": "stdout",
     "output_type": "stream",
     "text": [
      "Took 2.221421480178833 seconds to finish count number 61\n",
      "Processing Ed Macauley...\n"
     ]
    },
    {
     "name": "stderr",
     "output_type": "stream",
     "text": [
      "/tmp/ipykernel_4467/1331416308.py:19: FutureWarning: The behavior of DataFrame concatenation with empty or all-NA entries is deprecated. In a future version, this will no longer exclude empty or all-NA columns when determining the result dtypes. To retain the old behavior, exclude the relevant entries before the concat operation.\n",
      "  final_df = pd.concat([final_df, df])\n"
     ]
    },
    {
     "name": "stdout",
     "output_type": "stream",
     "text": [
      "Took 1.6377532482147217 seconds to finish count number 62\n",
      "Processing Scott Machado...\n",
      "Took 1.56382417678833 seconds to finish count number 63\n",
      "Processing Arvydas Macijauskas...\n",
      "Took 1.6056199073791504 seconds to finish count number 64\n",
      "Processing Ollie Mack...\n",
      "Took 1.5679717063903809 seconds to finish count number 65\n",
      "Processing Sam Mack...\n",
      "Took 1.7134573459625244 seconds to finish count number 66\n",
      "Processing Shelvin Mack...\n",
      "Took 2.5610597133636475 seconds to finish count number 67\n",
      "Processing Malcolm Mackey...\n",
      "Took 2.7528491020202637 seconds to finish count number 68\n",
      "Processing Rudy Macklin...\n",
      "Took 5.265975713729858 seconds to finish count number 69\n",
      "Processing Vernon Macklin...\n",
      "Took 2.9131510257720947 seconds to finish count number 70\n",
      "Processing Johnny Macknowski...\n"
     ]
    },
    {
     "name": "stderr",
     "output_type": "stream",
     "text": [
      "/tmp/ipykernel_4467/1331416308.py:19: FutureWarning: The behavior of DataFrame concatenation with empty or all-NA entries is deprecated. In a future version, this will no longer exclude empty or all-NA columns when determining the result dtypes. To retain the old behavior, exclude the relevant entries before the concat operation.\n",
      "  final_df = pd.concat([final_df, df])\n"
     ]
    },
    {
     "name": "stdout",
     "output_type": "stream",
     "text": [
      "Took 2.3590657711029053 seconds to finish count number 71\n",
      "Processing Daryl Macon...\n",
      "Took 2.649506092071533 seconds to finish count number 72\n",
      "Processing Mark Macon...\n",
      "Took 1.5778093338012695 seconds to finish count number 73\n",
      "Processing J.P. Macura...\n",
      "Took 2.465827703475952 seconds to finish count number 74\n",
      "Processing Kyle Macy...\n",
      "Took 1.5180306434631348 seconds to finish count number 75\n",
      "Processing Jack Maddox...\n"
     ]
    },
    {
     "name": "stderr",
     "output_type": "stream",
     "text": [
      "/tmp/ipykernel_4467/1331416308.py:19: FutureWarning: The behavior of DataFrame concatenation with empty or all-NA entries is deprecated. In a future version, this will no longer exclude empty or all-NA columns when determining the result dtypes. To retain the old behavior, exclude the relevant entries before the concat operation.\n",
      "  final_df = pd.concat([final_df, df])\n"
     ]
    },
    {
     "name": "stdout",
     "output_type": "stream",
     "text": [
      "Took 2.269597053527832 seconds to finish count number 76\n",
      "Processing Tito Maddox...\n",
      "Took 2.4650862216949463 seconds to finish count number 77\n",
      "Processing Gerald Madkins...\n",
      "Took 1.714082956314087 seconds to finish count number 78\n",
      "Processing Mark Madsen...\n",
      "Took 1.6365723609924316 seconds to finish count number 79\n",
      "Processing Norm Mager...\n"
     ]
    },
    {
     "name": "stderr",
     "output_type": "stream",
     "text": [
      "/tmp/ipykernel_4467/1331416308.py:19: FutureWarning: The behavior of DataFrame concatenation with empty or all-NA entries is deprecated. In a future version, this will no longer exclude empty or all-NA columns when determining the result dtypes. To retain the old behavior, exclude the relevant entries before the concat operation.\n",
      "  final_df = pd.concat([final_df, df])\n"
     ]
    },
    {
     "name": "stdout",
     "output_type": "stream",
     "text": [
      "Took 5.053708791732788 seconds to finish count number 80\n",
      "Processing Josh Magette...\n",
      "Took 4.062796354293823 seconds to finish count number 81\n",
      "Processing Corey Maggette...\n",
      "Took 5.0480287075042725 seconds to finish count number 82\n",
      "Processing Dave Magley...\n",
      "Took 2.3279876708984375 seconds to finish count number 83\n",
      "Processing Jamaal Magloire...\n",
      "Took 1.6331260204315186 seconds to finish count number 84\n",
      "Processing Will Magnay...\n",
      "Took 1.6682162284851074 seconds to finish count number 85\n",
      "Processing Ian Mahinmi...\n",
      "Took 1.892714262008667 seconds to finish count number 86\n",
      "Processing John Mahnken...\n"
     ]
    },
    {
     "name": "stderr",
     "output_type": "stream",
     "text": [
      "/tmp/ipykernel_4467/1331416308.py:19: FutureWarning: The behavior of DataFrame concatenation with empty or all-NA entries is deprecated. In a future version, this will no longer exclude empty or all-NA columns when determining the result dtypes. To retain the old behavior, exclude the relevant entries before the concat operation.\n",
      "  final_df = pd.concat([final_df, df])\n"
     ]
    },
    {
     "name": "stdout",
     "output_type": "stream",
     "text": [
      "Took 1.7574872970581055 seconds to finish count number 87\n",
      "Processing Francis Mahoney...\n"
     ]
    },
    {
     "name": "stderr",
     "output_type": "stream",
     "text": [
      "/tmp/ipykernel_4467/1331416308.py:19: FutureWarning: The behavior of DataFrame concatenation with empty or all-NA entries is deprecated. In a future version, this will no longer exclude empty or all-NA columns when determining the result dtypes. To retain the old behavior, exclude the relevant entries before the concat operation.\n",
      "  final_df = pd.concat([final_df, df])\n"
     ]
    },
    {
     "name": "stdout",
     "output_type": "stream",
     "text": [
      "Took 1.540994644165039 seconds to finish count number 88\n",
      "Processing Rick Mahorn...\n",
      "Took 6.422273635864258 seconds to finish count number 89\n",
      "Processing Dan Majerle...\n",
      "Took 4.813514709472656 seconds to finish count number 90\n",
      "Processing Renaldo Major...\n",
      "Took 2.4639358520507812 seconds to finish count number 91\n",
      "Processing Thon Maker...\n",
      "Took 1.881685733795166 seconds to finish count number 92\n",
      "Processing Lionel Malamed...\n"
     ]
    },
    {
     "name": "stderr",
     "output_type": "stream",
     "text": [
      "/tmp/ipykernel_4467/1331416308.py:19: FutureWarning: The behavior of DataFrame concatenation with empty or all-NA entries is deprecated. In a future version, this will no longer exclude empty or all-NA columns when determining the result dtypes. To retain the old behavior, exclude the relevant entries before the concat operation.\n",
      "  final_df = pd.concat([final_df, df])\n"
     ]
    },
    {
     "name": "stdout",
     "output_type": "stream",
     "text": [
      "Took 2.3394033908843994 seconds to finish count number 93\n",
      "Processing Theo Maledon...\n",
      "Took 0.4843573570251465 seconds to finish count number 94\n",
      "Processing Jeff Malone...\n",
      "Took 2.593433141708374 seconds to finish count number 95\n",
      "Processing Karl Malone...\n",
      "Took 2.458263874053955 seconds to finish count number 96\n",
      "Processing Moses Malone...\n",
      "Took 2.569471597671509 seconds to finish count number 97\n",
      "Processing Matt Maloney...\n",
      "Took 2.6229491233825684 seconds to finish count number 98\n",
      "Processing Steve Malovic...\n",
      "Took 1.5393450260162354 seconds to finish count number 99\n",
      "collecting chunk 2700 through 2800\n",
      "start point = 2700\n",
      "Processing Sandro Mamukelashvili...\n",
      "Took 1.5091526508331299 seconds to finish count number 0\n",
      "Processing Ted Manakas...\n"
     ]
    },
    {
     "name": "stderr",
     "output_type": "stream",
     "text": [
      "/tmp/ipykernel_4467/1331416308.py:19: FutureWarning: The behavior of DataFrame concatenation with empty or all-NA entries is deprecated. In a future version, this will no longer exclude empty or all-NA columns when determining the result dtypes. To retain the old behavior, exclude the relevant entries before the concat operation.\n",
      "  final_df = pd.concat([final_df, df])\n"
     ]
    },
    {
     "name": "stdout",
     "output_type": "stream",
     "text": [
      "Took 4.231060028076172 seconds to finish count number 1\n",
      "Processing John Mandic...\n"
     ]
    },
    {
     "name": "stderr",
     "output_type": "stream",
     "text": [
      "/tmp/ipykernel_4467/1331416308.py:19: FutureWarning: The behavior of DataFrame concatenation with empty or all-NA entries is deprecated. In a future version, this will no longer exclude empty or all-NA columns when determining the result dtypes. To retain the old behavior, exclude the relevant entries before the concat operation.\n",
      "  final_df = pd.concat([final_df, df])\n"
     ]
    },
    {
     "name": "stdout",
     "output_type": "stream",
     "text": [
      "Took 3.0047569274902344 seconds to finish count number 2\n",
      "Processing Karim Mane...\n",
      "Took 2.398313522338867 seconds to finish count number 3\n",
      "Processing Frank Mangiapane...\n"
     ]
    },
    {
     "name": "stderr",
     "output_type": "stream",
     "text": [
      "/tmp/ipykernel_4467/1331416308.py:19: FutureWarning: The behavior of DataFrame concatenation with empty or all-NA entries is deprecated. In a future version, this will no longer exclude empty or all-NA columns when determining the result dtypes. To retain the old behavior, exclude the relevant entries before the concat operation.\n",
      "  final_df = pd.concat([final_df, df])\n"
     ]
    },
    {
     "name": "stdout",
     "output_type": "stream",
     "text": [
      "Took 1.6745145320892334 seconds to finish count number 4\n",
      "Processing Marcus Mann...\n"
     ]
    },
    {
     "name": "stderr",
     "output_type": "stream",
     "text": [
      "/tmp/ipykernel_4467/1331416308.py:19: FutureWarning: The behavior of DataFrame concatenation with empty or all-NA entries is deprecated. In a future version, this will no longer exclude empty or all-NA columns when determining the result dtypes. To retain the old behavior, exclude the relevant entries before the concat operation.\n",
      "  final_df = pd.concat([final_df, df])\n"
     ]
    },
    {
     "name": "stdout",
     "output_type": "stream",
     "text": [
      "Took 3.6516387462615967 seconds to finish count number 5\n",
      "Processing Terance Mann...\n",
      "Took 0.522700309753418 seconds to finish count number 6\n",
      "Processing Tre Mann...\n",
      "Took 0.6317155361175537 seconds to finish count number 7\n",
      "Processing Danny Manning...\n",
      "Took 1.6044604778289795 seconds to finish count number 8\n",
      "Processing Ed Manning...\n"
     ]
    },
    {
     "name": "stderr",
     "output_type": "stream",
     "text": [
      "/tmp/ipykernel_4467/1331416308.py:19: FutureWarning: The behavior of DataFrame concatenation with empty or all-NA entries is deprecated. In a future version, this will no longer exclude empty or all-NA columns when determining the result dtypes. To retain the old behavior, exclude the relevant entries before the concat operation.\n",
      "  final_df = pd.concat([final_df, df])\n"
     ]
    },
    {
     "name": "stdout",
     "output_type": "stream",
     "text": [
      "Took 2.3913445472717285 seconds to finish count number 9\n",
      "Processing Richard Manning...\n",
      "Took 2.559490919113159 seconds to finish count number 10\n",
      "Processing Nico Mannion...\n",
      "Took 1.6221332550048828 seconds to finish count number 11\n",
      "Processing Pace Mannion...\n",
      "Took 1.6461234092712402 seconds to finish count number 12\n",
      "Processing Nick Mantis...\n"
     ]
    },
    {
     "name": "stderr",
     "output_type": "stream",
     "text": [
      "/tmp/ipykernel_4467/1331416308.py:19: FutureWarning: The behavior of DataFrame concatenation with empty or all-NA entries is deprecated. In a future version, this will no longer exclude empty or all-NA columns when determining the result dtypes. To retain the old behavior, exclude the relevant entries before the concat operation.\n",
      "  final_df = pd.concat([final_df, df])\n"
     ]
    },
    {
     "name": "stdout",
     "output_type": "stream",
     "text": [
      "Took 1.7449157238006592 seconds to finish count number 13\n",
      "Processing Pete Maravich...\n",
      "Took 2.3381528854370117 seconds to finish count number 14\n",
      "Processing Peter Maravich...\n"
     ]
    },
    {
     "name": "stderr",
     "output_type": "stream",
     "text": [
      "/tmp/ipykernel_4467/1331416308.py:19: FutureWarning: The behavior of DataFrame concatenation with empty or all-NA entries is deprecated. In a future version, this will no longer exclude empty or all-NA columns when determining the result dtypes. To retain the old behavior, exclude the relevant entries before the concat operation.\n",
      "  final_df = pd.concat([final_df, df])\n"
     ]
    },
    {
     "name": "stdout",
     "output_type": "stream",
     "text": [
      "Took 1.4449541568756104 seconds to finish count number 15\n",
      "Processing Devyn Marble...\n",
      "Took 1.435863733291626 seconds to finish count number 16\n",
      "Processing Roy Marble...\n",
      "Took 2.4349441528320312 seconds to finish count number 17\n",
      "Processing Stephon Marbury...\n",
      "Took 1.4244577884674072 seconds to finish count number 18\n",
      "Processing Sarunas Marciulionis...\n",
      "Took 1.5414915084838867 seconds to finish count number 19\n",
      "Processing Saul Mariaschin...\n"
     ]
    },
    {
     "name": "stderr",
     "output_type": "stream",
     "text": [
      "/tmp/ipykernel_4467/1331416308.py:19: FutureWarning: The behavior of DataFrame concatenation with empty or all-NA entries is deprecated. In a future version, this will no longer exclude empty or all-NA columns when determining the result dtypes. To retain the old behavior, exclude the relevant entries before the concat operation.\n",
      "  final_df = pd.concat([final_df, df])\n"
     ]
    },
    {
     "name": "stdout",
     "output_type": "stream",
     "text": [
      "Took 1.8487553596496582 seconds to finish count number 20\n",
      "Processing Jack Marin...\n"
     ]
    },
    {
     "name": "stderr",
     "output_type": "stream",
     "text": [
      "/tmp/ipykernel_4467/1331416308.py:19: FutureWarning: The behavior of DataFrame concatenation with empty or all-NA entries is deprecated. In a future version, this will no longer exclude empty or all-NA columns when determining the result dtypes. To retain the old behavior, exclude the relevant entries before the concat operation.\n",
      "  final_df = pd.concat([final_df, df])\n"
     ]
    },
    {
     "name": "stdout",
     "output_type": "stream",
     "text": [
      "Took 2.345180034637451 seconds to finish count number 21\n",
      "Processing Shawn Marion...\n",
      "Took 1.6651103496551514 seconds to finish count number 22\n",
      "Processing Boban Marjanovic...\n",
      "Took 0.6403295993804932 seconds to finish count number 23\n",
      "Processing Lauri Markkanen...\n",
      "Took 0.7699005603790283 seconds to finish count number 24\n",
      "Processing Damir Markota...\n",
      "Took 1.7444963455200195 seconds to finish count number 25\n",
      "Processing Sean Marks...\n",
      "Took 3.0633130073547363 seconds to finish count number 26\n",
      "Processing Harvey Marlatt...\n"
     ]
    },
    {
     "name": "stderr",
     "output_type": "stream",
     "text": [
      "/tmp/ipykernel_4467/1331416308.py:19: FutureWarning: The behavior of DataFrame concatenation with empty or all-NA entries is deprecated. In a future version, this will no longer exclude empty or all-NA columns when determining the result dtypes. To retain the old behavior, exclude the relevant entries before the concat operation.\n",
      "  final_df = pd.concat([final_df, df])\n"
     ]
    },
    {
     "name": "stdout",
     "output_type": "stream",
     "text": [
      "Took 1.5756404399871826 seconds to finish count number 27\n",
      "Processing Eric Marsh...\n"
     ]
    },
    {
     "name": "stderr",
     "output_type": "stream",
     "text": [
      "/tmp/ipykernel_4467/1331416308.py:19: FutureWarning: The behavior of DataFrame concatenation with empty or all-NA entries is deprecated. In a future version, this will no longer exclude empty or all-NA columns when determining the result dtypes. To retain the old behavior, exclude the relevant entries before the concat operation.\n",
      "  final_df = pd.concat([final_df, df])\n"
     ]
    },
    {
     "name": "stdout",
     "output_type": "stream",
     "text": [
      "Took 1.7508294582366943 seconds to finish count number 28\n",
      "Processing Jim Marsh...\n"
     ]
    },
    {
     "name": "stderr",
     "output_type": "stream",
     "text": [
      "/tmp/ipykernel_4467/1331416308.py:19: FutureWarning: The behavior of DataFrame concatenation with empty or all-NA entries is deprecated. In a future version, this will no longer exclude empty or all-NA columns when determining the result dtypes. To retain the old behavior, exclude the relevant entries before the concat operation.\n",
      "  final_df = pd.concat([final_df, df])\n"
     ]
    },
    {
     "name": "stdout",
     "output_type": "stream",
     "text": [
      "Took 2.514953136444092 seconds to finish count number 29\n",
      "Processing Donny Marshall...\n",
      "Took 1.6471545696258545 seconds to finish count number 30\n",
      "Processing Donyell Marshall...\n",
      "Took 1.6225924491882324 seconds to finish count number 31\n",
      "Processing Kendall Marshall...\n",
      "Took 1.6464159488677979 seconds to finish count number 32\n",
      "Processing Naji Marshall...\n",
      "Took 0.5211963653564453 seconds to finish count number 33\n",
      "Processing Rawle Marshall...\n",
      "Took 4.0811803340911865 seconds to finish count number 34\n",
      "Processing Tom Marshall...\n"
     ]
    },
    {
     "name": "stderr",
     "output_type": "stream",
     "text": [
      "/tmp/ipykernel_4467/1331416308.py:19: FutureWarning: The behavior of DataFrame concatenation with empty or all-NA entries is deprecated. In a future version, this will no longer exclude empty or all-NA columns when determining the result dtypes. To retain the old behavior, exclude the relevant entries before the concat operation.\n",
      "  final_df = pd.concat([final_df, df])\n"
     ]
    },
    {
     "name": "stdout",
     "output_type": "stream",
     "text": [
      "Took 1.5697226524353027 seconds to finish count number 35\n",
      "Processing Vester Marshall...\n"
     ]
    },
    {
     "name": "stderr",
     "output_type": "stream",
     "text": [
      "/tmp/ipykernel_4467/1331416308.py:19: FutureWarning: The behavior of DataFrame concatenation with empty or all-NA entries is deprecated. In a future version, this will no longer exclude empty or all-NA columns when determining the result dtypes. To retain the old behavior, exclude the relevant entries before the concat operation.\n",
      "  final_df = pd.concat([final_df, df])\n"
     ]
    },
    {
     "name": "stdout",
     "output_type": "stream",
     "text": [
      "Took 3.463864326477051 seconds to finish count number 36\n",
      "Processing Bill Martin...\n",
      "Took 1.6226654052734375 seconds to finish count number 37\n",
      "Processing Bob Martin...\n",
      "Took 1.5603485107421875 seconds to finish count number 38\n",
      "Processing Brian Martin...\n",
      "Took 1.544379711151123 seconds to finish count number 39\n",
      "Processing Caleb Martin...\n",
      "Took 0.47899508476257324 seconds to finish count number 40\n",
      "Processing Cartier Martin...\n",
      "Took 1.5322918891906738 seconds to finish count number 41\n",
      "Processing Cody Martin...\n",
      "Took 1.5362036228179932 seconds to finish count number 42\n",
      "Processing Cuonzo Martin...\n",
      "Took 2.3099265098571777 seconds to finish count number 43\n",
      "Processing Darrick Martin...\n",
      "Took 1.6089346408843994 seconds to finish count number 44\n",
      "Processing Don Martin...\n"
     ]
    },
    {
     "name": "stderr",
     "output_type": "stream",
     "text": [
      "/tmp/ipykernel_4467/1331416308.py:19: FutureWarning: The behavior of DataFrame concatenation with empty or all-NA entries is deprecated. In a future version, this will no longer exclude empty or all-NA columns when determining the result dtypes. To retain the old behavior, exclude the relevant entries before the concat operation.\n",
      "  final_df = pd.concat([final_df, df])\n"
     ]
    },
    {
     "name": "stdout",
     "output_type": "stream",
     "text": [
      "Took 1.5168447494506836 seconds to finish count number 45\n",
      "Processing Donald Martin...\n"
     ]
    },
    {
     "name": "stderr",
     "output_type": "stream",
     "text": [
      "/tmp/ipykernel_4467/1331416308.py:19: FutureWarning: The behavior of DataFrame concatenation with empty or all-NA entries is deprecated. In a future version, this will no longer exclude empty or all-NA columns when determining the result dtypes. To retain the old behavior, exclude the relevant entries before the concat operation.\n",
      "  final_df = pd.concat([final_df, df])\n"
     ]
    },
    {
     "name": "stdout",
     "output_type": "stream",
     "text": [
      "Took 1.4551842212677002 seconds to finish count number 46\n",
      "Processing Fernando Martin...\n",
      "Took 1.6704068183898926 seconds to finish count number 47\n",
      "Processing Jarell Martin...\n",
      "Took 2.3292722702026367 seconds to finish count number 48\n",
      "Processing Jeff Martin...\n",
      "Took 1.635085105895996 seconds to finish count number 49\n",
      "Processing Jeremiah Martin...\n",
      "Took 1.636159896850586 seconds to finish count number 50\n",
      "Processing KJ Martin...\n",
      "Took 2.4280757904052734 seconds to finish count number 51\n",
      "Processing Kelan Martin...\n",
      "Took 1.5404813289642334 seconds to finish count number 52\n",
      "Processing Kenyon Martin...\n",
      "Took 1.760303258895874 seconds to finish count number 53\n",
      "Processing Kevin Martin...\n",
      "Took 1.8421263694763184 seconds to finish count number 54\n",
      "Processing Larue Martin...\n"
     ]
    },
    {
     "name": "stderr",
     "output_type": "stream",
     "text": [
      "/tmp/ipykernel_4467/1331416308.py:19: FutureWarning: The behavior of DataFrame concatenation with empty or all-NA entries is deprecated. In a future version, this will no longer exclude empty or all-NA columns when determining the result dtypes. To retain the old behavior, exclude the relevant entries before the concat operation.\n",
      "  final_df = pd.concat([final_df, df])\n"
     ]
    },
    {
     "name": "stdout",
     "output_type": "stream",
     "text": [
      "Took 1.4559340476989746 seconds to finish count number 55\n",
      "Processing Mo Martin...\n",
      "Took 1.319629192352295 seconds to finish count number 56\n",
      "Processing Phil Martin...\n"
     ]
    },
    {
     "name": "stderr",
     "output_type": "stream",
     "text": [
      "/tmp/ipykernel_4467/1331416308.py:19: FutureWarning: The behavior of DataFrame concatenation with empty or all-NA entries is deprecated. In a future version, this will no longer exclude empty or all-NA columns when determining the result dtypes. To retain the old behavior, exclude the relevant entries before the concat operation.\n",
      "  final_df = pd.concat([final_df, df])\n"
     ]
    },
    {
     "name": "stdout",
     "output_type": "stream",
     "text": [
      "Took 2.6234066486358643 seconds to finish count number 57\n",
      "Processing Ronald Martin...\n"
     ]
    },
    {
     "name": "stderr",
     "output_type": "stream",
     "text": [
      "/tmp/ipykernel_4467/1331416308.py:19: FutureWarning: The behavior of DataFrame concatenation with empty or all-NA entries is deprecated. In a future version, this will no longer exclude empty or all-NA columns when determining the result dtypes. To retain the old behavior, exclude the relevant entries before the concat operation.\n",
      "  final_df = pd.concat([final_df, df])\n"
     ]
    },
    {
     "name": "stdout",
     "output_type": "stream",
     "text": [
      "Took 2.58115816116333 seconds to finish count number 58\n",
      "Processing Slater Martin...\n"
     ]
    },
    {
     "name": "stderr",
     "output_type": "stream",
     "text": [
      "/tmp/ipykernel_4467/1331416308.py:19: FutureWarning: The behavior of DataFrame concatenation with empty or all-NA entries is deprecated. In a future version, this will no longer exclude empty or all-NA columns when determining the result dtypes. To retain the old behavior, exclude the relevant entries before the concat operation.\n",
      "  final_df = pd.concat([final_df, df])\n"
     ]
    },
    {
     "name": "stdout",
     "output_type": "stream",
     "text": [
      "Took 2.4352834224700928 seconds to finish count number 59\n",
      "Processing Tyrese Martin...\n",
      "Took 2.4032678604125977 seconds to finish count number 60\n",
      "Processing Jamal Mashburn...\n",
      "Took 1.6531376838684082 seconds to finish count number 61\n",
      "Processing Al Masino...\n"
     ]
    },
    {
     "name": "stderr",
     "output_type": "stream",
     "text": [
      "/tmp/ipykernel_4467/1331416308.py:19: FutureWarning: The behavior of DataFrame concatenation with empty or all-NA entries is deprecated. In a future version, this will no longer exclude empty or all-NA columns when determining the result dtypes. To retain the old behavior, exclude the relevant entries before the concat operation.\n",
      "  final_df = pd.concat([final_df, df])\n"
     ]
    },
    {
     "name": "stdout",
     "output_type": "stream",
     "text": [
      "Took 1.6042208671569824 seconds to finish count number 62\n",
      "Processing Anthony Mason...\n",
      "Took 1.7575840950012207 seconds to finish count number 63\n",
      "Processing Desmond Mason...\n",
      "Took 2.4175798892974854 seconds to finish count number 64\n",
      "Processing Frank Mason III...\n",
      "Took 2.382598400115967 seconds to finish count number 65\n",
      "Processing Roger Mason Jr....\n",
      "Took 1.63852858543396 seconds to finish count number 66\n",
      "Processing Tony Massenburg...\n",
      "Took 1.5515336990356445 seconds to finish count number 67\n",
      "Processing Eddie Mast...\n"
     ]
    },
    {
     "name": "stderr",
     "output_type": "stream",
     "text": [
      "/tmp/ipykernel_4467/1331416308.py:19: FutureWarning: The behavior of DataFrame concatenation with empty or all-NA entries is deprecated. In a future version, this will no longer exclude empty or all-NA columns when determining the result dtypes. To retain the old behavior, exclude the relevant entries before the concat operation.\n",
      "  final_df = pd.concat([final_df, df])\n"
     ]
    },
    {
     "name": "stdout",
     "output_type": "stream",
     "text": [
      "Took 1.617938756942749 seconds to finish count number 68\n",
      "Processing Yante Maten...\n",
      "Took 2.122828483581543 seconds to finish count number 69\n",
      "Processing Garrison Mathews...\n",
      "Took 0.5092966556549072 seconds to finish count number 70\n",
      "Processing Mangok Mathiang...\n",
      "Took 1.3529014587402344 seconds to finish count number 71\n",
      "Processing Dakota Mathias...\n",
      "Took 1.7547481060028076 seconds to finish count number 72\n",
      "Processing Bennedict Mathurin...\n",
      "Took 0.5840537548065186 seconds to finish count number 73\n",
      "Processing Wes Matthews...\n",
      "Took 1.3661043643951416 seconds to finish count number 74\n",
      "Processing Wesley Matthews...\n",
      "Took 0.5791490077972412 seconds to finish count number 75\n",
      "Processing Ariel Maughan...\n"
     ]
    },
    {
     "name": "stderr",
     "output_type": "stream",
     "text": [
      "/tmp/ipykernel_4467/1331416308.py:19: FutureWarning: The behavior of DataFrame concatenation with empty or all-NA entries is deprecated. In a future version, this will no longer exclude empty or all-NA columns when determining the result dtypes. To retain the old behavior, exclude the relevant entries before the concat operation.\n",
      "  final_df = pd.concat([final_df, df])\n"
     ]
    },
    {
     "name": "stdout",
     "output_type": "stream",
     "text": [
      "Took 1.462611436843872 seconds to finish count number 76\n",
      "Processing Marlon Maxey...\n",
      "Took 2.558716297149658 seconds to finish count number 77\n",
      "Processing Tyrese Maxey...\n",
      "Took 1.606992244720459 seconds to finish count number 78\n",
      "Processing Jason Maxiell...\n",
      "Took 1.8739094734191895 seconds to finish count number 79\n",
      "Processing Cedric Maxwell...\n",
      "Took 1.816141128540039 seconds to finish count number 80\n",
      "Processing Vernon Maxwell...\n",
      "Took 3.989572525024414 seconds to finish count number 81\n",
      "Processing Don May...\n"
     ]
    },
    {
     "name": "stderr",
     "output_type": "stream",
     "text": [
      "/tmp/ipykernel_4467/1331416308.py:19: FutureWarning: The behavior of DataFrame concatenation with empty or all-NA entries is deprecated. In a future version, this will no longer exclude empty or all-NA columns when determining the result dtypes. To retain the old behavior, exclude the relevant entries before the concat operation.\n",
      "  final_df = pd.concat([final_df, df])\n"
     ]
    },
    {
     "name": "stdout",
     "output_type": "stream",
     "text": [
      "Took 1.7496895790100098 seconds to finish count number 82\n",
      "Processing Scott May...\n",
      "Took 1.6803231239318848 seconds to finish count number 83\n",
      "Processing Sean May...\n",
      "Took 1.8957438468933105 seconds to finish count number 84\n",
      "Processing Lee Mayberry...\n",
      "Took 2.250375270843506 seconds to finish count number 85\n",
      "Processing Clyde Mayes...\n"
     ]
    },
    {
     "name": "stderr",
     "output_type": "stream",
     "text": [
      "/tmp/ipykernel_4467/1331416308.py:19: FutureWarning: The behavior of DataFrame concatenation with empty or all-NA entries is deprecated. In a future version, this will no longer exclude empty or all-NA columns when determining the result dtypes. To retain the old behavior, exclude the relevant entries before the concat operation.\n",
      "  final_df = pd.concat([final_df, df])\n"
     ]
    },
    {
     "name": "stdout",
     "output_type": "stream",
     "text": [
      "Took 1.5656414031982422 seconds to finish count number 86\n",
      "Processing Tharon Mayes...\n",
      "Took 1.4089412689208984 seconds to finish count number 87\n",
      "Processing Bill Mayfield...\n"
     ]
    },
    {
     "name": "stderr",
     "output_type": "stream",
     "text": [
      "/tmp/ipykernel_4467/1331416308.py:19: FutureWarning: The behavior of DataFrame concatenation with empty or all-NA entries is deprecated. In a future version, this will no longer exclude empty or all-NA columns when determining the result dtypes. To retain the old behavior, exclude the relevant entries before the concat operation.\n",
      "  final_df = pd.concat([final_df, df])\n"
     ]
    },
    {
     "name": "stdout",
     "output_type": "stream",
     "text": [
      "Took 2.3827993869781494 seconds to finish count number 88\n",
      "Processing Ken Mayfield...\n"
     ]
    },
    {
     "name": "stderr",
     "output_type": "stream",
     "text": [
      "/tmp/ipykernel_4467/1331416308.py:19: FutureWarning: The behavior of DataFrame concatenation with empty or all-NA entries is deprecated. In a future version, this will no longer exclude empty or all-NA columns when determining the result dtypes. To retain the old behavior, exclude the relevant entries before the concat operation.\n",
      "  final_df = pd.concat([final_df, df])\n"
     ]
    },
    {
     "name": "stdout",
     "output_type": "stream",
     "text": [
      "Took 1.5061872005462646 seconds to finish count number 89\n",
      "Processing Eric Maynor...\n",
      "Took 2.3893539905548096 seconds to finish count number 90\n",
      "Processing O.J. Mayo...\n",
      "Took 1.9427118301391602 seconds to finish count number 91\n",
      "Processing Skylar Mays...\n",
      "Took 0.5784833431243896 seconds to finish count number 92\n",
      "Processing Travis Mays...\n",
      "Took 1.7476370334625244 seconds to finish count number 93\n",
      "Processing Matt Mazza...\n"
     ]
    },
    {
     "name": "stderr",
     "output_type": "stream",
     "text": [
      "/tmp/ipykernel_4467/1331416308.py:19: FutureWarning: The behavior of DataFrame concatenation with empty or all-NA entries is deprecated. In a future version, this will no longer exclude empty or all-NA columns when determining the result dtypes. To retain the old behavior, exclude the relevant entries before the concat operation.\n",
      "  final_df = pd.concat([final_df, df])\n"
     ]
    },
    {
     "name": "stdout",
     "output_type": "stream",
     "text": [
      "Took 3.2713623046875 seconds to finish count number 94\n",
      "Processing Luc Mbah a Moute...\n",
      "Took 2.7655417919158936 seconds to finish count number 95\n",
      "Processing DJ Mbenga...\n",
      "Took 1.5876333713531494 seconds to finish count number 96\n",
      "Processing Bob McAdoo...\n",
      "Took 7.7304847240448 seconds to finish count number 97\n",
      "Processing James Michael McAdoo...\n",
      "Took 1.6775531768798828 seconds to finish count number 98\n",
      "Processing Ken McBride...\n"
     ]
    },
    {
     "name": "stderr",
     "output_type": "stream",
     "text": [
      "/tmp/ipykernel_4467/1331416308.py:19: FutureWarning: The behavior of DataFrame concatenation with empty or all-NA entries is deprecated. In a future version, this will no longer exclude empty or all-NA columns when determining the result dtypes. To retain the old behavior, exclude the relevant entries before the concat operation.\n",
      "  final_df = pd.concat([final_df, df])\n"
     ]
    },
    {
     "name": "stdout",
     "output_type": "stream",
     "text": [
      "Took 2.321605920791626 seconds to finish count number 99\n",
      "collecting chunk 2800 through 2900\n",
      "start point = 2800\n",
      "Processing Miles McBride...\n",
      "Took 0.6181895732879639 seconds to finish count number 0\n",
      "Processing Tahjere McCall...\n",
      "Took 1.8457050323486328 seconds to finish count number 1\n",
      "Processing Ray McCallum...\n",
      "Took 1.7464947700500488 seconds to finish count number 2\n",
      "Processing Bob McCann...\n",
      "Took 1.6417372226715088 seconds to finish count number 3\n",
      "Processing Brendan McCann...\n"
     ]
    },
    {
     "name": "stderr",
     "output_type": "stream",
     "text": [
      "/tmp/ipykernel_4467/1331416308.py:19: FutureWarning: The behavior of DataFrame concatenation with empty or all-NA entries is deprecated. In a future version, this will no longer exclude empty or all-NA columns when determining the result dtypes. To retain the old behavior, exclude the relevant entries before the concat operation.\n",
      "  final_df = pd.concat([final_df, df])\n"
     ]
    },
    {
     "name": "stdout",
     "output_type": "stream",
     "text": [
      "Took 3.1000277996063232 seconds to finish count number 4\n",
      "Processing Mel McCants...\n",
      "Took 1.6819260120391846 seconds to finish count number 5\n",
      "Processing Rashad McCants...\n",
      "Took 2.345628261566162 seconds to finish count number 6\n",
      "Processing Mike McCarron...\n"
     ]
    },
    {
     "name": "stderr",
     "output_type": "stream",
     "text": [
      "/tmp/ipykernel_4467/1331416308.py:19: FutureWarning: The behavior of DataFrame concatenation with empty or all-NA entries is deprecated. In a future version, this will no longer exclude empty or all-NA columns when determining the result dtypes. To retain the old behavior, exclude the relevant entries before the concat operation.\n",
      "  final_df = pd.concat([final_df, df])\n"
     ]
    },
    {
     "name": "stdout",
     "output_type": "stream",
     "text": [
      "Took 1.5473082065582275 seconds to finish count number 7\n",
      "Processing Andre McCarter...\n",
      "Took 2.165426015853882 seconds to finish count number 8\n",
      "Processing Willie McCarter...\n"
     ]
    },
    {
     "name": "stderr",
     "output_type": "stream",
     "text": [
      "/tmp/ipykernel_4467/1331416308.py:19: FutureWarning: The behavior of DataFrame concatenation with empty or all-NA entries is deprecated. In a future version, this will no longer exclude empty or all-NA columns when determining the result dtypes. To retain the old behavior, exclude the relevant entries before the concat operation.\n",
      "  final_df = pd.concat([final_df, df])\n"
     ]
    },
    {
     "name": "stdout",
     "output_type": "stream",
     "text": [
      "Took 2.380845546722412 seconds to finish count number 9\n",
      "Processing Johnny McCarthy...\n"
     ]
    },
    {
     "name": "stderr",
     "output_type": "stream",
     "text": [
      "/tmp/ipykernel_4467/1331416308.py:19: FutureWarning: The behavior of DataFrame concatenation with empty or all-NA entries is deprecated. In a future version, this will no longer exclude empty or all-NA columns when determining the result dtypes. To retain the old behavior, exclude the relevant entries before the concat operation.\n",
      "  final_df = pd.concat([final_df, df])\n"
     ]
    },
    {
     "name": "stdout",
     "output_type": "stream",
     "text": [
      "Took 1.3912146091461182 seconds to finish count number 10\n",
      "Processing Howie McCarty...\n"
     ]
    },
    {
     "name": "stderr",
     "output_type": "stream",
     "text": [
      "/tmp/ipykernel_4467/1331416308.py:19: FutureWarning: The behavior of DataFrame concatenation with empty or all-NA entries is deprecated. In a future version, this will no longer exclude empty or all-NA columns when determining the result dtypes. To retain the old behavior, exclude the relevant entries before the concat operation.\n",
      "  final_df = pd.concat([final_df, df])\n"
     ]
    },
    {
     "name": "stdout",
     "output_type": "stream",
     "text": [
      "Took 2.2543234825134277 seconds to finish count number 11\n",
      "Processing Kelly McCarty...\n",
      "Took 1.5760855674743652 seconds to finish count number 12\n",
      "Processing Walter McCarty...\n",
      "Took 1.391479730606079 seconds to finish count number 13\n",
      "Processing Amal McCaskill...\n",
      "Took 1.636969804763794 seconds to finish count number 14\n",
      "Processing Patrick McCaw...\n",
      "Took 1.6390409469604492 seconds to finish count number 15\n",
      "Processing Dwayne McClain...\n",
      "Took 2.407236337661743 seconds to finish count number 16\n",
      "Processing Ted 'Hound Dog' McClain...\n"
     ]
    },
    {
     "name": "stderr",
     "output_type": "stream",
     "text": [
      "/tmp/ipykernel_4467/1331416308.py:19: FutureWarning: The behavior of DataFrame concatenation with empty or all-NA entries is deprecated. In a future version, this will no longer exclude empty or all-NA columns when determining the result dtypes. To retain the old behavior, exclude the relevant entries before the concat operation.\n",
      "  final_df = pd.concat([final_df, df])\n"
     ]
    },
    {
     "name": "stdout",
     "output_type": "stream",
     "text": [
      "Took 1.5134360790252686 seconds to finish count number 17\n",
      "Processing Dan McClintock...\n",
      "Took 2.32932186126709 seconds to finish count number 18\n",
      "Processing Jack McCloskey...\n"
     ]
    },
    {
     "name": "stderr",
     "output_type": "stream",
     "text": [
      "/tmp/ipykernel_4467/1331416308.py:19: FutureWarning: The behavior of DataFrame concatenation with empty or all-NA entries is deprecated. In a future version, this will no longer exclude empty or all-NA columns when determining the result dtypes. To retain the old behavior, exclude the relevant entries before the concat operation.\n",
      "  final_df = pd.concat([final_df, df])\n"
     ]
    },
    {
     "name": "stdout",
     "output_type": "stream",
     "text": [
      "Took 1.6275968551635742 seconds to finish count number 19\n",
      "Processing George McCloud...\n",
      "Took 1.6464002132415771 seconds to finish count number 20\n",
      "Processing Mac McClung...\n",
      "Took 2.3465001583099365 seconds to finish count number 21\n",
      "Processing CJ McCollum...\n",
      "Took 0.5071444511413574 seconds to finish count number 22\n",
      "Processing John McConathy...\n"
     ]
    },
    {
     "name": "stderr",
     "output_type": "stream",
     "text": [
      "/tmp/ipykernel_4467/1331416308.py:19: FutureWarning: The behavior of DataFrame concatenation with empty or all-NA entries is deprecated. In a future version, this will no longer exclude empty or all-NA columns when determining the result dtypes. To retain the old behavior, exclude the relevant entries before the concat operation.\n",
      "  final_df = pd.concat([final_df, df])\n"
     ]
    },
    {
     "name": "stdout",
     "output_type": "stream",
     "text": [
      "Took 5.700113296508789 seconds to finish count number 23\n",
      "Processing Paul McConnell...\n"
     ]
    },
    {
     "name": "stderr",
     "output_type": "stream",
     "text": [
      "/tmp/ipykernel_4467/1331416308.py:19: FutureWarning: The behavior of DataFrame concatenation with empty or all-NA entries is deprecated. In a future version, this will no longer exclude empty or all-NA columns when determining the result dtypes. To retain the old behavior, exclude the relevant entries before the concat operation.\n",
      "  final_df = pd.concat([final_df, df])\n"
     ]
    },
    {
     "name": "stdout",
     "output_type": "stream",
     "text": [
      "Took 1.7799959182739258 seconds to finish count number 24\n",
      "Processing T.J. McConnell...\n",
      "Took 0.5076518058776855 seconds to finish count number 25\n",
      "Processing Keith McCord...\n"
     ]
    },
    {
     "name": "stderr",
     "output_type": "stream",
     "text": [
      "/tmp/ipykernel_4467/1331416308.py:19: FutureWarning: The behavior of DataFrame concatenation with empty or all-NA entries is deprecated. In a future version, this will no longer exclude empty or all-NA columns when determining the result dtypes. To retain the old behavior, exclude the relevant entries before the concat operation.\n",
      "  final_df = pd.concat([final_df, df])\n"
     ]
    },
    {
     "name": "stdout",
     "output_type": "stream",
     "text": [
      "Took 1.6555967330932617 seconds to finish count number 26\n",
      "Processing Tim McCormick...\n",
      "Took 2.6457841396331787 seconds to finish count number 27\n",
      "Processing Jelani McCoy...\n",
      "Took 2.385838747024536 seconds to finish count number 28\n",
      "Processing Paul McCracken...\n"
     ]
    },
    {
     "name": "stderr",
     "output_type": "stream",
     "text": [
      "/tmp/ipykernel_4467/1331416308.py:19: FutureWarning: The behavior of DataFrame concatenation with empty or all-NA entries is deprecated. In a future version, this will no longer exclude empty or all-NA columns when determining the result dtypes. To retain the old behavior, exclude the relevant entries before the concat operation.\n",
      "  final_df = pd.concat([final_df, df])\n"
     ]
    },
    {
     "name": "stdout",
     "output_type": "stream",
     "text": [
      "Took 2.3285160064697266 seconds to finish count number 29\n",
      "Processing Chris McCray...\n",
      "Took 2.859931468963623 seconds to finish count number 30\n",
      "Processing Rodney McCray...\n",
      "Took 1.6788229942321777 seconds to finish count number 31\n",
      "Processing Scooter McCray...\n",
      "Took 1.5533332824707031 seconds to finish count number 32\n",
      "Processing Erik McCree...\n",
      "Took 1.7012956142425537 seconds to finish count number 33\n",
      "Processing Chris McCullough...\n",
      "Took 2.4410006999969482 seconds to finish count number 34\n",
      "Processing John McCullough...\n"
     ]
    },
    {
     "name": "stderr",
     "output_type": "stream",
     "text": [
      "/tmp/ipykernel_4467/1331416308.py:19: FutureWarning: The behavior of DataFrame concatenation with empty or all-NA entries is deprecated. In a future version, this will no longer exclude empty or all-NA columns when determining the result dtypes. To retain the old behavior, exclude the relevant entries before the concat operation.\n",
      "  final_df = pd.concat([final_df, df])\n"
     ]
    },
    {
     "name": "stdout",
     "output_type": "stream",
     "text": [
      "Took 1.7658438682556152 seconds to finish count number 35\n",
      "Processing Clint McDaniel...\n",
      "Took 2.2564337253570557 seconds to finish count number 36\n",
      "Processing Xavier McDaniel...\n",
      "Took 6.778952598571777 seconds to finish count number 37\n",
      "Processing Jaden McDaniels...\n",
      "Took 0.5661945343017578 seconds to finish count number 38\n",
      "Processing Jalen McDaniels...\n",
      "Took 0.5555438995361328 seconds to finish count number 39\n",
      "Processing Jim McDaniels...\n"
     ]
    },
    {
     "name": "stderr",
     "output_type": "stream",
     "text": [
      "/tmp/ipykernel_4467/1331416308.py:19: FutureWarning: The behavior of DataFrame concatenation with empty or all-NA entries is deprecated. In a future version, this will no longer exclude empty or all-NA columns when determining the result dtypes. To retain the old behavior, exclude the relevant entries before the concat operation.\n",
      "  final_df = pd.concat([final_df, df])\n"
     ]
    },
    {
     "name": "stdout",
     "output_type": "stream",
     "text": [
      "Took 1.6063082218170166 seconds to finish count number 40\n",
      "Processing KJ McDaniels...\n",
      "Took 2.5472583770751953 seconds to finish count number 41\n",
      "Processing Doug McDermott...\n",
      "Took 1.7477049827575684 seconds to finish count number 42\n",
      "Processing Sean McDermott...\n",
      "Took 2.451206684112549 seconds to finish count number 43\n",
      "Processing Ben McDonald...\n",
      "Took 1.5396795272827148 seconds to finish count number 44\n",
      "Processing Glenn McDonald...\n"
     ]
    },
    {
     "name": "stderr",
     "output_type": "stream",
     "text": [
      "/tmp/ipykernel_4467/1331416308.py:19: FutureWarning: The behavior of DataFrame concatenation with empty or all-NA entries is deprecated. In a future version, this will no longer exclude empty or all-NA columns when determining the result dtypes. To retain the old behavior, exclude the relevant entries before the concat operation.\n",
      "  final_df = pd.concat([final_df, df])\n"
     ]
    },
    {
     "name": "stdout",
     "output_type": "stream",
     "text": [
      "Took 1.427593469619751 seconds to finish count number 45\n",
      "Processing Michael McDonald...\n",
      "Took 2.2978384494781494 seconds to finish count number 46\n",
      "Processing Hank McDowell...\n",
      "Took 1.6057534217834473 seconds to finish count number 47\n",
      "Processing Antonio McDyess...\n",
      "Took 1.5326659679412842 seconds to finish count number 48\n",
      "Processing Jim McElroy...\n",
      "Took 1.4507286548614502 seconds to finish count number 49\n",
      "Processing Ivan McFarlin...\n",
      "Took 1.6446175575256348 seconds to finish count number 50\n",
      "Processing Mel McGaha...\n"
     ]
    },
    {
     "name": "stderr",
     "output_type": "stream",
     "text": [
      "/tmp/ipykernel_4467/1331416308.py:19: FutureWarning: The behavior of DataFrame concatenation with empty or all-NA entries is deprecated. In a future version, this will no longer exclude empty or all-NA columns when determining the result dtypes. To retain the old behavior, exclude the relevant entries before the concat operation.\n",
      "  final_df = pd.concat([final_df, df])\n"
     ]
    },
    {
     "name": "stdout",
     "output_type": "stream",
     "text": [
      "Took 1.650113821029663 seconds to finish count number 51\n",
      "Processing Mitch McGary...\n",
      "Took 1.6979894638061523 seconds to finish count number 52\n",
      "Processing JaVale McGee...\n",
      "Took 0.5120916366577148 seconds to finish count number 53\n",
      "Processing Mike McGee...\n",
      "Took 1.7438158988952637 seconds to finish count number 54\n",
      "Processing Bill McGill...\n"
     ]
    },
    {
     "name": "stderr",
     "output_type": "stream",
     "text": [
      "/tmp/ipykernel_4467/1331416308.py:19: FutureWarning: The behavior of DataFrame concatenation with empty or all-NA entries is deprecated. In a future version, this will no longer exclude empty or all-NA columns when determining the result dtypes. To retain the old behavior, exclude the relevant entries before the concat operation.\n",
      "  final_df = pd.concat([final_df, df])\n"
     ]
    },
    {
     "name": "stdout",
     "output_type": "stream",
     "text": [
      "Took 1.533764362335205 seconds to finish count number 55\n",
      "Processing George McGinnis...\n",
      "Took 1.4819324016571045 seconds to finish count number 56\n",
      "Processing Jon McGlocklin...\n"
     ]
    },
    {
     "name": "stderr",
     "output_type": "stream",
     "text": [
      "/tmp/ipykernel_4467/1331416308.py:19: FutureWarning: The behavior of DataFrame concatenation with empty or all-NA entries is deprecated. In a future version, this will no longer exclude empty or all-NA columns when determining the result dtypes. To retain the old behavior, exclude the relevant entries before the concat operation.\n",
      "  final_df = pd.concat([final_df, df])\n"
     ]
    },
    {
     "name": "stdout",
     "output_type": "stream",
     "text": [
      "Took 1.824577808380127 seconds to finish count number 57\n",
      "Processing Bryce McGowens...\n",
      "Took 2.325624704360962 seconds to finish count number 58\n",
      "Processing Tracy McGrady...\n",
      "Took 1.6389448642730713 seconds to finish count number 59\n",
      "Processing Gil McGregor...\n"
     ]
    },
    {
     "name": "stderr",
     "output_type": "stream",
     "text": [
      "/tmp/ipykernel_4467/1331416308.py:19: FutureWarning: The behavior of DataFrame concatenation with empty or all-NA entries is deprecated. In a future version, this will no longer exclude empty or all-NA columns when determining the result dtypes. To retain the old behavior, exclude the relevant entries before the concat operation.\n",
      "  final_df = pd.concat([final_df, df])\n"
     ]
    },
    {
     "name": "stdout",
     "output_type": "stream",
     "text": [
      "Took 1.4981951713562012 seconds to finish count number 60\n",
      "Processing Cameron McGriff...\n",
      "Took 1.6178007125854492 seconds to finish count number 61\n",
      "Processing Rodney McGruder...\n",
      "Took 1.7389328479766846 seconds to finish count number 62\n",
      "Processing Al McGuire...\n"
     ]
    },
    {
     "name": "stderr",
     "output_type": "stream",
     "text": [
      "/tmp/ipykernel_4467/1331416308.py:19: FutureWarning: The behavior of DataFrame concatenation with empty or all-NA entries is deprecated. In a future version, this will no longer exclude empty or all-NA columns when determining the result dtypes. To retain the old behavior, exclude the relevant entries before the concat operation.\n",
      "  final_df = pd.concat([final_df, df])\n"
     ]
    },
    {
     "name": "stdout",
     "output_type": "stream",
     "text": [
      "Took 2.3171632289886475 seconds to finish count number 63\n",
      "Processing Allie McGuire...\n"
     ]
    },
    {
     "name": "stderr",
     "output_type": "stream",
     "text": [
      "/tmp/ipykernel_4467/1331416308.py:19: FutureWarning: The behavior of DataFrame concatenation with empty or all-NA entries is deprecated. In a future version, this will no longer exclude empty or all-NA columns when determining the result dtypes. To retain the old behavior, exclude the relevant entries before the concat operation.\n",
      "  final_df = pd.concat([final_df, df])\n"
     ]
    },
    {
     "name": "stdout",
     "output_type": "stream",
     "text": [
      "Took 1.465008020401001 seconds to finish count number 64\n",
      "Processing Dick McGuire...\n"
     ]
    },
    {
     "name": "stderr",
     "output_type": "stream",
     "text": [
      "/tmp/ipykernel_4467/1331416308.py:19: FutureWarning: The behavior of DataFrame concatenation with empty or all-NA entries is deprecated. In a future version, this will no longer exclude empty or all-NA columns when determining the result dtypes. To retain the old behavior, exclude the relevant entries before the concat operation.\n",
      "  final_df = pd.concat([final_df, df])\n"
     ]
    },
    {
     "name": "stdout",
     "output_type": "stream",
     "text": [
      "Took 2.5719523429870605 seconds to finish count number 65\n",
      "Processing Dominic McGuire...\n",
      "Took 1.6961448192596436 seconds to finish count number 66\n",
      "Processing Kevin McHale...\n",
      "Took 2.665217638015747 seconds to finish count number 67\n",
      "Processing Jim McIlvaine...\n",
      "Took 1.4889981746673584 seconds to finish count number 68\n",
      "Processing Jeff McInnis...\n",
      "Took 2.1221868991851807 seconds to finish count number 69\n",
      "Processing Kenny McIntosh...\n"
     ]
    },
    {
     "name": "stderr",
     "output_type": "stream",
     "text": [
      "/tmp/ipykernel_4467/1331416308.py:19: FutureWarning: The behavior of DataFrame concatenation with empty or all-NA entries is deprecated. In a future version, this will no longer exclude empty or all-NA columns when determining the result dtypes. To retain the old behavior, exclude the relevant entries before the concat operation.\n",
      "  final_df = pd.concat([final_df, df])\n"
     ]
    },
    {
     "name": "stdout",
     "output_type": "stream",
     "text": [
      "Took 1.732358455657959 seconds to finish count number 70\n",
      "Processing Kevin McKenna...\n",
      "Took 5.829274415969849 seconds to finish count number 71\n",
      "Processing Forrest McKenzie...\n",
      "Took 1.6466772556304932 seconds to finish count number 72\n",
      "Processing Stan McKenzie...\n"
     ]
    },
    {
     "name": "stderr",
     "output_type": "stream",
     "text": [
      "/tmp/ipykernel_4467/1331416308.py:19: FutureWarning: The behavior of DataFrame concatenation with empty or all-NA entries is deprecated. In a future version, this will no longer exclude empty or all-NA columns when determining the result dtypes. To retain the old behavior, exclude the relevant entries before the concat operation.\n",
      "  final_df = pd.concat([final_df, df])\n"
     ]
    },
    {
     "name": "stdout",
     "output_type": "stream",
     "text": [
      "Took 1.4237926006317139 seconds to finish count number 73\n",
      "Processing Derrick McKey...\n",
      "Took 2.2762272357940674 seconds to finish count number 74\n",
      "Processing Aaron McKie...\n",
      "Took 3.15230393409729 seconds to finish count number 75\n",
      "Processing Billy McKinney...\n",
      "Took 2.5712311267852783 seconds to finish count number 76\n",
      "Processing Carlton McKinney...\n",
      "Took 1.7478797435760498 seconds to finish count number 77\n",
      "Processing Horace McKinney...\n"
     ]
    },
    {
     "name": "stderr",
     "output_type": "stream",
     "text": [
      "/tmp/ipykernel_4467/1331416308.py:19: FutureWarning: The behavior of DataFrame concatenation with empty or all-NA entries is deprecated. In a future version, this will no longer exclude empty or all-NA columns when determining the result dtypes. To retain the old behavior, exclude the relevant entries before the concat operation.\n",
      "  final_df = pd.concat([final_df, df])\n"
     ]
    },
    {
     "name": "stdout",
     "output_type": "stream",
     "text": [
      "Took 2.3278567790985107 seconds to finish count number 78\n",
      "Processing Trey McKinney-Jones...\n",
      "Took 2.4893958568573 seconds to finish count number 79\n",
      "Processing Alfonzo McKinnie...\n",
      "Took 1.846224308013916 seconds to finish count number 80\n",
      "Processing JaQuori McLaughlin...\n",
      "Took 1.7325425148010254 seconds to finish count number 81\n",
      "Processing Jordan McLaughlin...\n",
      "Took 0.6060929298400879 seconds to finish count number 82\n",
      "Processing Ben McLemore...\n",
      "Took 2.8552639484405518 seconds to finish count number 83\n",
      "Processing Mccoy McLemore...\n"
     ]
    },
    {
     "name": "stderr",
     "output_type": "stream",
     "text": [
      "/tmp/ipykernel_4467/1331416308.py:19: FutureWarning: The behavior of DataFrame concatenation with empty or all-NA entries is deprecated. In a future version, this will no longer exclude empty or all-NA columns when determining the result dtypes. To retain the old behavior, exclude the relevant entries before the concat operation.\n",
      "  final_df = pd.concat([final_df, df])\n"
     ]
    },
    {
     "name": "stdout",
     "output_type": "stream",
     "text": [
      "Took 1.4561493396759033 seconds to finish count number 84\n",
      "Processing George McLeod...\n"
     ]
    },
    {
     "name": "stderr",
     "output_type": "stream",
     "text": [
      "/tmp/ipykernel_4467/1331416308.py:19: FutureWarning: The behavior of DataFrame concatenation with empty or all-NA entries is deprecated. In a future version, this will no longer exclude empty or all-NA columns when determining the result dtypes. To retain the old behavior, exclude the relevant entries before the concat operation.\n",
      "  final_df = pd.concat([final_df, df])\n"
     ]
    },
    {
     "name": "stdout",
     "output_type": "stream",
     "text": [
      "Took 1.5499207973480225 seconds to finish count number 85\n",
      "Processing Keith McLeod...\n",
      "Took 2.3717539310455322 seconds to finish count number 86\n",
      "Processing Roshown McLeod...\n",
      "Took 2.5373375415802 seconds to finish count number 87\n",
      "Processing Jack McMahon...\n"
     ]
    },
    {
     "name": "stderr",
     "output_type": "stream",
     "text": [
      "/tmp/ipykernel_4467/1331416308.py:19: FutureWarning: The behavior of DataFrame concatenation with empty or all-NA entries is deprecated. In a future version, this will no longer exclude empty or all-NA columns when determining the result dtypes. To retain the old behavior, exclude the relevant entries before the concat operation.\n",
      "  final_df = pd.concat([final_df, df])\n"
     ]
    },
    {
     "name": "stdout",
     "output_type": "stream",
     "text": [
      "Took 1.5039825439453125 seconds to finish count number 88\n",
      "Processing Nate McMillan...\n",
      "Took 3.4837708473205566 seconds to finish count number 89\n",
      "Processing Tom McMillen...\n",
      "Took 1.7381088733673096 seconds to finish count number 90\n",
      "Processing Jim McMillian...\n"
     ]
    },
    {
     "name": "stderr",
     "output_type": "stream",
     "text": [
      "/tmp/ipykernel_4467/1331416308.py:19: FutureWarning: The behavior of DataFrame concatenation with empty or all-NA entries is deprecated. In a future version, this will no longer exclude empty or all-NA columns when determining the result dtypes. To retain the old behavior, exclude the relevant entries before the concat operation.\n",
      "  final_df = pd.concat([final_df, df])\n"
     ]
    },
    {
     "name": "stdout",
     "output_type": "stream",
     "text": [
      "Took 1.770993947982788 seconds to finish count number 91\n",
      "Processing Shellie McMillon...\n"
     ]
    },
    {
     "name": "stderr",
     "output_type": "stream",
     "text": [
      "/tmp/ipykernel_4467/1331416308.py:19: FutureWarning: The behavior of DataFrame concatenation with empty or all-NA entries is deprecated. In a future version, this will no longer exclude empty or all-NA columns when determining the result dtypes. To retain the old behavior, exclude the relevant entries before the concat operation.\n",
      "  final_df = pd.concat([final_df, df])\n"
     ]
    },
    {
     "name": "stdout",
     "output_type": "stream",
     "text": [
      "Took 1.4342403411865234 seconds to finish count number 92\n",
      "Processing Mal McMullan...\n"
     ]
    },
    {
     "name": "stderr",
     "output_type": "stream",
     "text": [
      "/tmp/ipykernel_4467/1331416308.py:19: FutureWarning: The behavior of DataFrame concatenation with empty or all-NA entries is deprecated. In a future version, this will no longer exclude empty or all-NA columns when determining the result dtypes. To retain the old behavior, exclude the relevant entries before the concat operation.\n",
      "  final_df = pd.concat([final_df, df])\n"
     ]
    },
    {
     "name": "stdout",
     "output_type": "stream",
     "text": [
      "Took 1.3561525344848633 seconds to finish count number 93\n",
      "Processing Chet McNabb...\n"
     ]
    },
    {
     "name": "stderr",
     "output_type": "stream",
     "text": [
      "/tmp/ipykernel_4467/1331416308.py:19: FutureWarning: The behavior of DataFrame concatenation with empty or all-NA entries is deprecated. In a future version, this will no longer exclude empty or all-NA columns when determining the result dtypes. To retain the old behavior, exclude the relevant entries before the concat operation.\n",
      "  final_df = pd.concat([final_df, df])\n"
     ]
    },
    {
     "name": "stdout",
     "output_type": "stream",
     "text": [
      "Took 2.4120497703552246 seconds to finish count number 94\n",
      "Processing Mark McNamara...\n",
      "Took 1.658290147781372 seconds to finish count number 95\n",
      "Processing Joe McNamee...\n"
     ]
    },
    {
     "name": "stderr",
     "output_type": "stream",
     "text": [
      "/tmp/ipykernel_4467/1331416308.py:19: FutureWarning: The behavior of DataFrame concatenation with empty or all-NA entries is deprecated. In a future version, this will no longer exclude empty or all-NA columns when determining the result dtypes. To retain the old behavior, exclude the relevant entries before the concat operation.\n",
      "  final_df = pd.concat([final_df, df])\n"
     ]
    },
    {
     "name": "stdout",
     "output_type": "stream",
     "text": [
      "Took 1.6071834564208984 seconds to finish count number 96\n",
      "Processing Jerel McNeal...\n",
      "Took 2.8156983852386475 seconds to finish count number 97\n",
      "Processing Chris McNealy...\n",
      "Took 1.799217700958252 seconds to finish count number 98\n",
      "Processing Bob McNeill...\n"
     ]
    },
    {
     "name": "stderr",
     "output_type": "stream",
     "text": [
      "/tmp/ipykernel_4467/1331416308.py:19: FutureWarning: The behavior of DataFrame concatenation with empty or all-NA entries is deprecated. In a future version, this will no longer exclude empty or all-NA columns when determining the result dtypes. To retain the old behavior, exclude the relevant entries before the concat operation.\n",
      "  final_df = pd.concat([final_df, df])\n"
     ]
    },
    {
     "name": "stdout",
     "output_type": "stream",
     "text": [
      "Took 1.4297106266021729 seconds to finish count number 99\n",
      "collecting chunk 2900 through 3000\n",
      "start point = 2900\n",
      "Processing Larry McNeill...\n",
      "Took 1.7476789951324463 seconds to finish count number 0\n",
      "Processing Carl McNulty...\n",
      "Took 3.579988479614258 seconds to finish count number 1\n",
      "Processing Paul McPherson...\n"
     ]
    },
    {
     "name": "stderr",
     "output_type": "stream",
     "text": [
      "/tmp/ipykernel_4467/1331416308.py:19: FutureWarning: The behavior of DataFrame concatenation with empty or all-NA entries is deprecated. In a future version, this will no longer exclude empty or all-NA columns when determining the result dtypes. To retain the old behavior, exclude the relevant entries before the concat operation.\n",
      "  final_df = pd.concat([final_df, df])\n"
     ]
    },
    {
     "name": "stdout",
     "output_type": "stream",
     "text": [
      "Took 1.5542302131652832 seconds to finish count number 2\n",
      "Processing Cozell McQueen...\n",
      "Took 1.6462841033935547 seconds to finish count number 3\n",
      "Processing Jordan McRae...\n",
      "Took 3.369497060775757 seconds to finish count number 4\n",
      "Processing Thales McReynolds...\n"
     ]
    },
    {
     "name": "stderr",
     "output_type": "stream",
     "text": [
      "/tmp/ipykernel_4467/1331416308.py:19: FutureWarning: The behavior of DataFrame concatenation with empty or all-NA entries is deprecated. In a future version, this will no longer exclude empty or all-NA columns when determining the result dtypes. To retain the old behavior, exclude the relevant entries before the concat operation.\n",
      "  final_df = pd.concat([final_df, df])\n"
     ]
    },
    {
     "name": "stdout",
     "output_type": "stream",
     "text": [
      "Took 2.570204257965088 seconds to finish count number 5\n",
      "Processing Josh McRoberts...\n",
      "Took 2.747720718383789 seconds to finish count number 6\n",
      "Processing Eric McWilliams...\n"
     ]
    },
    {
     "name": "stderr",
     "output_type": "stream",
     "text": [
      "/tmp/ipykernel_4467/1331416308.py:19: FutureWarning: The behavior of DataFrame concatenation with empty or all-NA entries is deprecated. In a future version, this will no longer exclude empty or all-NA columns when determining the result dtypes. To retain the old behavior, exclude the relevant entries before the concat operation.\n",
      "  final_df = pd.concat([final_df, df])\n"
     ]
    },
    {
     "name": "stdout",
     "output_type": "stream",
     "text": [
      "Took 2.5667564868927 seconds to finish count number 7\n",
      "Processing George Mearns...\n"
     ]
    },
    {
     "name": "stderr",
     "output_type": "stream",
     "text": [
      "/tmp/ipykernel_4467/1331416308.py:19: FutureWarning: The behavior of DataFrame concatenation with empty or all-NA entries is deprecated. In a future version, this will no longer exclude empty or all-NA columns when determining the result dtypes. To retain the old behavior, exclude the relevant entries before the concat operation.\n",
      "  final_df = pd.concat([final_df, df])\n"
     ]
    },
    {
     "name": "stdout",
     "output_type": "stream",
     "text": [
      "Took 1.9375605583190918 seconds to finish count number 8\n",
      "Processing Slava Medvedenko...\n",
      "Took 1.6752898693084717 seconds to finish count number 9\n",
      "Processing Darnell Mee...\n",
      "Took 1.912306308746338 seconds to finish count number 10\n",
      "Processing Jodie Meeks...\n",
      "Took 1.6462912559509277 seconds to finish count number 11\n",
      "Processing Cliff Meely...\n"
     ]
    },
    {
     "name": "stderr",
     "output_type": "stream",
     "text": [
      "/tmp/ipykernel_4467/1331416308.py:19: FutureWarning: The behavior of DataFrame concatenation with empty or all-NA entries is deprecated. In a future version, this will no longer exclude empty or all-NA columns when determining the result dtypes. To retain the old behavior, exclude the relevant entries before the concat operation.\n",
      "  final_df = pd.concat([final_df, df])\n"
     ]
    },
    {
     "name": "stdout",
     "output_type": "stream",
     "text": [
      "Took 1.5094115734100342 seconds to finish count number 12\n",
      "Processing Scott Meents...\n",
      "Took 1.8363866806030273 seconds to finish count number 13\n",
      "Processing Dick Mehen...\n"
     ]
    },
    {
     "name": "stderr",
     "output_type": "stream",
     "text": [
      "/tmp/ipykernel_4467/1331416308.py:19: FutureWarning: The behavior of DataFrame concatenation with empty or all-NA entries is deprecated. In a future version, this will no longer exclude empty or all-NA columns when determining the result dtypes. To retain the old behavior, exclude the relevant entries before the concat operation.\n",
      "  final_df = pd.concat([final_df, df])\n"
     ]
    },
    {
     "name": "stdout",
     "output_type": "stream",
     "text": [
      "Took 2.2894484996795654 seconds to finish count number 14\n",
      "Processing Don Meineke...\n"
     ]
    },
    {
     "name": "stderr",
     "output_type": "stream",
     "text": [
      "/tmp/ipykernel_4467/1331416308.py:19: FutureWarning: The behavior of DataFrame concatenation with empty or all-NA entries is deprecated. In a future version, this will no longer exclude empty or all-NA columns when determining the result dtypes. To retain the old behavior, exclude the relevant entries before the concat operation.\n",
      "  final_df = pd.concat([final_df, df])\n"
     ]
    },
    {
     "name": "stdout",
     "output_type": "stream",
     "text": [
      "Took 2.4529240131378174 seconds to finish count number 15\n",
      "Processing Carl Meinhold...\n"
     ]
    },
    {
     "name": "stderr",
     "output_type": "stream",
     "text": [
      "/tmp/ipykernel_4467/1331416308.py:19: FutureWarning: The behavior of DataFrame concatenation with empty or all-NA entries is deprecated. In a future version, this will no longer exclude empty or all-NA columns when determining the result dtypes. To retain the old behavior, exclude the relevant entries before the concat operation.\n",
      "  final_df = pd.concat([final_df, df])\n"
     ]
    },
    {
     "name": "stdout",
     "output_type": "stream",
     "text": [
      "Took 1.6041607856750488 seconds to finish count number 16\n",
      "Processing Salah Mejri...\n",
      "Took 1.3529138565063477 seconds to finish count number 17\n",
      "Processing Gal Mekel...\n",
      "Took 2.58805513381958 seconds to finish count number 18\n",
      "Processing Bill Melchionni...\n"
     ]
    },
    {
     "name": "stderr",
     "output_type": "stream",
     "text": [
      "/tmp/ipykernel_4467/1331416308.py:19: FutureWarning: The behavior of DataFrame concatenation with empty or all-NA entries is deprecated. In a future version, this will no longer exclude empty or all-NA columns when determining the result dtypes. To retain the old behavior, exclude the relevant entries before the concat operation.\n",
      "  final_df = pd.concat([final_df, df])\n"
     ]
    },
    {
     "name": "stdout",
     "output_type": "stream",
     "text": [
      "Took 2.949950695037842 seconds to finish count number 19\n",
      "Processing Gary Melchionni...\n"
     ]
    },
    {
     "name": "stderr",
     "output_type": "stream",
     "text": [
      "/tmp/ipykernel_4467/1331416308.py:19: FutureWarning: The behavior of DataFrame concatenation with empty or all-NA entries is deprecated. In a future version, this will no longer exclude empty or all-NA columns when determining the result dtypes. To retain the old behavior, exclude the relevant entries before the concat operation.\n",
      "  final_df = pd.concat([final_df, df])\n"
     ]
    },
    {
     "name": "stdout",
     "output_type": "stream",
     "text": [
      "Took 1.5109357833862305 seconds to finish count number 20\n",
      "Processing Nicolo Melli...\n",
      "Took 2.3839354515075684 seconds to finish count number 21\n",
      "Processing Fab Melo...\n",
      "Took 2.861574172973633 seconds to finish count number 22\n",
      "Processing De'Anthony Melton...\n",
      "Took 1.8310341835021973 seconds to finish count number 23\n",
      "Processing Ed Melvin...\n"
     ]
    },
    {
     "name": "stderr",
     "output_type": "stream",
     "text": [
      "/tmp/ipykernel_4467/1331416308.py:19: FutureWarning: The behavior of DataFrame concatenation with empty or all-NA entries is deprecated. In a future version, this will no longer exclude empty or all-NA columns when determining the result dtypes. To retain the old behavior, exclude the relevant entries before the concat operation.\n",
      "  final_df = pd.concat([final_df, df])\n"
     ]
    },
    {
     "name": "stdout",
     "output_type": "stream",
     "text": [
      "Took 1.4707777500152588 seconds to finish count number 24\n",
      "Processing Dean Meminger...\n"
     ]
    },
    {
     "name": "stderr",
     "output_type": "stream",
     "text": [
      "/tmp/ipykernel_4467/1331416308.py:19: FutureWarning: The behavior of DataFrame concatenation with empty or all-NA entries is deprecated. In a future version, this will no longer exclude empty or all-NA columns when determining the result dtypes. To retain the old behavior, exclude the relevant entries before the concat operation.\n",
      "  final_df = pd.concat([final_df, df])\n"
     ]
    },
    {
     "name": "stdout",
     "output_type": "stream",
     "text": [
      "Took 1.5917730331420898 seconds to finish count number 25\n",
      "Processing Chuck Mencel...\n"
     ]
    },
    {
     "name": "stderr",
     "output_type": "stream",
     "text": [
      "/tmp/ipykernel_4467/1331416308.py:19: FutureWarning: The behavior of DataFrame concatenation with empty or all-NA entries is deprecated. In a future version, this will no longer exclude empty or all-NA columns when determining the result dtypes. To retain the old behavior, exclude the relevant entries before the concat operation.\n",
      "  final_df = pd.concat([final_df, df])\n"
     ]
    },
    {
     "name": "stdout",
     "output_type": "stream",
     "text": [
      "Took 1.6366050243377686 seconds to finish count number 26\n",
      "Processing John Mengelt...\n",
      "Took 1.430490493774414 seconds to finish count number 27\n",
      "Processing Ken Menke...\n"
     ]
    },
    {
     "name": "stderr",
     "output_type": "stream",
     "text": [
      "/tmp/ipykernel_4467/1331416308.py:19: FutureWarning: The behavior of DataFrame concatenation with empty or all-NA entries is deprecated. In a future version, this will no longer exclude empty or all-NA columns when determining the result dtypes. To retain the old behavior, exclude the relevant entries before the concat operation.\n",
      "  final_df = pd.concat([final_df, df])\n"
     ]
    },
    {
     "name": "stdout",
     "output_type": "stream",
     "text": [
      "Took 1.6728870868682861 seconds to finish count number 28\n",
      "Processing Pops Mensah-Bonsu...\n",
      "Took 4.782408714294434 seconds to finish count number 29\n",
      "Processing Ron Mercer...\n",
      "Took 1.533843755722046 seconds to finish count number 30\n",
      "Processing Joe Meriweather...\n",
      "Took 1.4500093460083008 seconds to finish count number 31\n",
      "Processing Porter Meriwether...\n"
     ]
    },
    {
     "name": "stderr",
     "output_type": "stream",
     "text": [
      "/tmp/ipykernel_4467/1331416308.py:19: FutureWarning: The behavior of DataFrame concatenation with empty or all-NA entries is deprecated. In a future version, this will no longer exclude empty or all-NA columns when determining the result dtypes. To retain the old behavior, exclude the relevant entries before the concat operation.\n",
      "  final_df = pd.concat([final_df, df])\n"
     ]
    },
    {
     "name": "stdout",
     "output_type": "stream",
     "text": [
      "Took 2.343621015548706 seconds to finish count number 32\n",
      "Processing Sam Merrill...\n",
      "Took 0.45873236656188965 seconds to finish count number 33\n",
      "Processing Tom Meschery...\n"
     ]
    },
    {
     "name": "stderr",
     "output_type": "stream",
     "text": [
      "/tmp/ipykernel_4467/1331416308.py:19: FutureWarning: The behavior of DataFrame concatenation with empty or all-NA entries is deprecated. In a future version, this will no longer exclude empty or all-NA columns when determining the result dtypes. To retain the old behavior, exclude the relevant entries before the concat operation.\n",
      "  final_df = pd.concat([final_df, df])\n"
     ]
    },
    {
     "name": "stdout",
     "output_type": "stream",
     "text": [
      "Took 2.356674909591675 seconds to finish count number 34\n",
      "Processing Chimezie Metu...\n",
      "Took 0.4578113555908203 seconds to finish count number 35\n",
      "Processing Loren Meyer...\n",
      "Took 1.6743974685668945 seconds to finish count number 36\n",
      "Processing Dave Meyers...\n",
      "Took 1.6215882301330566 seconds to finish count number 37\n",
      "Processing Stan Miasek...\n"
     ]
    },
    {
     "name": "stderr",
     "output_type": "stream",
     "text": [
      "/tmp/ipykernel_4467/1331416308.py:19: FutureWarning: The behavior of DataFrame concatenation with empty or all-NA entries is deprecated. In a future version, this will no longer exclude empty or all-NA columns when determining the result dtypes. To retain the old behavior, exclude the relevant entries before the concat operation.\n",
      "  final_df = pd.concat([final_df, df])\n"
     ]
    },
    {
     "name": "stdout",
     "output_type": "stream",
     "text": [
      "Took 2.492183208465576 seconds to finish count number 38\n",
      "Processing Larry Micheaux...\n",
      "Took 1.5831542015075684 seconds to finish count number 39\n",
      "Processing Vasilije Micic...\n",
      "Took 0.5155081748962402 seconds to finish count number 40\n",
      "Processing Jordan Mickey...\n",
      "Took 2.3908491134643555 seconds to finish count number 41\n",
      "Processing Khris Middleton...\n",
      "Took 0.4999864101409912 seconds to finish count number 42\n",
      "Processing Zigmund Mihalik...\n"
     ]
    },
    {
     "name": "stderr",
     "output_type": "stream",
     "text": [
      "/tmp/ipykernel_4467/1331416308.py:19: FutureWarning: The behavior of DataFrame concatenation with empty or all-NA entries is deprecated. In a future version, this will no longer exclude empty or all-NA columns when determining the result dtypes. To retain the old behavior, exclude the relevant entries before the concat operation.\n",
      "  final_df = pd.concat([final_df, df])\n"
     ]
    },
    {
     "name": "stdout",
     "output_type": "stream",
     "text": [
      "Took 1.6236026287078857 seconds to finish count number 43\n",
      "Processing Chris Mihm...\n",
      "Took 1.6264491081237793 seconds to finish count number 44\n",
      "Processing Eric Mika...\n",
      "Took 1.6705443859100342 seconds to finish count number 45\n",
      "Processing Ed Mikan...\n"
     ]
    },
    {
     "name": "stderr",
     "output_type": "stream",
     "text": [
      "/tmp/ipykernel_4467/1331416308.py:19: FutureWarning: The behavior of DataFrame concatenation with empty or all-NA entries is deprecated. In a future version, this will no longer exclude empty or all-NA columns when determining the result dtypes. To retain the old behavior, exclude the relevant entries before the concat operation.\n",
      "  final_df = pd.concat([final_df, df])\n"
     ]
    },
    {
     "name": "stdout",
     "output_type": "stream",
     "text": [
      "Took 1.8495292663574219 seconds to finish count number 46\n",
      "Processing George Mikan...\n"
     ]
    },
    {
     "name": "stderr",
     "output_type": "stream",
     "text": [
      "/tmp/ipykernel_4467/1331416308.py:19: FutureWarning: The behavior of DataFrame concatenation with empty or all-NA entries is deprecated. In a future version, this will no longer exclude empty or all-NA columns when determining the result dtypes. To retain the old behavior, exclude the relevant entries before the concat operation.\n",
      "  final_df = pd.concat([final_df, df])\n"
     ]
    },
    {
     "name": "stdout",
     "output_type": "stream",
     "text": [
      "Took 1.6277756690979004 seconds to finish count number 47\n",
      "Processing Larry Mikan...\n"
     ]
    },
    {
     "name": "stderr",
     "output_type": "stream",
     "text": [
      "/tmp/ipykernel_4467/1331416308.py:19: FutureWarning: The behavior of DataFrame concatenation with empty or all-NA entries is deprecated. In a future version, this will no longer exclude empty or all-NA columns when determining the result dtypes. To retain the old behavior, exclude the relevant entries before the concat operation.\n",
      "  final_df = pd.concat([final_df, df])\n"
     ]
    },
    {
     "name": "stdout",
     "output_type": "stream",
     "text": [
      "Took 1.6230885982513428 seconds to finish count number 48\n",
      "Processing Vern Mikkelsen...\n"
     ]
    },
    {
     "name": "stderr",
     "output_type": "stream",
     "text": [
      "/tmp/ipykernel_4467/1331416308.py:19: FutureWarning: The behavior of DataFrame concatenation with empty or all-NA entries is deprecated. In a future version, this will no longer exclude empty or all-NA columns when determining the result dtypes. To retain the old behavior, exclude the relevant entries before the concat operation.\n",
      "  final_df = pd.concat([final_df, df])\n"
     ]
    },
    {
     "name": "stdout",
     "output_type": "stream",
     "text": [
      "Took 4.837141275405884 seconds to finish count number 49\n",
      "Processing Al Miksis...\n"
     ]
    },
    {
     "name": "stderr",
     "output_type": "stream",
     "text": [
      "/tmp/ipykernel_4467/1331416308.py:19: FutureWarning: The behavior of DataFrame concatenation with empty or all-NA entries is deprecated. In a future version, this will no longer exclude empty or all-NA columns when determining the result dtypes. To retain the old behavior, exclude the relevant entries before the concat operation.\n",
      "  final_df = pd.concat([final_df, df])\n"
     ]
    },
    {
     "name": "stdout",
     "output_type": "stream",
     "text": [
      "Took 2.443758964538574 seconds to finish count number 50\n",
      "Processing Aaron Miles...\n",
      "Took 2.692781448364258 seconds to finish count number 51\n",
      "Processing CJ Miles...\n",
      "Took 3.077904462814331 seconds to finish count number 52\n",
      "Processing Darius Miles...\n",
      "Took 2.435784101486206 seconds to finish count number 53\n",
      "Processing Eddie Miles...\n"
     ]
    },
    {
     "name": "stderr",
     "output_type": "stream",
     "text": [
      "/tmp/ipykernel_4467/1331416308.py:19: FutureWarning: The behavior of DataFrame concatenation with empty or all-NA entries is deprecated. In a future version, this will no longer exclude empty or all-NA columns when determining the result dtypes. To retain the old behavior, exclude the relevant entries before the concat operation.\n",
      "  final_df = pd.concat([final_df, df])\n"
     ]
    },
    {
     "name": "stdout",
     "output_type": "stream",
     "text": [
      "Took 2.5233099460601807 seconds to finish count number 54\n",
      "Processing Marko Milic...\n",
      "Took 2.905884027481079 seconds to finish count number 55\n",
      "Processing Darko Milicic...\n",
      "Took 1.7309062480926514 seconds to finish count number 56\n",
      "Processing Nat Militzok...\n"
     ]
    },
    {
     "name": "stderr",
     "output_type": "stream",
     "text": [
      "/tmp/ipykernel_4467/1331416308.py:19: FutureWarning: The behavior of DataFrame concatenation with empty or all-NA entries is deprecated. In a future version, this will no longer exclude empty or all-NA columns when determining the result dtypes. To retain the old behavior, exclude the relevant entries before the concat operation.\n",
      "  final_df = pd.concat([final_df, df])\n"
     ]
    },
    {
     "name": "stdout",
     "output_type": "stream",
     "text": [
      "Took 3.569373607635498 seconds to finish count number 57\n",
      "Processing Andre Miller...\n",
      "Took 4.023855209350586 seconds to finish count number 58\n",
      "Processing Anthony Miller...\n",
      "Took 1.4101674556732178 seconds to finish count number 59\n",
      "Processing Bill Miller...\n"
     ]
    },
    {
     "name": "stderr",
     "output_type": "stream",
     "text": [
      "/tmp/ipykernel_4467/1331416308.py:19: FutureWarning: The behavior of DataFrame concatenation with empty or all-NA entries is deprecated. In a future version, this will no longer exclude empty or all-NA columns when determining the result dtypes. To retain the old behavior, exclude the relevant entries before the concat operation.\n",
      "  final_df = pd.concat([final_df, df])\n"
     ]
    },
    {
     "name": "stdout",
     "output_type": "stream",
     "text": [
      "Took 1.549163818359375 seconds to finish count number 60\n",
      "Processing Bob Miller...\n",
      "Took 1.6425549983978271 seconds to finish count number 61\n",
      "Processing Brad Miller...\n",
      "Took 1.9166233539581299 seconds to finish count number 62\n",
      "Processing Brandon Miller...\n",
      "Took 1.6777610778808594 seconds to finish count number 63\n",
      "Processing Darius Miller...\n",
      "Took 2.4091713428497314 seconds to finish count number 64\n",
      "Processing Dick Miller...\n",
      "Took 2.590679407119751 seconds to finish count number 65\n",
      "Processing Eddie Miller...\n"
     ]
    },
    {
     "name": "stderr",
     "output_type": "stream",
     "text": [
      "/tmp/ipykernel_4467/1331416308.py:19: FutureWarning: The behavior of DataFrame concatenation with empty or all-NA entries is deprecated. In a future version, this will no longer exclude empty or all-NA columns when determining the result dtypes. To retain the old behavior, exclude the relevant entries before the concat operation.\n",
      "  final_df = pd.concat([final_df, df])\n"
     ]
    },
    {
     "name": "stdout",
     "output_type": "stream",
     "text": [
      "Took 2.3810973167419434 seconds to finish count number 66\n",
      "Processing Harry Miller...\n"
     ]
    },
    {
     "name": "stderr",
     "output_type": "stream",
     "text": [
      "/tmp/ipykernel_4467/1331416308.py:19: FutureWarning: The behavior of DataFrame concatenation with empty or all-NA entries is deprecated. In a future version, this will no longer exclude empty or all-NA columns when determining the result dtypes. To retain the old behavior, exclude the relevant entries before the concat operation.\n",
      "  final_df = pd.concat([final_df, df])\n"
     ]
    },
    {
     "name": "stdout",
     "output_type": "stream",
     "text": [
      "Took 1.9948971271514893 seconds to finish count number 67\n",
      "Processing Jay Miller...\n"
     ]
    },
    {
     "name": "stderr",
     "output_type": "stream",
     "text": [
      "/tmp/ipykernel_4467/1331416308.py:19: FutureWarning: The behavior of DataFrame concatenation with empty or all-NA entries is deprecated. In a future version, this will no longer exclude empty or all-NA columns when determining the result dtypes. To retain the old behavior, exclude the relevant entries before the concat operation.\n",
      "  final_df = pd.concat([final_df, df])\n"
     ]
    },
    {
     "name": "stdout",
     "output_type": "stream",
     "text": [
      "Took 2.305623769760132 seconds to finish count number 68\n",
      "Processing Jordan Miller...\n",
      "Took 0.556875467300415 seconds to finish count number 69\n",
      "Processing Leonard Miller...\n",
      "Took 0.661163330078125 seconds to finish count number 70\n",
      "Processing Malcolm Miller...\n",
      "Took 1.7966513633728027 seconds to finish count number 71\n",
      "Processing Mike Miller...\n",
      "Took 1.7652173042297363 seconds to finish count number 72\n",
      "Processing Oliver Miller...\n",
      "Took 2.4848477840423584 seconds to finish count number 73\n",
      "Processing Quincy Miller...\n",
      "Took 1.6939473152160645 seconds to finish count number 74\n",
      "Processing Reggie Miller...\n",
      "Took 1.6349596977233887 seconds to finish count number 75\n",
      "Processing Walt Miller...\n"
     ]
    },
    {
     "name": "stderr",
     "output_type": "stream",
     "text": [
      "/tmp/ipykernel_4467/1331416308.py:19: FutureWarning: The behavior of DataFrame concatenation with empty or all-NA entries is deprecated. In a future version, this will no longer exclude empty or all-NA columns when determining the result dtypes. To retain the old behavior, exclude the relevant entries before the concat operation.\n",
      "  final_df = pd.concat([final_df, df])\n"
     ]
    },
    {
     "name": "stdout",
     "output_type": "stream",
     "text": [
      "Took 2.463871717453003 seconds to finish count number 76\n",
      "Processing Chris Mills...\n",
      "Took 1.420863151550293 seconds to finish count number 77\n",
      "Processing John Mills...\n"
     ]
    },
    {
     "name": "stderr",
     "output_type": "stream",
     "text": [
      "/tmp/ipykernel_4467/1331416308.py:19: FutureWarning: The behavior of DataFrame concatenation with empty or all-NA entries is deprecated. In a future version, this will no longer exclude empty or all-NA columns when determining the result dtypes. To retain the old behavior, exclude the relevant entries before the concat operation.\n",
      "  final_df = pd.concat([final_df, df])\n"
     ]
    },
    {
     "name": "stdout",
     "output_type": "stream",
     "text": [
      "Took 1.3507521152496338 seconds to finish count number 78\n",
      "Processing Patty Mills...\n",
      "Took 0.4940314292907715 seconds to finish count number 79\n",
      "Processing Terry Mills...\n",
      "Took 3.3810513019561768 seconds to finish count number 80\n",
      "Processing Elijah Millsap...\n",
      "Took 1.555741310119629 seconds to finish count number 81\n",
      "Processing Paul Millsap...\n",
      "Took 4.922536373138428 seconds to finish count number 82\n",
      "Processing Shake Milton...\n",
      "Took 0.5839958190917969 seconds to finish count number 83\n",
      "Processing Justin Minaya...\n",
      "Took 1.5937600135803223 seconds to finish count number 84\n",
      "Processing Harold Miner...\n",
      "Took 1.6131689548492432 seconds to finish count number 85\n",
      "Processing Dirk Minniefield...\n",
      "Took 5.547850847244263 seconds to finish count number 86\n",
      "Processing Dave Minor...\n"
     ]
    },
    {
     "name": "stderr",
     "output_type": "stream",
     "text": [
      "/tmp/ipykernel_4467/1331416308.py:19: FutureWarning: The behavior of DataFrame concatenation with empty or all-NA entries is deprecated. In a future version, this will no longer exclude empty or all-NA columns when determining the result dtypes. To retain the old behavior, exclude the relevant entries before the concat operation.\n",
      "  final_df = pd.concat([final_df, df])\n"
     ]
    },
    {
     "name": "stdout",
     "output_type": "stream",
     "text": [
      "Took 1.491053581237793 seconds to finish count number 87\n",
      "Processing Greg Minor...\n",
      "Took 5.4610068798065186 seconds to finish count number 88\n",
      "Processing Mark Minor...\n"
     ]
    },
    {
     "name": "stderr",
     "output_type": "stream",
     "text": [
      "/tmp/ipykernel_4467/1331416308.py:19: FutureWarning: The behavior of DataFrame concatenation with empty or all-NA entries is deprecated. In a future version, this will no longer exclude empty or all-NA columns when determining the result dtypes. To retain the old behavior, exclude the relevant entries before the concat operation.\n",
      "  final_df = pd.concat([final_df, df])\n"
     ]
    },
    {
     "name": "stdout",
     "output_type": "stream",
     "text": [
      "Took 1.5481488704681396 seconds to finish count number 89\n",
      "Processing Josh Minott...\n",
      "Took 0.5162696838378906 seconds to finish count number 90\n",
      "Processing Nikola Mirotic...\n",
      "Took 1.3943588733673096 seconds to finish count number 91\n",
      "Processing Wat Misaka...\n"
     ]
    },
    {
     "name": "stderr",
     "output_type": "stream",
     "text": [
      "/tmp/ipykernel_4467/1331416308.py:19: FutureWarning: The behavior of DataFrame concatenation with empty or all-NA entries is deprecated. In a future version, this will no longer exclude empty or all-NA columns when determining the result dtypes. To retain the old behavior, exclude the relevant entries before the concat operation.\n",
      "  final_df = pd.concat([final_df, df])\n"
     ]
    },
    {
     "name": "stdout",
     "output_type": "stream",
     "text": [
      "Took 1.3378081321716309 seconds to finish count number 92\n",
      "Processing Jason Miskiri...\n",
      "Took 1.8578300476074219 seconds to finish count number 93\n",
      "Processing Davion Mitchell...\n",
      "Took 0.5736393928527832 seconds to finish count number 94\n",
      "Processing Donovan Mitchell...\n",
      "Took 0.509688138961792 seconds to finish count number 95\n",
      "Processing Mike Mitchell...\n",
      "Took 2.3937251567840576 seconds to finish count number 96\n",
      "Processing Murray Mitchell...\n"
     ]
    },
    {
     "name": "stderr",
     "output_type": "stream",
     "text": [
      "/tmp/ipykernel_4467/1331416308.py:19: FutureWarning: The behavior of DataFrame concatenation with empty or all-NA entries is deprecated. In a future version, this will no longer exclude empty or all-NA columns when determining the result dtypes. To retain the old behavior, exclude the relevant entries before the concat operation.\n",
      "  final_df = pd.concat([final_df, df])\n"
     ]
    },
    {
     "name": "stdout",
     "output_type": "stream",
     "text": [
      "Took 1.605191707611084 seconds to finish count number 97\n",
      "Processing Sam Mitchell...\n",
      "Took 4.404952526092529 seconds to finish count number 98\n",
      "Processing Todd Mitchell...\n",
      "Took 1.5469789505004883 seconds to finish count number 99\n",
      "collecting chunk 3000 through 3100\n",
      "start point = 3000\n",
      "Processing Tony Mitchell...\n",
      "Took 1.6112034320831299 seconds to finish count number 0\n",
      "Processing Tony Mitchell...\n",
      "Took 1.5101163387298584 seconds to finish count number 1\n",
      "Processing Naz Mitrou-Long...\n",
      "Took 3.4378416538238525 seconds to finish count number 2\n",
      "Processing Steve Mix...\n",
      "Took 1.9564540386199951 seconds to finish count number 3\n",
      "Processing Bill Mlkvy...\n"
     ]
    },
    {
     "name": "stderr",
     "output_type": "stream",
     "text": [
      "/tmp/ipykernel_4467/1331416308.py:19: FutureWarning: The behavior of DataFrame concatenation with empty or all-NA entries is deprecated. In a future version, this will no longer exclude empty or all-NA columns when determining the result dtypes. To retain the old behavior, exclude the relevant entries before the concat operation.\n",
      "  final_df = pd.concat([final_df, df])\n"
     ]
    },
    {
     "name": "stdout",
     "output_type": "stream",
     "text": [
      "Took 1.61708402633667 seconds to finish count number 4\n",
      "Processing Cuttino Mobley...\n",
      "Took 2.4841439723968506 seconds to finish count number 5\n",
      "Processing Eric Mobley...\n",
      "Took 1.694420576095581 seconds to finish count number 6\n",
      "Processing Evan Mobley...\n",
      "Took 0.5150079727172852 seconds to finish count number 7\n",
      "Processing Isaiah Mobley...\n",
      "Took 0.506885290145874 seconds to finish count number 8\n",
      "Processing Larry Moffett...\n"
     ]
    },
    {
     "name": "stderr",
     "output_type": "stream",
     "text": [
      "/tmp/ipykernel_4467/1331416308.py:19: FutureWarning: The behavior of DataFrame concatenation with empty or all-NA entries is deprecated. In a future version, this will no longer exclude empty or all-NA columns when determining the result dtypes. To retain the old behavior, exclude the relevant entries before the concat operation.\n",
      "  final_df = pd.concat([final_df, df])\n"
     ]
    },
    {
     "name": "stdout",
     "output_type": "stream",
     "text": [
      "Took 5.154093503952026 seconds to finish count number 9\n",
      "Processing Leo Mogus...\n"
     ]
    },
    {
     "name": "stderr",
     "output_type": "stream",
     "text": [
      "/tmp/ipykernel_4467/1331416308.py:19: FutureWarning: The behavior of DataFrame concatenation with empty or all-NA entries is deprecated. In a future version, this will no longer exclude empty or all-NA columns when determining the result dtypes. To retain the old behavior, exclude the relevant entries before the concat operation.\n",
      "  final_df = pd.concat([final_df, df])\n"
     ]
    },
    {
     "name": "stdout",
     "output_type": "stream",
     "text": [
      "Took 5.837320804595947 seconds to finish count number 10\n",
      "Processing Nazr Mohammed...\n",
      "Took 3.7020039558410645 seconds to finish count number 11\n",
      "Processing Jerome Moiso...\n",
      "Took 1.6303887367248535 seconds to finish count number 12\n",
      "Processing Paul Mokeski...\n",
      "Took 2.4454457759857178 seconds to finish count number 13\n",
      "Processing Adam Mokoka...\n",
      "Took 1.9453282356262207 seconds to finish count number 14\n",
      "Processing Jack Molinas...\n"
     ]
    },
    {
     "name": "stderr",
     "output_type": "stream",
     "text": [
      "/tmp/ipykernel_4467/1331416308.py:19: FutureWarning: The behavior of DataFrame concatenation with empty or all-NA entries is deprecated. In a future version, this will no longer exclude empty or all-NA columns when determining the result dtypes. To retain the old behavior, exclude the relevant entries before the concat operation.\n",
      "  final_df = pd.concat([final_df, df])\n"
     ]
    },
    {
     "name": "stdout",
     "output_type": "stream",
     "text": [
      "Took 2.873952865600586 seconds to finish count number 15\n",
      "Processing Wayne Molis...\n"
     ]
    },
    {
     "name": "stderr",
     "output_type": "stream",
     "text": [
      "/tmp/ipykernel_4467/1331416308.py:19: FutureWarning: The behavior of DataFrame concatenation with empty or all-NA entries is deprecated. In a future version, this will no longer exclude empty or all-NA columns when determining the result dtypes. To retain the old behavior, exclude the relevant entries before the concat operation.\n",
      "  final_df = pd.concat([final_df, df])\n"
     ]
    },
    {
     "name": "stdout",
     "output_type": "stream",
     "text": [
      "Took 2.560598134994507 seconds to finish count number 16\n",
      "Processing Sidney Moncrief...\n",
      "Took 2.451741933822632 seconds to finish count number 17\n",
      "Processing Chima Moneke...\n",
      "Took 1.7476465702056885 seconds to finish count number 18\n",
      "Processing Eric Money...\n"
     ]
    },
    {
     "name": "stderr",
     "output_type": "stream",
     "text": [
      "/tmp/ipykernel_4467/1331416308.py:19: FutureWarning: The behavior of DataFrame concatenation with empty or all-NA entries is deprecated. In a future version, this will no longer exclude empty or all-NA columns when determining the result dtypes. To retain the old behavior, exclude the relevant entries before the concat operation.\n",
      "  final_df = pd.concat([final_df, df])\n"
     ]
    },
    {
     "name": "stdout",
     "output_type": "stream",
     "text": [
      "Took 2.0478591918945312 seconds to finish count number 19\n",
      "Processing Sergei Monia...\n",
      "Took 1.6996092796325684 seconds to finish count number 20\n",
      "Processing Malik Monk...\n",
      "Took 0.5266420841217041 seconds to finish count number 21\n",
      "Processing Earl Monroe...\n"
     ]
    },
    {
     "name": "stderr",
     "output_type": "stream",
     "text": [
      "/tmp/ipykernel_4467/1331416308.py:19: FutureWarning: The behavior of DataFrame concatenation with empty or all-NA entries is deprecated. In a future version, this will no longer exclude empty or all-NA columns when determining the result dtypes. To retain the old behavior, exclude the relevant entries before the concat operation.\n",
      "  final_df = pd.concat([final_df, df])\n"
     ]
    },
    {
     "name": "stdout",
     "output_type": "stream",
     "text": [
      "Took 1.9797477722167969 seconds to finish count number 22\n",
      "Processing Greg Monroe...\n",
      "Took 1.736414909362793 seconds to finish count number 23\n",
      "Processing Rodney Monroe...\n",
      "Took 1.909632921218872 seconds to finish count number 24\n",
      "Processing Luis Montero...\n",
      "Took 1.8624467849731445 seconds to finish count number 25\n",
      "Processing Howie Montgomery...\n"
     ]
    },
    {
     "name": "stderr",
     "output_type": "stream",
     "text": [
      "/tmp/ipykernel_4467/1331416308.py:19: FutureWarning: The behavior of DataFrame concatenation with empty or all-NA entries is deprecated. In a future version, this will no longer exclude empty or all-NA columns when determining the result dtypes. To retain the old behavior, exclude the relevant entries before the concat operation.\n",
      "  final_df = pd.concat([final_df, df])\n"
     ]
    },
    {
     "name": "stdout",
     "output_type": "stream",
     "text": [
      "Took 1.439258337020874 seconds to finish count number 26\n",
      "Processing Eric Montross...\n",
      "Took 1.5187153816223145 seconds to finish count number 27\n",
      "Processing Moses Moody...\n",
      "Took 2.2361767292022705 seconds to finish count number 28\n",
      "Processing Jamario Moon...\n",
      "Took 2.306506872177124 seconds to finish count number 29\n",
      "Processing Xavier Moon...\n",
      "Took 0.5665748119354248 seconds to finish count number 30\n",
      "Processing Jim Mooney...\n"
     ]
    },
    {
     "name": "stderr",
     "output_type": "stream",
     "text": [
      "/tmp/ipykernel_4467/1331416308.py:19: FutureWarning: The behavior of DataFrame concatenation with empty or all-NA entries is deprecated. In a future version, this will no longer exclude empty or all-NA columns when determining the result dtypes. To retain the old behavior, exclude the relevant entries before the concat operation.\n",
      "  final_df = pd.concat([final_df, df])\n"
     ]
    },
    {
     "name": "stdout",
     "output_type": "stream",
     "text": [
      "Took 1.6617560386657715 seconds to finish count number 31\n",
      "Processing Matt Mooney...\n",
      "Took 2.362147092819214 seconds to finish count number 32\n",
      "Processing Andre Moore...\n",
      "Took 1.4996020793914795 seconds to finish count number 33\n",
      "Processing Ben Moore...\n",
      "Took 1.5743353366851807 seconds to finish count number 34\n",
      "Processing E'Twaun Moore...\n",
      "Took 1.600142478942871 seconds to finish count number 35\n",
      "Processing Jackie Moore...\n"
     ]
    },
    {
     "name": "stderr",
     "output_type": "stream",
     "text": [
      "/tmp/ipykernel_4467/1331416308.py:19: FutureWarning: The behavior of DataFrame concatenation with empty or all-NA entries is deprecated. In a future version, this will no longer exclude empty or all-NA columns when determining the result dtypes. To retain the old behavior, exclude the relevant entries before the concat operation.\n",
      "  final_df = pd.concat([final_df, df])\n"
     ]
    },
    {
     "name": "stdout",
     "output_type": "stream",
     "text": [
      "Took 1.7584915161132812 seconds to finish count number 36\n",
      "Processing Johnny Moore...\n",
      "Took 2.5639567375183105 seconds to finish count number 37\n",
      "Processing Lowes Moore...\n",
      "Took 2.442816972732544 seconds to finish count number 38\n",
      "Processing Mikki Moore...\n",
      "Took 1.6645927429199219 seconds to finish count number 39\n",
      "Processing Otto Moore...\n"
     ]
    },
    {
     "name": "stderr",
     "output_type": "stream",
     "text": [
      "/tmp/ipykernel_4467/1331416308.py:19: FutureWarning: The behavior of DataFrame concatenation with empty or all-NA entries is deprecated. In a future version, this will no longer exclude empty or all-NA columns when determining the result dtypes. To retain the old behavior, exclude the relevant entries before the concat operation.\n",
      "  final_df = pd.concat([final_df, df])\n"
     ]
    },
    {
     "name": "stdout",
     "output_type": "stream",
     "text": [
      "Took 2.9819068908691406 seconds to finish count number 40\n",
      "Processing Ron Moore...\n",
      "Took 1.6148879528045654 seconds to finish count number 41\n",
      "Processing Tracy Moore...\n",
      "Took 1.5777242183685303 seconds to finish count number 42\n",
      "Processing Wendell Moore Jr....\n",
      "Took 0.6141316890716553 seconds to finish count number 43\n",
      "Processing Ja Morant...\n",
      "Took 0.5631139278411865 seconds to finish count number 44\n",
      "Processing Eric Moreland...\n",
      "Took 2.2731380462646484 seconds to finish count number 45\n",
      "Processing Jackie Moreland...\n"
     ]
    },
    {
     "name": "stderr",
     "output_type": "stream",
     "text": [
      "/tmp/ipykernel_4467/1331416308.py:19: FutureWarning: The behavior of DataFrame concatenation with empty or all-NA entries is deprecated. In a future version, this will no longer exclude empty or all-NA columns when determining the result dtypes. To retain the old behavior, exclude the relevant entries before the concat operation.\n",
      "  final_df = pd.concat([final_df, df])\n"
     ]
    },
    {
     "name": "stdout",
     "output_type": "stream",
     "text": [
      "Took 2.3593194484710693 seconds to finish count number 46\n",
      "Processing Guy Morgan...\n",
      "Took 2.0529582500457764 seconds to finish count number 47\n",
      "Processing Juwan Morgan...\n",
      "Took 1.5005073547363281 seconds to finish count number 48\n",
      "Processing Rex Morgan...\n"
     ]
    },
    {
     "name": "stderr",
     "output_type": "stream",
     "text": [
      "/tmp/ipykernel_4467/1331416308.py:19: FutureWarning: The behavior of DataFrame concatenation with empty or all-NA entries is deprecated. In a future version, this will no longer exclude empty or all-NA columns when determining the result dtypes. To retain the old behavior, exclude the relevant entries before the concat operation.\n",
      "  final_df = pd.concat([final_df, df])\n"
     ]
    },
    {
     "name": "stdout",
     "output_type": "stream",
     "text": [
      "Took 1.6421928405761719 seconds to finish count number 49\n",
      "Processing Elmo Morgenthaler...\n"
     ]
    },
    {
     "name": "stderr",
     "output_type": "stream",
     "text": [
      "/tmp/ipykernel_4467/1331416308.py:19: FutureWarning: The behavior of DataFrame concatenation with empty or all-NA entries is deprecated. In a future version, this will no longer exclude empty or all-NA columns when determining the result dtypes. To retain the old behavior, exclude the relevant entries before the concat operation.\n",
      "  final_df = pd.concat([final_df, df])\n"
     ]
    },
    {
     "name": "stdout",
     "output_type": "stream",
     "text": [
      "Took 1.4270288944244385 seconds to finish count number 50\n",
      "Processing Darren Morningstar...\n",
      "Took 3.7485835552215576 seconds to finish count number 51\n",
      "Processing Chris Morris...\n",
      "Took 1.4710934162139893 seconds to finish count number 52\n",
      "Processing Darius Morris...\n",
      "Took 1.5739004611968994 seconds to finish count number 53\n",
      "Processing Isaiah Morris...\n",
      "Took 1.73504638671875 seconds to finish count number 54\n",
      "Processing Jaylen Morris...\n",
      "Took 1.6131682395935059 seconds to finish count number 55\n",
      "Processing Markieff Morris...\n",
      "Took 0.7558934688568115 seconds to finish count number 56\n",
      "Processing Max Morris...\n"
     ]
    },
    {
     "name": "stderr",
     "output_type": "stream",
     "text": [
      "/tmp/ipykernel_4467/1331416308.py:19: FutureWarning: The behavior of DataFrame concatenation with empty or all-NA entries is deprecated. In a future version, this will no longer exclude empty or all-NA columns when determining the result dtypes. To retain the old behavior, exclude the relevant entries before the concat operation.\n",
      "  final_df = pd.concat([final_df, df])\n"
     ]
    },
    {
     "name": "stdout",
     "output_type": "stream",
     "text": [
      "Took 1.5403268337249756 seconds to finish count number 57\n",
      "Processing Monte Morris...\n",
      "Took 0.5824117660522461 seconds to finish count number 58\n",
      "Processing Randolph Morris...\n",
      "Took 2.0746982097625732 seconds to finish count number 59\n",
      "Processing Terence Morris...\n",
      "Took 2.1247920989990234 seconds to finish count number 60\n",
      "Processing Marcus Morris Sr....\n",
      "Took 1.4402248859405518 seconds to finish count number 61\n",
      "Processing Adam Morrison...\n",
      "Took 2.3580899238586426 seconds to finish count number 62\n",
      "Processing Dwight Morrison...\n"
     ]
    },
    {
     "name": "stderr",
     "output_type": "stream",
     "text": [
      "/tmp/ipykernel_4467/1331416308.py:19: FutureWarning: The behavior of DataFrame concatenation with empty or all-NA entries is deprecated. In a future version, this will no longer exclude empty or all-NA columns when determining the result dtypes. To retain the old behavior, exclude the relevant entries before the concat operation.\n",
      "  final_df = pd.concat([final_df, df])\n"
     ]
    },
    {
     "name": "stdout",
     "output_type": "stream",
     "text": [
      "Took 2.434067726135254 seconds to finish count number 63\n",
      "Processing Mike Morrison...\n",
      "Took 2.610172748565674 seconds to finish count number 64\n",
      "Processing Anthony Morrow...\n",
      "Took 1.8117802143096924 seconds to finish count number 65\n",
      "Processing Dwayne Morton...\n",
      "Took 2.661268949508667 seconds to finish count number 66\n",
      "Processing John Morton...\n",
      "Took 2.7665133476257324 seconds to finish count number 67\n",
      "Processing Richard Morton...\n",
      "Took 1.8489956855773926 seconds to finish count number 68\n",
      "Processing Glenn Mosley...\n"
     ]
    },
    {
     "name": "stderr",
     "output_type": "stream",
     "text": [
      "/tmp/ipykernel_4467/1331416308.py:19: FutureWarning: The behavior of DataFrame concatenation with empty or all-NA entries is deprecated. In a future version, this will no longer exclude empty or all-NA columns when determining the result dtypes. To retain the old behavior, exclude the relevant entries before the concat operation.\n",
      "  final_df = pd.concat([final_df, df])\n"
     ]
    },
    {
     "name": "stdout",
     "output_type": "stream",
     "text": [
      "Took 6.562218427658081 seconds to finish count number 69\n",
      "Processing Perry Moss...\n",
      "Took 2.5216591358184814 seconds to finish count number 70\n",
      "Processing Lawrence Moten...\n",
      "Took 2.7120418548583984 seconds to finish count number 71\n",
      "Processing Donatas Motiejunas...\n",
      "Took 1.4845666885375977 seconds to finish count number 72\n",
      "Processing Johnathan Motley...\n",
      "Took 1.7827508449554443 seconds to finish count number 73\n",
      "Processing Hanno Mottola...\n",
      "Took 1.6336395740509033 seconds to finish count number 74\n",
      "Processing Arnett Moultrie...\n",
      "Took 1.5280673503875732 seconds to finish count number 75\n",
      "Processing Alonzo Mourning...\n",
      "Took 7.086831569671631 seconds to finish count number 76\n",
      "Processing Timofey Mozgov...\n",
      "Took 1.6925177574157715 seconds to finish count number 77\n",
      "Processing Chuck Mrazovich...\n"
     ]
    },
    {
     "name": "stderr",
     "output_type": "stream",
     "text": [
      "/tmp/ipykernel_4467/1331416308.py:19: FutureWarning: The behavior of DataFrame concatenation with empty or all-NA entries is deprecated. In a future version, this will no longer exclude empty or all-NA columns when determining the result dtypes. To retain the old behavior, exclude the relevant entries before the concat operation.\n",
      "  final_df = pd.concat([final_df, df])\n"
     ]
    },
    {
     "name": "stdout",
     "output_type": "stream",
     "text": [
      "Took 1.5435218811035156 seconds to finish count number 78\n",
      "Processing Emmanuel Mudiay...\n",
      "Took 2.494995355606079 seconds to finish count number 79\n",
      "Processing Erwin Mueller...\n"
     ]
    },
    {
     "name": "stderr",
     "output_type": "stream",
     "text": [
      "/tmp/ipykernel_4467/1331416308.py:19: FutureWarning: The behavior of DataFrame concatenation with empty or all-NA entries is deprecated. In a future version, this will no longer exclude empty or all-NA columns when determining the result dtypes. To retain the old behavior, exclude the relevant entries before the concat operation.\n",
      "  final_df = pd.concat([final_df, df])\n"
     ]
    },
    {
     "name": "stdout",
     "output_type": "stream",
     "text": [
      "Took 1.806849479675293 seconds to finish count number 80\n",
      "Processing Shabazz Muhammad...\n",
      "Took 1.5742321014404297 seconds to finish count number 81\n",
      "Processing Mychal Mulder...\n",
      "Took 2.5129685401916504 seconds to finish count number 82\n",
      "Processing Joe Mullaney...\n"
     ]
    },
    {
     "name": "stderr",
     "output_type": "stream",
     "text": [
      "/tmp/ipykernel_4467/1331416308.py:19: FutureWarning: The behavior of DataFrame concatenation with empty or all-NA entries is deprecated. In a future version, this will no longer exclude empty or all-NA columns when determining the result dtypes. To retain the old behavior, exclude the relevant entries before the concat operation.\n",
      "  final_df = pd.concat([final_df, df])\n"
     ]
    },
    {
     "name": "stdout",
     "output_type": "stream",
     "text": [
      "Took 2.6015100479125977 seconds to finish count number 83\n",
      "Processing Bob Mullens...\n"
     ]
    },
    {
     "name": "stderr",
     "output_type": "stream",
     "text": [
      "/tmp/ipykernel_4467/1331416308.py:19: FutureWarning: The behavior of DataFrame concatenation with empty or all-NA entries is deprecated. In a future version, this will no longer exclude empty or all-NA columns when determining the result dtypes. To retain the old behavior, exclude the relevant entries before the concat operation.\n",
      "  final_df = pd.concat([final_df, df])\n"
     ]
    },
    {
     "name": "stdout",
     "output_type": "stream",
     "text": [
      "Took 1.599677324295044 seconds to finish count number 84\n",
      "Processing Byron Mullens...\n",
      "Took 1.5388309955596924 seconds to finish count number 85\n",
      "Processing Chris Mullin...\n",
      "Took 1.9712333679199219 seconds to finish count number 86\n",
      "Processing Jeff Mullins...\n"
     ]
    },
    {
     "name": "stderr",
     "output_type": "stream",
     "text": [
      "/tmp/ipykernel_4467/1331416308.py:19: FutureWarning: The behavior of DataFrame concatenation with empty or all-NA entries is deprecated. In a future version, this will no longer exclude empty or all-NA columns when determining the result dtypes. To retain the old behavior, exclude the relevant entries before the concat operation.\n",
      "  final_df = pd.concat([final_df, df])\n"
     ]
    },
    {
     "name": "stdout",
     "output_type": "stream",
     "text": [
      "Took 2.6323795318603516 seconds to finish count number 87\n",
      "Processing Todd Mundt...\n",
      "Took 1.42820405960083 seconds to finish count number 88\n",
      "Processing Xavier Munford...\n",
      "Took 2.3957979679107666 seconds to finish count number 89\n",
      "Processing Chris Munk...\n",
      "Took 1.628570318222046 seconds to finish count number 90\n",
      "Processing George Munroe...\n"
     ]
    },
    {
     "name": "stderr",
     "output_type": "stream",
     "text": [
      "/tmp/ipykernel_4467/1331416308.py:19: FutureWarning: The behavior of DataFrame concatenation with empty or all-NA entries is deprecated. In a future version, this will no longer exclude empty or all-NA columns when determining the result dtypes. To retain the old behavior, exclude the relevant entries before the concat operation.\n",
      "  final_df = pd.concat([final_df, df])\n"
     ]
    },
    {
     "name": "stdout",
     "output_type": "stream",
     "text": [
      "Took 1.8208832740783691 seconds to finish count number 91\n",
      "Processing Eric Murdock...\n",
      "Took 2.391653537750244 seconds to finish count number 92\n",
      "Processing Gheorghe Muresan...\n",
      "Took 2.9482991695404053 seconds to finish count number 93\n",
      "Processing Ade Murkey...\n",
      "Took 3.617081880569458 seconds to finish count number 94\n",
      "Processing Allen Murphy...\n"
     ]
    },
    {
     "name": "stderr",
     "output_type": "stream",
     "text": [
      "/tmp/ipykernel_4467/1331416308.py:19: FutureWarning: The behavior of DataFrame concatenation with empty or all-NA entries is deprecated. In a future version, this will no longer exclude empty or all-NA columns when determining the result dtypes. To retain the old behavior, exclude the relevant entries before the concat operation.\n",
      "  final_df = pd.concat([final_df, df])\n"
     ]
    },
    {
     "name": "stdout",
     "output_type": "stream",
     "text": [
      "Took 2.327721118927002 seconds to finish count number 95\n",
      "Processing Calvin Murphy...\n",
      "Took 1.5110056400299072 seconds to finish count number 96\n",
      "Processing Dick Murphy...\n"
     ]
    },
    {
     "name": "stderr",
     "output_type": "stream",
     "text": [
      "/tmp/ipykernel_4467/1331416308.py:19: FutureWarning: The behavior of DataFrame concatenation with empty or all-NA entries is deprecated. In a future version, this will no longer exclude empty or all-NA columns when determining the result dtypes. To retain the old behavior, exclude the relevant entries before the concat operation.\n",
      "  final_df = pd.concat([final_df, df])\n"
     ]
    },
    {
     "name": "stdout",
     "output_type": "stream",
     "text": [
      "Took 1.4299824237823486 seconds to finish count number 97\n",
      "Processing Erik Murphy...\n",
      "Took 1.323732614517212 seconds to finish count number 98\n",
      "Processing Jay Murphy...\n",
      "Took 1.3709187507629395 seconds to finish count number 99\n",
      "collecting chunk 3100 through 3200\n",
      "start point = 3100\n",
      "Processing John Murphy...\n",
      "Took 2.4363045692443848 seconds to finish count number 0\n",
      "Processing Kevin Murphy...\n"
     ]
    },
    {
     "name": "stderr",
     "output_type": "stream",
     "text": [
      "/tmp/ipykernel_4467/1331416308.py:19: FutureWarning: The behavior of DataFrame concatenation with empty or all-NA entries is deprecated. In a future version, this will no longer exclude empty or all-NA columns when determining the result dtypes. To retain the old behavior, exclude the relevant entries before the concat operation.\n",
      "  final_df = pd.concat([final_df, df])\n"
     ]
    },
    {
     "name": "stdout",
     "output_type": "stream",
     "text": [
      "Took 1.543175458908081 seconds to finish count number 1\n",
      "Processing Ronnie Murphy...\n",
      "Took 6.464263677597046 seconds to finish count number 2\n",
      "Processing Tod Murphy...\n",
      "Took 2.534001111984253 seconds to finish count number 3\n",
      "Processing Troy Murphy...\n",
      "Took 1.7495450973510742 seconds to finish count number 4\n",
      "Processing Trey Murphy III...\n",
      "Took 0.5862185955047607 seconds to finish count number 5\n",
      "Processing Dejounte Murray...\n",
      "Took 0.511329174041748 seconds to finish count number 6\n",
      "Processing Flip Murray...\n",
      "Took 1.5367214679718018 seconds to finish count number 7\n",
      "Processing Jamal Murray...\n",
      "Took 2.4789183139801025 seconds to finish count number 8\n",
      "Processing Keegan Murray...\n",
      "Took 0.5905313491821289 seconds to finish count number 9\n",
      "Processing Ken Murray...\n"
     ]
    },
    {
     "name": "stderr",
     "output_type": "stream",
     "text": [
      "/tmp/ipykernel_4467/1331416308.py:19: FutureWarning: The behavior of DataFrame concatenation with empty or all-NA entries is deprecated. In a future version, this will no longer exclude empty or all-NA columns when determining the result dtypes. To retain the old behavior, exclude the relevant entries before the concat operation.\n",
      "  final_df = pd.concat([final_df, df])\n"
     ]
    },
    {
     "name": "stdout",
     "output_type": "stream",
     "text": [
      "Took 3.691293239593506 seconds to finish count number 10\n",
      "Processing Kris Murray...\n",
      "Took 0.6086623668670654 seconds to finish count number 11\n",
      "Processing Lamond Murray...\n",
      "Took 3.6856653690338135 seconds to finish count number 12\n",
      "Processing Tracy Murray...\n",
      "Took 2.3096976280212402 seconds to finish count number 13\n",
      "Processing Dorie Murrey...\n"
     ]
    },
    {
     "name": "stderr",
     "output_type": "stream",
     "text": [
      "/tmp/ipykernel_4467/1331416308.py:19: FutureWarning: The behavior of DataFrame concatenation with empty or all-NA entries is deprecated. In a future version, this will no longer exclude empty or all-NA columns when determining the result dtypes. To retain the old behavior, exclude the relevant entries before the concat operation.\n",
      "  final_df = pd.concat([final_df, df])\n"
     ]
    },
    {
     "name": "stdout",
     "output_type": "stream",
     "text": [
      "Took 1.5859136581420898 seconds to finish count number 14\n",
      "Processing Toure' Murry...\n",
      "Took 1.8390295505523682 seconds to finish count number 15\n",
      "Processing Dzanan Musa...\n",
      "Took 1.6383206844329834 seconds to finish count number 16\n",
      "Processing Mike Muscala...\n",
      "Took 0.5658442974090576 seconds to finish count number 17\n",
      "Processing Angelo Musi...\n"
     ]
    },
    {
     "name": "stderr",
     "output_type": "stream",
     "text": [
      "/tmp/ipykernel_4467/1331416308.py:19: FutureWarning: The behavior of DataFrame concatenation with empty or all-NA entries is deprecated. In a future version, this will no longer exclude empty or all-NA columns when determining the result dtypes. To retain the old behavior, exclude the relevant entries before the concat operation.\n",
      "  final_df = pd.concat([final_df, df])\n"
     ]
    },
    {
     "name": "stdout",
     "output_type": "stream",
     "text": [
      "Took 1.6196565628051758 seconds to finish count number 18\n",
      "Processing Jerrod Mustaf...\n",
      "Took 1.7459206581115723 seconds to finish count number 19\n",
      "Processing Dikembe Mutombo...\n",
      "Took 1.7191588878631592 seconds to finish count number 20\n",
      "Processing Martin Muursepp...\n",
      "Took 2.478135347366333 seconds to finish count number 21\n",
      "Processing Pete Myers...\n",
      "Took 2.344684600830078 seconds to finish count number 22\n",
      "Processing Svi Mykhailiuk...\n",
      "Took 2.531503438949585 seconds to finish count number 23\n",
      "Processing Makhtar N'diaye...\n",
      "Took 2.2524611949920654 seconds to finish count number 24\n",
      "Processing Makhtar N'diaye...\n"
     ]
    },
    {
     "name": "stderr",
     "output_type": "stream",
     "text": [
      "/tmp/ipykernel_4467/1331416308.py:19: FutureWarning: The behavior of DataFrame concatenation with empty or all-NA entries is deprecated. In a future version, this will no longer exclude empty or all-NA columns when determining the result dtypes. To retain the old behavior, exclude the relevant entries before the concat operation.\n",
      "  final_df = pd.concat([final_df, df])\n"
     ]
    },
    {
     "name": "stdout",
     "output_type": "stream",
     "text": [
      "Took 1.7582123279571533 seconds to finish count number 25\n",
      "Processing Mamadou N'diaye...\n",
      "Took 2.696660041809082 seconds to finish count number 26\n",
      "Processing Bob Naber...\n"
     ]
    },
    {
     "name": "stderr",
     "output_type": "stream",
     "text": [
      "/tmp/ipykernel_4467/1331416308.py:19: FutureWarning: The behavior of DataFrame concatenation with empty or all-NA entries is deprecated. In a future version, this will no longer exclude empty or all-NA columns when determining the result dtypes. To retain the old behavior, exclude the relevant entries before the concat operation.\n",
      "  final_df = pd.concat([final_df, df])\n"
     ]
    },
    {
     "name": "stdout",
     "output_type": "stream",
     "text": [
      "Took 3.5702619552612305 seconds to finish count number 27\n",
      "Processing Boris Nachamkin...\n"
     ]
    },
    {
     "name": "stderr",
     "output_type": "stream",
     "text": [
      "/tmp/ipykernel_4467/1331416308.py:19: FutureWarning: The behavior of DataFrame concatenation with empty or all-NA entries is deprecated. In a future version, this will no longer exclude empty or all-NA columns when determining the result dtypes. To retain the old behavior, exclude the relevant entries before the concat operation.\n",
      "  final_df = pd.concat([final_df, df])\n"
     ]
    },
    {
     "name": "stdout",
     "output_type": "stream",
     "text": [
      "Took 1.4446642398834229 seconds to finish count number 28\n",
      "Processing Bostjan Nachbar...\n",
      "Took 1.4385578632354736 seconds to finish count number 29\n",
      "Processing Abdel Nader...\n",
      "Took 2.535675287246704 seconds to finish count number 30\n",
      "Processing Jerry Nagel...\n"
     ]
    },
    {
     "name": "stderr",
     "output_type": "stream",
     "text": [
      "/tmp/ipykernel_4467/1331416308.py:19: FutureWarning: The behavior of DataFrame concatenation with empty or all-NA entries is deprecated. In a future version, this will no longer exclude empty or all-NA columns when determining the result dtypes. To retain the old behavior, exclude the relevant entries before the concat operation.\n",
      "  final_df = pd.concat([final_df, df])\n"
     ]
    },
    {
     "name": "stdout",
     "output_type": "stream",
     "text": [
      "Took 1.3505525588989258 seconds to finish count number 31\n",
      "Processing Fred Nagy...\n"
     ]
    },
    {
     "name": "stderr",
     "output_type": "stream",
     "text": [
      "/tmp/ipykernel_4467/1331416308.py:19: FutureWarning: The behavior of DataFrame concatenation with empty or all-NA entries is deprecated. In a future version, this will no longer exclude empty or all-NA columns when determining the result dtypes. To retain the old behavior, exclude the relevant entries before the concat operation.\n",
      "  final_df = pd.concat([final_df, df])\n"
     ]
    },
    {
     "name": "stdout",
     "output_type": "stream",
     "text": [
      "Took 1.507692575454712 seconds to finish count number 32\n",
      "Processing Lee Nailon...\n",
      "Took 1.7265055179595947 seconds to finish count number 33\n",
      "Processing Eduardo Najera...\n",
      "Took 4.131779909133911 seconds to finish count number 34\n",
      "Processing Larry Nance...\n",
      "Took 1.8295795917510986 seconds to finish count number 35\n",
      "Processing Larry Nance Jr....\n",
      "Took 0.5281808376312256 seconds to finish count number 36\n",
      "Processing Shabazz Napier...\n",
      "Took 1.5919885635375977 seconds to finish count number 37\n",
      "Processing Paul Napolitano...\n"
     ]
    },
    {
     "name": "stderr",
     "output_type": "stream",
     "text": [
      "/tmp/ipykernel_4467/1331416308.py:19: FutureWarning: The behavior of DataFrame concatenation with empty or all-NA entries is deprecated. In a future version, this will no longer exclude empty or all-NA columns when determining the result dtypes. To retain the old behavior, exclude the relevant entries before the concat operation.\n",
      "  final_df = pd.concat([final_df, df])\n"
     ]
    },
    {
     "name": "stdout",
     "output_type": "stream",
     "text": [
      "Took 1.6865901947021484 seconds to finish count number 38\n",
      "Processing Bob Nash...\n"
     ]
    },
    {
     "name": "stderr",
     "output_type": "stream",
     "text": [
      "/tmp/ipykernel_4467/1331416308.py:19: FutureWarning: The behavior of DataFrame concatenation with empty or all-NA entries is deprecated. In a future version, this will no longer exclude empty or all-NA columns when determining the result dtypes. To retain the old behavior, exclude the relevant entries before the concat operation.\n",
      "  final_df = pd.concat([final_df, df])\n"
     ]
    },
    {
     "name": "stdout",
     "output_type": "stream",
     "text": [
      "Took 1.5499942302703857 seconds to finish count number 39\n",
      "Processing Charles Nash...\n"
     ]
    },
    {
     "name": "stderr",
     "output_type": "stream",
     "text": [
      "/tmp/ipykernel_4467/1331416308.py:19: FutureWarning: The behavior of DataFrame concatenation with empty or all-NA entries is deprecated. In a future version, this will no longer exclude empty or all-NA columns when determining the result dtypes. To retain the old behavior, exclude the relevant entries before the concat operation.\n",
      "  final_df = pd.concat([final_df, df])\n"
     ]
    },
    {
     "name": "stdout",
     "output_type": "stream",
     "text": [
      "Took 4.862964391708374 seconds to finish count number 40\n",
      "Processing Steve Nash...\n",
      "Took 1.4240145683288574 seconds to finish count number 41\n",
      "Processing Swen Nater...\n",
      "Took 2.410045862197876 seconds to finish count number 42\n",
      "Processing Howard Nathan...\n",
      "Took 1.7943999767303467 seconds to finish count number 43\n",
      "Processing Calvin Natt...\n",
      "Took 1.6506266593933105 seconds to finish count number 44\n",
      "Processing Kenny Natt...\n",
      "Took 2.3429858684539795 seconds to finish count number 45\n",
      "Processing Willie Naulls...\n"
     ]
    },
    {
     "name": "stderr",
     "output_type": "stream",
     "text": [
      "/tmp/ipykernel_4467/1331416308.py:19: FutureWarning: The behavior of DataFrame concatenation with empty or all-NA entries is deprecated. In a future version, this will no longer exclude empty or all-NA columns when determining the result dtypes. To retain the old behavior, exclude the relevant entries before the concat operation.\n",
      "  final_df = pd.concat([final_df, df])\n"
     ]
    },
    {
     "name": "stdout",
     "output_type": "stream",
     "text": [
      "Took 1.9423553943634033 seconds to finish count number 46\n",
      "Processing Juan Carlos Navarro...\n",
      "Took 2.380664587020874 seconds to finish count number 47\n",
      "Processing Hamady Ndiaye...\n",
      "Took 1.949613094329834 seconds to finish count number 48\n",
      "Processing Boniface Ndong...\n",
      "Took 1.7303905487060547 seconds to finish count number 49\n",
      "Processing Maurice Ndour...\n",
      "Took 1.5663235187530518 seconds to finish count number 50\n",
      "Processing Craig Neal...\n",
      "Took 1.6271204948425293 seconds to finish count number 51\n",
      "Processing Gary Neal...\n",
      "Took 1.5039446353912354 seconds to finish count number 52\n",
      "Processing Jim Neal...\n"
     ]
    },
    {
     "name": "stderr",
     "output_type": "stream",
     "text": [
      "/tmp/ipykernel_4467/1331416308.py:19: FutureWarning: The behavior of DataFrame concatenation with empty or all-NA entries is deprecated. In a future version, this will no longer exclude empty or all-NA columns when determining the result dtypes. To retain the old behavior, exclude the relevant entries before the concat operation.\n",
      "  final_df = pd.concat([final_df, df])\n"
     ]
    },
    {
     "name": "stdout",
     "output_type": "stream",
     "text": [
      "Took 1.5637800693511963 seconds to finish count number 53\n",
      "Processing Lloyd Neal...\n"
     ]
    },
    {
     "name": "stderr",
     "output_type": "stream",
     "text": [
      "/tmp/ipykernel_4467/1331416308.py:19: FutureWarning: The behavior of DataFrame concatenation with empty or all-NA entries is deprecated. In a future version, this will no longer exclude empty or all-NA columns when determining the result dtypes. To retain the old behavior, exclude the relevant entries before the concat operation.\n",
      "  final_df = pd.concat([final_df, df])\n"
     ]
    },
    {
     "name": "stdout",
     "output_type": "stream",
     "text": [
      "Took 1.7360258102416992 seconds to finish count number 54\n",
      "Processing Ed Nealy...\n",
      "Took 1.4825575351715088 seconds to finish count number 55\n",
      "Processing Nemanja Nedovic...\n",
      "Took 2.835158348083496 seconds to finish count number 56\n",
      "Processing Al Negratti...\n"
     ]
    },
    {
     "name": "stderr",
     "output_type": "stream",
     "text": [
      "/tmp/ipykernel_4467/1331416308.py:19: FutureWarning: The behavior of DataFrame concatenation with empty or all-NA entries is deprecated. In a future version, this will no longer exclude empty or all-NA columns when determining the result dtypes. To retain the old behavior, exclude the relevant entries before the concat operation.\n",
      "  final_df = pd.concat([final_df, df])\n"
     ]
    },
    {
     "name": "stdout",
     "output_type": "stream",
     "text": [
      "Took 1.4349415302276611 seconds to finish count number 57\n",
      "Processing Barry Nelson...\n"
     ]
    },
    {
     "name": "stderr",
     "output_type": "stream",
     "text": [
      "/tmp/ipykernel_4467/1331416308.py:19: FutureWarning: The behavior of DataFrame concatenation with empty or all-NA entries is deprecated. In a future version, this will no longer exclude empty or all-NA columns when determining the result dtypes. To retain the old behavior, exclude the relevant entries before the concat operation.\n",
      "  final_df = pd.concat([final_df, df])\n"
     ]
    },
    {
     "name": "stdout",
     "output_type": "stream",
     "text": [
      "Took 1.9491887092590332 seconds to finish count number 58\n",
      "Processing DeMarcus Nelson...\n",
      "Took 1.9950823783874512 seconds to finish count number 59\n",
      "Processing Don Nelson...\n"
     ]
    },
    {
     "name": "stderr",
     "output_type": "stream",
     "text": [
      "/tmp/ipykernel_4467/1331416308.py:19: FutureWarning: The behavior of DataFrame concatenation with empty or all-NA entries is deprecated. In a future version, this will no longer exclude empty or all-NA columns when determining the result dtypes. To retain the old behavior, exclude the relevant entries before the concat operation.\n",
      "  final_df = pd.concat([final_df, df])\n"
     ]
    },
    {
     "name": "stdout",
     "output_type": "stream",
     "text": [
      "Took 4.709848165512085 seconds to finish count number 60\n",
      "Processing Jameer Nelson...\n",
      "Took 1.8744540214538574 seconds to finish count number 61\n",
      "Processing Louie Nelson...\n"
     ]
    },
    {
     "name": "stderr",
     "output_type": "stream",
     "text": [
      "/tmp/ipykernel_4467/1331416308.py:19: FutureWarning: The behavior of DataFrame concatenation with empty or all-NA entries is deprecated. In a future version, this will no longer exclude empty or all-NA columns when determining the result dtypes. To retain the old behavior, exclude the relevant entries before the concat operation.\n",
      "  final_df = pd.concat([final_df, df])\n"
     ]
    },
    {
     "name": "stdout",
     "output_type": "stream",
     "text": [
      "Took 3.5681777000427246 seconds to finish count number 62\n",
      "Processing Andrew Nembhard...\n",
      "Took 0.6268143653869629 seconds to finish count number 63\n",
      "Processing Ruben Nembhard...\n",
      "Took 1.5327270030975342 seconds to finish count number 64\n",
      "Processing RJ Nembhard Jr....\n",
      "Took 1.6469194889068604 seconds to finish count number 65\n",
      "Processing Nene...\n",
      "Took 2.042459726333618 seconds to finish count number 66\n",
      "Processing Tyrone Nesby...\n",
      "Took 2.489652156829834 seconds to finish count number 67\n",
      "Processing Aaron Nesmith...\n",
      "Took 0.5968146324157715 seconds to finish count number 68\n",
      "Processing Martin Nessley...\n",
      "Took 2.158200263977051 seconds to finish count number 69\n",
      "Processing Rasho Nesterovic...\n",
      "Took 2.8593430519104004 seconds to finish count number 70\n",
      "Processing Raul Neto...\n",
      "Took 2.144073009490967 seconds to finish count number 71\n",
      "Processing Johnny Neumann...\n"
     ]
    },
    {
     "name": "stderr",
     "output_type": "stream",
     "text": [
      "/tmp/ipykernel_4467/1331416308.py:19: FutureWarning: The behavior of DataFrame concatenation with empty or all-NA entries is deprecated. In a future version, this will no longer exclude empty or all-NA columns when determining the result dtypes. To retain the old behavior, exclude the relevant entries before the concat operation.\n",
      "  final_df = pd.concat([final_df, df])\n"
     ]
    },
    {
     "name": "stdout",
     "output_type": "stream",
     "text": [
      "Took 1.6506953239440918 seconds to finish count number 72\n",
      "Processing Paul Neumann...\n"
     ]
    },
    {
     "name": "stderr",
     "output_type": "stream",
     "text": [
      "/tmp/ipykernel_4467/1331416308.py:19: FutureWarning: The behavior of DataFrame concatenation with empty or all-NA entries is deprecated. In a future version, this will no longer exclude empty or all-NA columns when determining the result dtypes. To retain the old behavior, exclude the relevant entries before the concat operation.\n",
      "  final_df = pd.concat([final_df, df])\n"
     ]
    },
    {
     "name": "stdout",
     "output_type": "stream",
     "text": [
      "Took 1.5841338634490967 seconds to finish count number 73\n",
      "Processing Chuck Nevitt...\n",
      "Took 1.5738699436187744 seconds to finish count number 74\n",
      "Processing Melvin Newbern...\n",
      "Took 2.120713949203491 seconds to finish count number 75\n",
      "Processing Ivano Newbill...\n",
      "Took 1.6991055011749268 seconds to finish count number 76\n",
      "Processing Ira Newble...\n",
      "Took 1.9825100898742676 seconds to finish count number 77\n",
      "Processing Mike Newlin...\n",
      "Took 1.889301061630249 seconds to finish count number 78\n",
      "Processing Johnny Newman...\n",
      "Took 1.8359458446502686 seconds to finish count number 79\n",
      "Processing Malik Newman...\n",
      "Took 1.516045331954956 seconds to finish count number 80\n",
      "Processing Dave Newmark...\n"
     ]
    },
    {
     "name": "stderr",
     "output_type": "stream",
     "text": [
      "/tmp/ipykernel_4467/1331416308.py:19: FutureWarning: The behavior of DataFrame concatenation with empty or all-NA entries is deprecated. In a future version, this will no longer exclude empty or all-NA columns when determining the result dtypes. To retain the old behavior, exclude the relevant entries before the concat operation.\n",
      "  final_df = pd.concat([final_df, df])\n"
     ]
    },
    {
     "name": "stdout",
     "output_type": "stream",
     "text": [
      "Took 1.8320903778076172 seconds to finish count number 81\n",
      "Processing Georges Niang...\n",
      "Took 0.6046249866485596 seconds to finish count number 82\n",
      "Processing Demetris Nichols...\n",
      "Took 2.8211123943328857 seconds to finish count number 83\n",
      "Processing Jack Nichols...\n"
     ]
    },
    {
     "name": "stderr",
     "output_type": "stream",
     "text": [
      "/tmp/ipykernel_4467/1331416308.py:19: FutureWarning: The behavior of DataFrame concatenation with empty or all-NA entries is deprecated. In a future version, this will no longer exclude empty or all-NA columns when determining the result dtypes. To retain the old behavior, exclude the relevant entries before the concat operation.\n",
      "  final_df = pd.concat([final_df, df])\n"
     ]
    },
    {
     "name": "stdout",
     "output_type": "stream",
     "text": [
      "Took 2.7339224815368652 seconds to finish count number 84\n",
      "Processing Andrew Nicholson...\n",
      "Took 1.6275920867919922 seconds to finish count number 85\n",
      "Processing Gaylon Nickerson...\n",
      "Took 1.5675225257873535 seconds to finish count number 86\n",
      "Processing Carl Nicks...\n",
      "Took 1.800262451171875 seconds to finish count number 87\n",
      "Processing Rich Niemann...\n"
     ]
    },
    {
     "name": "stderr",
     "output_type": "stream",
     "text": [
      "/tmp/ipykernel_4467/1331416308.py:19: FutureWarning: The behavior of DataFrame concatenation with empty or all-NA entries is deprecated. In a future version, this will no longer exclude empty or all-NA columns when determining the result dtypes. To retain the old behavior, exclude the relevant entries before the concat operation.\n",
      "  final_df = pd.concat([final_df, df])\n"
     ]
    },
    {
     "name": "stdout",
     "output_type": "stream",
     "text": [
      "Took 4.154959678649902 seconds to finish count number 88\n",
      "Processing John Niemiera...\n"
     ]
    },
    {
     "name": "stderr",
     "output_type": "stream",
     "text": [
      "/tmp/ipykernel_4467/1331416308.py:19: FutureWarning: The behavior of DataFrame concatenation with empty or all-NA entries is deprecated. In a future version, this will no longer exclude empty or all-NA columns when determining the result dtypes. To retain the old behavior, exclude the relevant entries before the concat operation.\n",
      "  final_df = pd.concat([final_df, df])\n"
     ]
    },
    {
     "name": "stdout",
     "output_type": "stream",
     "text": [
      "Took 1.8100864887237549 seconds to finish count number 89\n",
      "Processing Mike Niles...\n",
      "Took 14.721235513687134 seconds to finish count number 90\n",
      "Processing Kurt Nimphius...\n",
      "Took 2.3814289569854736 seconds to finish count number 91\n",
      "Processing Daishen Nix...\n",
      "Took 0.9011635780334473 seconds to finish count number 92\n",
      "Processing Dyron Nix...\n",
      "Took 1.7295949459075928 seconds to finish count number 93\n",
      "Processing Norm Nixon...\n",
      "Took 1.3873214721679688 seconds to finish count number 94\n",
      "Processing Zeke Nnaji...\n",
      "Took 1.727985143661499 seconds to finish count number 95\n",
      "Processing Joakim Noah...\n",
      "Took 1.91758394241333 seconds to finish count number 96\n",
      "Processing Chuck Noble...\n"
     ]
    },
    {
     "name": "stderr",
     "output_type": "stream",
     "text": [
      "/tmp/ipykernel_4467/1331416308.py:19: FutureWarning: The behavior of DataFrame concatenation with empty or all-NA entries is deprecated. In a future version, this will no longer exclude empty or all-NA columns when determining the result dtypes. To retain the old behavior, exclude the relevant entries before the concat operation.\n",
      "  final_df = pd.concat([final_df, df])\n"
     ]
    },
    {
     "name": "stdout",
     "output_type": "stream",
     "text": [
      "Took 1.6253576278686523 seconds to finish count number 97\n",
      "Processing Andres Nocioni...\n",
      "Took 1.5753302574157715 seconds to finish count number 98\n",
      "Processing David Noel...\n",
      "Took 1.5530648231506348 seconds to finish count number 99\n",
      "collecting chunk 3200 through 3300\n",
      "start point = 3200\n",
      "Processing Nerlens Noel...\n",
      "Took 1.5609874725341797 seconds to finish count number 0\n",
      "Processing Paul Noel...\n"
     ]
    },
    {
     "name": "stderr",
     "output_type": "stream",
     "text": [
      "/tmp/ipykernel_4467/1331416308.py:19: FutureWarning: The behavior of DataFrame concatenation with empty or all-NA entries is deprecated. In a future version, this will no longer exclude empty or all-NA columns when determining the result dtypes. To retain the old behavior, exclude the relevant entries before the concat operation.\n",
      "  final_df = pd.concat([final_df, df])\n"
     ]
    },
    {
     "name": "stdout",
     "output_type": "stream",
     "text": [
      "Took 1.7079591751098633 seconds to finish count number 1\n",
      "Processing Lucas Nogueira...\n",
      "Took 1.7962512969970703 seconds to finish count number 2\n",
      "Processing Jim Nolan...\n"
     ]
    },
    {
     "name": "stderr",
     "output_type": "stream",
     "text": [
      "/tmp/ipykernel_4467/1331416308.py:19: FutureWarning: The behavior of DataFrame concatenation with empty or all-NA entries is deprecated. In a future version, this will no longer exclude empty or all-NA columns when determining the result dtypes. To retain the old behavior, exclude the relevant entries before the concat operation.\n",
      "  final_df = pd.concat([final_df, df])\n"
     ]
    },
    {
     "name": "stdout",
     "output_type": "stream",
     "text": [
      "Took 3.001946449279785 seconds to finish count number 3\n",
      "Processing Paul Nolen...\n"
     ]
    },
    {
     "name": "stderr",
     "output_type": "stream",
     "text": [
      "/tmp/ipykernel_4467/1331416308.py:19: FutureWarning: The behavior of DataFrame concatenation with empty or all-NA entries is deprecated. In a future version, this will no longer exclude empty or all-NA columns when determining the result dtypes. To retain the old behavior, exclude the relevant entries before the concat operation.\n",
      "  final_df = pd.concat([final_df, df])\n"
     ]
    },
    {
     "name": "stdout",
     "output_type": "stream",
     "text": [
      "Took 1.9136121273040771 seconds to finish count number 4\n",
      "Processing Jeff Nordgaard...\n",
      "Took 1.768526554107666 seconds to finish count number 5\n",
      "Processing Robert Nordmann...\n"
     ]
    },
    {
     "name": "stderr",
     "output_type": "stream",
     "text": [
      "/tmp/ipykernel_4467/1331416308.py:19: FutureWarning: The behavior of DataFrame concatenation with empty or all-NA entries is deprecated. In a future version, this will no longer exclude empty or all-NA columns when determining the result dtypes. To retain the old behavior, exclude the relevant entries before the concat operation.\n",
      "  final_df = pd.concat([final_df, df])\n"
     ]
    },
    {
     "name": "stdout",
     "output_type": "stream",
     "text": [
      "Took 1.8007786273956299 seconds to finish count number 6\n",
      "Processing Johnny Norlander...\n"
     ]
    },
    {
     "name": "stderr",
     "output_type": "stream",
     "text": [
      "/tmp/ipykernel_4467/1331416308.py:19: FutureWarning: The behavior of DataFrame concatenation with empty or all-NA entries is deprecated. In a future version, this will no longer exclude empty or all-NA columns when determining the result dtypes. To retain the old behavior, exclude the relevant entries before the concat operation.\n",
      "  final_df = pd.concat([final_df, df])\n"
     ]
    },
    {
     "name": "stdout",
     "output_type": "stream",
     "text": [
      "Took 2.381840705871582 seconds to finish count number 7\n",
      "Processing Connie Norman...\n"
     ]
    },
    {
     "name": "stderr",
     "output_type": "stream",
     "text": [
      "/tmp/ipykernel_4467/1331416308.py:19: FutureWarning: The behavior of DataFrame concatenation with empty or all-NA entries is deprecated. In a future version, this will no longer exclude empty or all-NA columns when determining the result dtypes. To retain the old behavior, exclude the relevant entries before the concat operation.\n",
      "  final_df = pd.concat([final_df, df])\n"
     ]
    },
    {
     "name": "stdout",
     "output_type": "stream",
     "text": [
      "Took 1.531477451324463 seconds to finish count number 8\n",
      "Processing Ken Norman...\n",
      "Took 3.412689685821533 seconds to finish count number 9\n",
      "Processing Audie Norris...\n",
      "Took 2.6322829723358154 seconds to finish count number 10\n",
      "Processing Miles Norris...\n"
     ]
    },
    {
     "name": "stderr",
     "output_type": "stream",
     "text": [
      "/tmp/ipykernel_4467/1331416308.py:19: FutureWarning: The behavior of DataFrame concatenation with empty or all-NA entries is deprecated. In a future version, this will no longer exclude empty or all-NA columns when determining the result dtypes. To retain the old behavior, exclude the relevant entries before the concat operation.\n",
      "  final_df = pd.concat([final_df, df])\n"
     ]
    },
    {
     "name": "stdout",
     "output_type": "stream",
     "text": [
      "Took 2.459421396255493 seconds to finish count number 11\n",
      "Processing Moochie Norris...\n",
      "Took 2.627631902694702 seconds to finish count number 12\n",
      "Processing Sylvester Norris...\n"
     ]
    },
    {
     "name": "stderr",
     "output_type": "stream",
     "text": [
      "/tmp/ipykernel_4467/1331416308.py:19: FutureWarning: The behavior of DataFrame concatenation with empty or all-NA entries is deprecated. In a future version, this will no longer exclude empty or all-NA columns when determining the result dtypes. To retain the old behavior, exclude the relevant entries before the concat operation.\n",
      "  final_df = pd.concat([final_df, df])\n"
     ]
    },
    {
     "name": "stdout",
     "output_type": "stream",
     "text": [
      "Took 3.501115322113037 seconds to finish count number 13\n",
      "Processing Zach Norvell Jr....\n",
      "Took 1.6641929149627686 seconds to finish count number 14\n",
      "Processing Willie Norwood...\n"
     ]
    },
    {
     "name": "stderr",
     "output_type": "stream",
     "text": [
      "/tmp/ipykernel_4467/1331416308.py:19: FutureWarning: The behavior of DataFrame concatenation with empty or all-NA entries is deprecated. In a future version, this will no longer exclude empty or all-NA columns when determining the result dtypes. To retain the old behavior, exclude the relevant entries before the concat operation.\n",
      "  final_df = pd.concat([final_df, df])\n"
     ]
    },
    {
     "name": "stdout",
     "output_type": "stream",
     "text": [
      "Took 1.641810655593872 seconds to finish count number 15\n",
      "Processing George Nostrand...\n"
     ]
    },
    {
     "name": "stderr",
     "output_type": "stream",
     "text": [
      "/tmp/ipykernel_4467/1331416308.py:19: FutureWarning: The behavior of DataFrame concatenation with empty or all-NA entries is deprecated. In a future version, this will no longer exclude empty or all-NA columns when determining the result dtypes. To retain the old behavior, exclude the relevant entries before the concat operation.\n",
      "  final_df = pd.concat([final_df, df])\n"
     ]
    },
    {
     "name": "stdout",
     "output_type": "stream",
     "text": [
      "Took 1.6502351760864258 seconds to finish count number 16\n",
      "Processing Stan Noszka...\n"
     ]
    },
    {
     "name": "stderr",
     "output_type": "stream",
     "text": [
      "/tmp/ipykernel_4467/1331416308.py:19: FutureWarning: The behavior of DataFrame concatenation with empty or all-NA entries is deprecated. In a future version, this will no longer exclude empty or all-NA columns when determining the result dtypes. To retain the old behavior, exclude the relevant entries before the concat operation.\n",
      "  final_df = pd.concat([final_df, df])\n"
     ]
    },
    {
     "name": "stdout",
     "output_type": "stream",
     "text": [
      "Took 1.8978323936462402 seconds to finish count number 17\n",
      "Processing Mike Novak...\n"
     ]
    },
    {
     "name": "stderr",
     "output_type": "stream",
     "text": [
      "/tmp/ipykernel_4467/1331416308.py:19: FutureWarning: The behavior of DataFrame concatenation with empty or all-NA entries is deprecated. In a future version, this will no longer exclude empty or all-NA columns when determining the result dtypes. To retain the old behavior, exclude the relevant entries before the concat operation.\n",
      "  final_df = pd.concat([final_df, df])\n"
     ]
    },
    {
     "name": "stdout",
     "output_type": "stream",
     "text": [
      "Took 1.7598230838775635 seconds to finish count number 18\n",
      "Processing Steve Novak...\n",
      "Took 2.274461507797241 seconds to finish count number 19\n",
      "Processing Jaylen Nowell...\n",
      "Took 2.9751930236816406 seconds to finish count number 20\n",
      "Processing Markquis Nowell...\n",
      "Took 0.5682878494262695 seconds to finish count number 21\n",
      "Processing Mel Nowell...\n"
     ]
    },
    {
     "name": "stderr",
     "output_type": "stream",
     "text": [
      "/tmp/ipykernel_4467/1331416308.py:19: FutureWarning: The behavior of DataFrame concatenation with empty or all-NA entries is deprecated. In a future version, this will no longer exclude empty or all-NA columns when determining the result dtypes. To retain the old behavior, exclude the relevant entries before the concat operation.\n",
      "  final_df = pd.concat([final_df, df])\n"
     ]
    },
    {
     "name": "stdout",
     "output_type": "stream",
     "text": [
      "Took 2.354654312133789 seconds to finish count number 22\n",
      "Processing Dirk Nowitzki...\n",
      "Took 2.778658390045166 seconds to finish count number 23\n",
      "Processing Frank Ntilikina...\n",
      "Took 2.6796960830688477 seconds to finish count number 24\n",
      "Processing Kendrick Nunn...\n",
      "Took 1.9602105617523193 seconds to finish count number 25\n",
      "Processing James Nunnally...\n",
      "Took 2.5034260749816895 seconds to finish count number 26\n",
      "Processing Jusuf Nurkic...\n",
      "Took 0.5326402187347412 seconds to finish count number 27\n",
      "Processing Dennis Nutt...\n",
      "Took 2.2347464561462402 seconds to finish count number 28\n",
      "Processing David Nwaba...\n",
      "Took 5.526072025299072 seconds to finish count number 29\n",
      "Processing Jordan Nwora...\n",
      "Took 0.7311980724334717 seconds to finish count number 30\n",
      "Processing Julius Nwosu...\n",
      "Took 1.7150402069091797 seconds to finish count number 31\n",
      "Processing Charles O'Bannon...\n",
      "Took 2.675372362136841 seconds to finish count number 32\n",
      "Processing Ed O'Bannon...\n",
      "Took 1.746065616607666 seconds to finish count number 33\n",
      "Processing John O'Boyle...\n"
     ]
    },
    {
     "name": "stderr",
     "output_type": "stream",
     "text": [
      "/tmp/ipykernel_4467/1331416308.py:19: FutureWarning: The behavior of DataFrame concatenation with empty or all-NA entries is deprecated. In a future version, this will no longer exclude empty or all-NA columns when determining the result dtypes. To retain the old behavior, exclude the relevant entries before the concat operation.\n",
      "  final_df = pd.concat([final_df, df])\n"
     ]
    },
    {
     "name": "stdout",
     "output_type": "stream",
     "text": [
      "Took 1.7659642696380615 seconds to finish count number 34\n",
      "Processing Bob O'Brien...\n"
     ]
    },
    {
     "name": "stderr",
     "output_type": "stream",
     "text": [
      "/tmp/ipykernel_4467/1331416308.py:19: FutureWarning: The behavior of DataFrame concatenation with empty or all-NA entries is deprecated. In a future version, this will no longer exclude empty or all-NA columns when determining the result dtypes. To retain the old behavior, exclude the relevant entries before the concat operation.\n",
      "  final_df = pd.concat([final_df, df])\n"
     ]
    },
    {
     "name": "stdout",
     "output_type": "stream",
     "text": [
      "Took 1.5405027866363525 seconds to finish count number 35\n",
      "Processing Buckshot O'Brien...\n"
     ]
    },
    {
     "name": "stderr",
     "output_type": "stream",
     "text": [
      "/tmp/ipykernel_4467/1331416308.py:19: FutureWarning: The behavior of DataFrame concatenation with empty or all-NA entries is deprecated. In a future version, this will no longer exclude empty or all-NA columns when determining the result dtypes. To retain the old behavior, exclude the relevant entries before the concat operation.\n",
      "  final_df = pd.concat([final_df, df])\n"
     ]
    },
    {
     "name": "stdout",
     "output_type": "stream",
     "text": [
      "Took 2.969797372817993 seconds to finish count number 36\n",
      "Processing JJ O'Brien...\n",
      "Took 1.700707197189331 seconds to finish count number 37\n",
      "Processing Patrick O'Bryant...\n",
      "Took 1.7060484886169434 seconds to finish count number 38\n",
      "Processing Johnny O'Bryant III...\n",
      "Took 3.9322311878204346 seconds to finish count number 39\n",
      "Processing Dermie O'Connell...\n"
     ]
    },
    {
     "name": "stderr",
     "output_type": "stream",
     "text": [
      "/tmp/ipykernel_4467/1331416308.py:19: FutureWarning: The behavior of DataFrame concatenation with empty or all-NA entries is deprecated. In a future version, this will no longer exclude empty or all-NA columns when determining the result dtypes. To retain the old behavior, exclude the relevant entries before the concat operation.\n",
      "  final_df = pd.concat([final_df, df])\n"
     ]
    },
    {
     "name": "stdout",
     "output_type": "stream",
     "text": [
      "Took 2.355729579925537 seconds to finish count number 40\n",
      "Processing Andy O'Donnell...\n"
     ]
    },
    {
     "name": "stderr",
     "output_type": "stream",
     "text": [
      "/tmp/ipykernel_4467/1331416308.py:19: FutureWarning: The behavior of DataFrame concatenation with empty or all-NA entries is deprecated. In a future version, this will no longer exclude empty or all-NA columns when determining the result dtypes. To retain the old behavior, exclude the relevant entries before the concat operation.\n",
      "  final_df = pd.concat([final_df, df])\n"
     ]
    },
    {
     "name": "stdout",
     "output_type": "stream",
     "text": [
      "Took 2.4630331993103027 seconds to finish count number 41\n",
      "Processing Francis O'Grady...\n"
     ]
    },
    {
     "name": "stderr",
     "output_type": "stream",
     "text": [
      "/tmp/ipykernel_4467/1331416308.py:19: FutureWarning: The behavior of DataFrame concatenation with empty or all-NA entries is deprecated. In a future version, this will no longer exclude empty or all-NA columns when determining the result dtypes. To retain the old behavior, exclude the relevant entries before the concat operation.\n",
      "  final_df = pd.concat([final_df, df])\n"
     ]
    },
    {
     "name": "stdout",
     "output_type": "stream",
     "text": [
      "Took 1.7526845932006836 seconds to finish count number 42\n",
      "Processing Dick O'Keefe...\n"
     ]
    },
    {
     "name": "stderr",
     "output_type": "stream",
     "text": [
      "/tmp/ipykernel_4467/1331416308.py:19: FutureWarning: The behavior of DataFrame concatenation with empty or all-NA entries is deprecated. In a future version, this will no longer exclude empty or all-NA columns when determining the result dtypes. To retain the old behavior, exclude the relevant entries before the concat operation.\n",
      "  final_df = pd.concat([final_df, df])\n"
     ]
    },
    {
     "name": "stdout",
     "output_type": "stream",
     "text": [
      "Took 5.038938283920288 seconds to finish count number 43\n",
      "Processing Tommy O'Keefe...\n"
     ]
    },
    {
     "name": "stderr",
     "output_type": "stream",
     "text": [
      "/tmp/ipykernel_4467/1331416308.py:19: FutureWarning: The behavior of DataFrame concatenation with empty or all-NA entries is deprecated. In a future version, this will no longer exclude empty or all-NA columns when determining the result dtypes. To retain the old behavior, exclude the relevant entries before the concat operation.\n",
      "  final_df = pd.concat([final_df, df])\n"
     ]
    },
    {
     "name": "stdout",
     "output_type": "stream",
     "text": [
      "Took 1.4518218040466309 seconds to finish count number 44\n",
      "Processing Mike O'Koren...\n",
      "Took 2.424410104751587 seconds to finish count number 45\n",
      "Processing Grady O'Malley...\n"
     ]
    },
    {
     "name": "stderr",
     "output_type": "stream",
     "text": [
      "/tmp/ipykernel_4467/1331416308.py:19: FutureWarning: The behavior of DataFrame concatenation with empty or all-NA entries is deprecated. In a future version, this will no longer exclude empty or all-NA columns when determining the result dtypes. To retain the old behavior, exclude the relevant entries before the concat operation.\n",
      "  final_df = pd.concat([final_df, df])\n"
     ]
    },
    {
     "name": "stdout",
     "output_type": "stream",
     "text": [
      "Took 2.5885064601898193 seconds to finish count number 46\n",
      "Processing Jermaine O'Neal...\n",
      "Took 3.029474973678589 seconds to finish count number 47\n",
      "Processing Shaquille O'Neal...\n",
      "Took 2.7669925689697266 seconds to finish count number 48\n",
      "Processing Royce O'Neale...\n",
      "Took 0.7040133476257324 seconds to finish count number 49\n",
      "Processing Mike O'Neill...\n"
     ]
    },
    {
     "name": "stderr",
     "output_type": "stream",
     "text": [
      "/tmp/ipykernel_4467/1331416308.py:19: FutureWarning: The behavior of DataFrame concatenation with empty or all-NA entries is deprecated. In a future version, this will no longer exclude empty or all-NA columns when determining the result dtypes. To retain the old behavior, exclude the relevant entries before the concat operation.\n",
      "  final_df = pd.concat([final_df, df])\n"
     ]
    },
    {
     "name": "stdout",
     "output_type": "stream",
     "text": [
      "Took 1.589787244796753 seconds to finish count number 50\n",
      "Processing Kyle O'Quinn...\n",
      "Took 1.9211878776550293 seconds to finish count number 51\n",
      "Processing Kevin O'Shea...\n"
     ]
    },
    {
     "name": "stderr",
     "output_type": "stream",
     "text": [
      "/tmp/ipykernel_4467/1331416308.py:19: FutureWarning: The behavior of DataFrame concatenation with empty or all-NA entries is deprecated. In a future version, this will no longer exclude empty or all-NA columns when determining the result dtypes. To retain the old behavior, exclude the relevant entries before the concat operation.\n",
      "  final_df = pd.concat([final_df, df])\n"
     ]
    },
    {
     "name": "stdout",
     "output_type": "stream",
     "text": [
      "Took 2.3264918327331543 seconds to finish count number 52\n",
      "Processing Garland O'Shields...\n"
     ]
    },
    {
     "name": "stderr",
     "output_type": "stream",
     "text": [
      "/tmp/ipykernel_4467/1331416308.py:19: FutureWarning: The behavior of DataFrame concatenation with empty or all-NA entries is deprecated. In a future version, this will no longer exclude empty or all-NA columns when determining the result dtypes. To retain the old behavior, exclude the relevant entries before the concat operation.\n",
      "  final_df = pd.concat([final_df, df])\n"
     ]
    },
    {
     "name": "stdout",
     "output_type": "stream",
     "text": [
      "Took 2.3491179943084717 seconds to finish count number 53\n",
      "Processing Dan O'Sullivan...\n",
      "Took 3.70748233795166 seconds to finish count number 54\n",
      "Processing Charles Oakley...\n",
      "Took 1.6199462413787842 seconds to finish count number 55\n",
      "Processing Fabricio Oberto...\n",
      "Took 1.739274501800537 seconds to finish count number 56\n",
      "Processing Daniel Ochefu...\n",
      "Took 1.7423996925354004 seconds to finish count number 57\n",
      "Processing Greg Oden...\n",
      "Took 1.7399909496307373 seconds to finish count number 58\n",
      "Processing Lamar Odom...\n",
      "Took 1.756939172744751 seconds to finish count number 59\n",
      "Processing Carlos Ogden...\n"
     ]
    },
    {
     "name": "stderr",
     "output_type": "stream",
     "text": [
      "/tmp/ipykernel_4467/1331416308.py:19: FutureWarning: The behavior of DataFrame concatenation with empty or all-NA entries is deprecated. In a future version, this will no longer exclude empty or all-NA columns when determining the result dtypes. To retain the old behavior, exclude the relevant entries before the concat operation.\n",
      "  final_df = pd.concat([final_df, df])\n"
     ]
    },
    {
     "name": "stdout",
     "output_type": "stream",
     "text": [
      "Took 1.423630952835083 seconds to finish count number 60\n",
      "Processing Ralph Ogden...\n"
     ]
    },
    {
     "name": "stderr",
     "output_type": "stream",
     "text": [
      "/tmp/ipykernel_4467/1331416308.py:19: FutureWarning: The behavior of DataFrame concatenation with empty or all-NA entries is deprecated. In a future version, this will no longer exclude empty or all-NA columns when determining the result dtypes. To retain the old behavior, exclude the relevant entries before the concat operation.\n",
      "  final_df = pd.concat([final_df, df])\n"
     ]
    },
    {
     "name": "stdout",
     "output_type": "stream",
     "text": [
      "Took 1.8365015983581543 seconds to finish count number 61\n",
      "Processing Alan Ogg...\n",
      "Took 1.6419715881347656 seconds to finish count number 62\n",
      "Processing Don Ohl...\n"
     ]
    },
    {
     "name": "stderr",
     "output_type": "stream",
     "text": [
      "/tmp/ipykernel_4467/1331416308.py:19: FutureWarning: The behavior of DataFrame concatenation with empty or all-NA entries is deprecated. In a future version, this will no longer exclude empty or all-NA columns when determining the result dtypes. To retain the old behavior, exclude the relevant entries before the concat operation.\n",
      "  final_df = pd.concat([final_df, df])\n"
     ]
    },
    {
     "name": "stdout",
     "output_type": "stream",
     "text": [
      "Took 3.20307993888855 seconds to finish count number 63\n",
      "Processing Tim Ohlbrecht...\n",
      "Took 1.7071013450622559 seconds to finish count number 64\n",
      "Processing Semi Ojeleye...\n",
      "Took 1.4573640823364258 seconds to finish count number 65\n",
      "Processing Emeka Okafor...\n",
      "Took 4.892918109893799 seconds to finish count number 66\n",
      "Processing Jahlil Okafor...\n",
      "Took 1.9447989463806152 seconds to finish count number 67\n",
      "Processing Chuma Okeke...\n",
      "Took 0.8170177936553955 seconds to finish count number 68\n",
      "Processing Elie Okobo...\n",
      "Took 1.496845006942749 seconds to finish count number 69\n",
      "Processing Josh Okogie...\n",
      "Took 0.5908126831054688 seconds to finish count number 70\n",
      "Processing Onyeka Okongwu...\n",
      "Took 2.3175837993621826 seconds to finish count number 71\n",
      "Processing Isaac Okoro...\n",
      "Took 0.9170472621917725 seconds to finish count number 72\n",
      "Processing KZ Okpala...\n",
      "Took 1.4683723449707031 seconds to finish count number 73\n",
      "Processing Mehmet Okur...\n",
      "Took 2.354997158050537 seconds to finish count number 74\n",
      "Processing Victor Oladipo...\n",
      "Took 0.5818321704864502 seconds to finish count number 75\n",
      "Processing Hakeem Olajuwon...\n",
      "Took 4.646568536758423 seconds to finish count number 76\n",
      "Processing Mark Olberding...\n",
      "Took 1.7305912971496582 seconds to finish count number 77\n",
      "Processing Jawann Oldham...\n",
      "Took 1.7150607109069824 seconds to finish count number 78\n",
      "Processing Johnny Oldham...\n"
     ]
    },
    {
     "name": "stderr",
     "output_type": "stream",
     "text": [
      "/tmp/ipykernel_4467/1331416308.py:19: FutureWarning: The behavior of DataFrame concatenation with empty or all-NA entries is deprecated. In a future version, this will no longer exclude empty or all-NA columns when determining the result dtypes. To retain the old behavior, exclude the relevant entries before the concat operation.\n",
      "  final_df = pd.concat([final_df, df])\n"
     ]
    },
    {
     "name": "stdout",
     "output_type": "stream",
     "text": [
      "Took 2.6605610847473145 seconds to finish count number 79\n",
      "Processing Frank Oleynick...\n"
     ]
    },
    {
     "name": "stderr",
     "output_type": "stream",
     "text": [
      "/tmp/ipykernel_4467/1331416308.py:19: FutureWarning: The behavior of DataFrame concatenation with empty or all-NA entries is deprecated. In a future version, this will no longer exclude empty or all-NA columns when determining the result dtypes. To retain the old behavior, exclude the relevant entries before the concat operation.\n",
      "  final_df = pd.concat([final_df, df])\n"
     ]
    },
    {
     "name": "stdout",
     "output_type": "stream",
     "text": [
      "Took 5.940080404281616 seconds to finish count number 80\n",
      "Processing John Olive...\n"
     ]
    },
    {
     "name": "stderr",
     "output_type": "stream",
     "text": [
      "/tmp/ipykernel_4467/1331416308.py:19: FutureWarning: The behavior of DataFrame concatenation with empty or all-NA entries is deprecated. In a future version, this will no longer exclude empty or all-NA columns when determining the result dtypes. To retain the old behavior, exclude the relevant entries before the concat operation.\n",
      "  final_df = pd.concat([final_df, df])\n"
     ]
    },
    {
     "name": "stdout",
     "output_type": "stream",
     "text": [
      "Took 1.5404841899871826 seconds to finish count number 81\n",
      "Processing Brian Oliver...\n",
      "Took 1.4384019374847412 seconds to finish count number 82\n",
      "Processing Cameron Oliver...\n",
      "Took 1.7660257816314697 seconds to finish count number 83\n",
      "Processing Dean Oliver...\n",
      "Took 1.3236479759216309 seconds to finish count number 84\n",
      "Processing Jimmy Oliver...\n",
      "Took 1.7415223121643066 seconds to finish count number 85\n",
      "Processing Kevin Ollie...\n",
      "Took 4.99868106842041 seconds to finish count number 86\n",
      "Processing Gene Ollrich...\n"
     ]
    },
    {
     "name": "stderr",
     "output_type": "stream",
     "text": [
      "/tmp/ipykernel_4467/1331416308.py:19: FutureWarning: The behavior of DataFrame concatenation with empty or all-NA entries is deprecated. In a future version, this will no longer exclude empty or all-NA columns when determining the result dtypes. To retain the old behavior, exclude the relevant entries before the concat operation.\n",
      "  final_df = pd.concat([final_df, df])\n"
     ]
    },
    {
     "name": "stdout",
     "output_type": "stream",
     "text": [
      "Took 1.4244017601013184 seconds to finish count number 87\n",
      "Processing Michael Olowokandi...\n",
      "Took 2.3776018619537354 seconds to finish count number 88\n",
      "Processing Enoch Olsen...\n"
     ]
    },
    {
     "name": "stderr",
     "output_type": "stream",
     "text": [
      "/tmp/ipykernel_4467/1331416308.py:19: FutureWarning: The behavior of DataFrame concatenation with empty or all-NA entries is deprecated. In a future version, this will no longer exclude empty or all-NA columns when determining the result dtypes. To retain the old behavior, exclude the relevant entries before the concat operation.\n",
      "  final_df = pd.concat([final_df, df])\n"
     ]
    },
    {
     "name": "stdout",
     "output_type": "stream",
     "text": [
      "Took 1.5221846103668213 seconds to finish count number 89\n",
      "Processing Kelly Olynyk...\n",
      "Took 0.6989376544952393 seconds to finish count number 90\n",
      "Processing Eugene Omoruyi...\n",
      "Took 4.511230945587158 seconds to finish count number 91\n",
      "Processing Miye Oni...\n",
      "Took 2.4555091857910156 seconds to finish count number 92\n",
      "Processing Arinze Onuaku...\n",
      "Took 3.275258779525757 seconds to finish count number 93\n",
      "Processing Chinanu Onuaku...\n",
      "Took 1.641481876373291 seconds to finish count number 94\n",
      "Processing Barry Orms...\n"
     ]
    },
    {
     "name": "stderr",
     "output_type": "stream",
     "text": [
      "/tmp/ipykernel_4467/1331416308.py:19: FutureWarning: The behavior of DataFrame concatenation with empty or all-NA entries is deprecated. In a future version, this will no longer exclude empty or all-NA columns when determining the result dtypes. To retain the old behavior, exclude the relevant entries before the concat operation.\n",
      "  final_df = pd.concat([final_df, df])\n"
     ]
    },
    {
     "name": "stdout",
     "output_type": "stream",
     "text": [
      "Took 1.6572065353393555 seconds to finish count number 95\n",
      "Processing Johnny Orr...\n"
     ]
    },
    {
     "name": "stderr",
     "output_type": "stream",
     "text": [
      "/tmp/ipykernel_4467/1331416308.py:19: FutureWarning: The behavior of DataFrame concatenation with empty or all-NA entries is deprecated. In a future version, this will no longer exclude empty or all-NA columns when determining the result dtypes. To retain the old behavior, exclude the relevant entries before the concat operation.\n",
      "  final_df = pd.concat([final_df, df])\n"
     ]
    },
    {
     "name": "stdout",
     "output_type": "stream",
     "text": [
      "Took 2.453933000564575 seconds to finish count number 96\n",
      "Processing Louis Orr...\n",
      "Took 4.717170000076294 seconds to finish count number 97\n",
      "Processing Jose Ortiz...\n",
      "Took 1.5069818496704102 seconds to finish count number 98\n",
      "Processing Daniel Orton...\n",
      "Took 1.5382437705993652 seconds to finish count number 99\n",
      "collecting chunk 3300 through 3400\n",
      "start point = 3300\n",
      "Processing Chuck Osborne...\n",
      "Took 1.454726219177246 seconds to finish count number 0\n",
      "Processing Cedi Osman...\n"
     ]
    },
    {
     "name": "stderr",
     "output_type": "stream",
     "text": [
      "/tmp/ipykernel_4467/1331416308.py:19: FutureWarning: The behavior of DataFrame concatenation with empty or all-NA entries is deprecated. In a future version, this will no longer exclude empty or all-NA columns when determining the result dtypes. To retain the old behavior, exclude the relevant entries before the concat operation.\n",
      "  final_df = pd.concat([final_df, df])\n"
     ]
    },
    {
     "name": "stdout",
     "output_type": "stream",
     "text": [
      "Took 1.450833797454834 seconds to finish count number 1\n",
      "Processing Wally Osterkorn...\n"
     ]
    },
    {
     "name": "stderr",
     "output_type": "stream",
     "text": [
      "/tmp/ipykernel_4467/1331416308.py:19: FutureWarning: The behavior of DataFrame concatenation with empty or all-NA entries is deprecated. In a future version, this will no longer exclude empty or all-NA columns when determining the result dtypes. To retain the old behavior, exclude the relevant entries before the concat operation.\n",
      "  final_df = pd.concat([final_df, df])\n"
     ]
    },
    {
     "name": "stdout",
     "output_type": "stream",
     "text": [
      "Took 2.6672284603118896 seconds to finish count number 2\n",
      "Processing Greg Ostertag...\n",
      "Took 1.5822858810424805 seconds to finish count number 3\n",
      "Processing Matt Othick...\n",
      "Took 1.3654143810272217 seconds to finish count number 4\n",
      "Processing Don Otten...\n"
     ]
    },
    {
     "name": "stderr",
     "output_type": "stream",
     "text": [
      "/tmp/ipykernel_4467/1331416308.py:19: FutureWarning: The behavior of DataFrame concatenation with empty or all-NA entries is deprecated. In a future version, this will no longer exclude empty or all-NA columns when determining the result dtypes. To retain the old behavior, exclude the relevant entries before the concat operation.\n",
      "  final_df = pd.concat([final_df, df])\n"
     ]
    },
    {
     "name": "stdout",
     "output_type": "stream",
     "text": [
      "Took 2.8688862323760986 seconds to finish count number 5\n",
      "Processing Mac Otten...\n"
     ]
    },
    {
     "name": "stderr",
     "output_type": "stream",
     "text": [
      "/tmp/ipykernel_4467/1331416308.py:19: FutureWarning: The behavior of DataFrame concatenation with empty or all-NA entries is deprecated. In a future version, this will no longer exclude empty or all-NA columns when determining the result dtypes. To retain the old behavior, exclude the relevant entries before the concat operation.\n",
      "  final_df = pd.concat([final_df, df])\n"
     ]
    },
    {
     "name": "stdout",
     "output_type": "stream",
     "text": [
      "Took 1.8093113899230957 seconds to finish count number 6\n",
      "Processing Daniel Oturu...\n",
      "Took 1.889129877090454 seconds to finish count number 7\n",
      "Processing Kelly Oubre Jr....\n",
      "Took 1.8112366199493408 seconds to finish count number 8\n",
      "Processing Bo Outlaw...\n",
      "Took 1.7188358306884766 seconds to finish count number 9\n",
      "Processing Travis Outlaw...\n",
      "Took 1.8934180736541748 seconds to finish count number 10\n",
      "Processing Claude Overton...\n"
     ]
    },
    {
     "name": "stderr",
     "output_type": "stream",
     "text": [
      "/tmp/ipykernel_4467/1331416308.py:19: FutureWarning: The behavior of DataFrame concatenation with empty or all-NA entries is deprecated. In a future version, this will no longer exclude empty or all-NA columns when determining the result dtypes. To retain the old behavior, exclude the relevant entries before the concat operation.\n",
      "  final_df = pd.concat([final_df, df])\n"
     ]
    },
    {
     "name": "stdout",
     "output_type": "stream",
     "text": [
      "Took 1.516951322555542 seconds to finish count number 11\n",
      "Processing Doug Overton...\n",
      "Took 1.642035961151123 seconds to finish count number 12\n",
      "Processing Andre Owens...\n",
      "Took 2.2424728870391846 seconds to finish count number 13\n",
      "Processing Billy Owens...\n",
      "Took 4.206686496734619 seconds to finish count number 14\n",
      "Processing Chris Owens...\n",
      "Took 14.735680103302002 seconds to finish count number 15\n",
      "Processing Eddie Owens...\n"
     ]
    },
    {
     "name": "stderr",
     "output_type": "stream",
     "text": [
      "/tmp/ipykernel_4467/1331416308.py:19: FutureWarning: The behavior of DataFrame concatenation with empty or all-NA entries is deprecated. In a future version, this will no longer exclude empty or all-NA columns when determining the result dtypes. To retain the old behavior, exclude the relevant entries before the concat operation.\n",
      "  final_df = pd.concat([final_df, df])\n"
     ]
    },
    {
     "name": "stdout",
     "output_type": "stream",
     "text": [
      "Took 2.8846657276153564 seconds to finish count number 16\n",
      "Processing James Owens...\n"
     ]
    },
    {
     "name": "stderr",
     "output_type": "stream",
     "text": [
      "/tmp/ipykernel_4467/1331416308.py:19: FutureWarning: The behavior of DataFrame concatenation with empty or all-NA entries is deprecated. In a future version, this will no longer exclude empty or all-NA columns when determining the result dtypes. To retain the old behavior, exclude the relevant entries before the concat operation.\n",
      "  final_df = pd.concat([final_df, df])\n"
     ]
    },
    {
     "name": "stdout",
     "output_type": "stream",
     "text": [
      "Took 12.293970584869385 seconds to finish count number 17\n",
      "Processing Jim Owens...\n"
     ]
    },
    {
     "name": "stderr",
     "output_type": "stream",
     "text": [
      "/tmp/ipykernel_4467/1331416308.py:19: FutureWarning: The behavior of DataFrame concatenation with empty or all-NA entries is deprecated. In a future version, this will no longer exclude empty or all-NA columns when determining the result dtypes. To retain the old behavior, exclude the relevant entries before the concat operation.\n",
      "  final_df = pd.concat([final_df, df])\n"
     ]
    },
    {
     "name": "stdout",
     "output_type": "stream",
     "text": [
      "Took 9.011051654815674 seconds to finish count number 18\n",
      "Processing Keith Owens...\n",
      "Took 1.530191421508789 seconds to finish count number 19\n",
      "Processing Larry Owens...\n",
      "Took 1.500131368637085 seconds to finish count number 20\n",
      "Processing Tariq Owens...\n",
      "Took 4.428017854690552 seconds to finish count number 21\n",
      "Processing Tom Owens...\n",
      "Took 1.7627627849578857 seconds to finish count number 22\n",
      "Processing Ray Owes...\n",
      "Took 2.232111692428589 seconds to finish count number 23\n",
      "Processing Olumide Oyedeji...\n",
      "Took 1.6625380516052246 seconds to finish count number 24\n",
      "Processing Joe Pace...\n"
     ]
    },
    {
     "name": "stderr",
     "output_type": "stream",
     "text": [
      "/tmp/ipykernel_4467/1331416308.py:19: FutureWarning: The behavior of DataFrame concatenation with empty or all-NA entries is deprecated. In a future version, this will no longer exclude empty or all-NA columns when determining the result dtypes. To retain the old behavior, exclude the relevant entries before the concat operation.\n",
      "  final_df = pd.concat([final_df, df])\n"
     ]
    },
    {
     "name": "stdout",
     "output_type": "stream",
     "text": [
      "Took 1.5318949222564697 seconds to finish count number 25\n",
      "Processing Zaza Pachulia...\n",
      "Took 1.5980603694915771 seconds to finish count number 26\n",
      "Processing Robert Pack...\n",
      "Took 3.1715331077575684 seconds to finish count number 27\n",
      "Processing Gerald Paddio...\n",
      "Took 1.733647108078003 seconds to finish count number 28\n",
      "Processing Scott Padgett...\n",
      "Took 1.5360620021820068 seconds to finish count number 29\n",
      "Processing Jaysean Paige...\n",
      "Took 1.5342662334442139 seconds to finish count number 30\n",
      "Processing Marcus Paige...\n",
      "Took 1.568352222442627 seconds to finish count number 31\n",
      "Processing Fred Paine...\n"
     ]
    },
    {
     "name": "stderr",
     "output_type": "stream",
     "text": [
      "/tmp/ipykernel_4467/1331416308.py:19: FutureWarning: The behavior of DataFrame concatenation with empty or all-NA entries is deprecated. In a future version, this will no longer exclude empty or all-NA columns when determining the result dtypes. To retain the old behavior, exclude the relevant entries before the concat operation.\n",
      "  final_df = pd.concat([final_df, df])\n"
     ]
    },
    {
     "name": "stdout",
     "output_type": "stream",
     "text": [
      "Took 2.9699082374572754 seconds to finish count number 32\n",
      "Processing Milt Palacio...\n",
      "Took 2.771535873413086 seconds to finish count number 33\n",
      "Processing Togo Palazzi...\n"
     ]
    },
    {
     "name": "stderr",
     "output_type": "stream",
     "text": [
      "/tmp/ipykernel_4467/1331416308.py:19: FutureWarning: The behavior of DataFrame concatenation with empty or all-NA entries is deprecated. In a future version, this will no longer exclude empty or all-NA columns when determining the result dtypes. To retain the old behavior, exclude the relevant entries before the concat operation.\n",
      "  final_df = pd.concat([final_df, df])\n"
     ]
    },
    {
     "name": "stdout",
     "output_type": "stream",
     "text": [
      "Took 1.5007848739624023 seconds to finish count number 34\n",
      "Processing Jim Palmer...\n"
     ]
    },
    {
     "name": "stderr",
     "output_type": "stream",
     "text": [
      "/tmp/ipykernel_4467/1331416308.py:19: FutureWarning: The behavior of DataFrame concatenation with empty or all-NA entries is deprecated. In a future version, this will no longer exclude empty or all-NA columns when determining the result dtypes. To retain the old behavior, exclude the relevant entries before the concat operation.\n",
      "  final_df = pd.concat([final_df, df])\n"
     ]
    },
    {
     "name": "stdout",
     "output_type": "stream",
     "text": [
      "Took 2.2519896030426025 seconds to finish count number 35\n",
      "Processing John Palmer...\n"
     ]
    },
    {
     "name": "stderr",
     "output_type": "stream",
     "text": [
      "/tmp/ipykernel_4467/1331416308.py:19: FutureWarning: The behavior of DataFrame concatenation with empty or all-NA entries is deprecated. In a future version, this will no longer exclude empty or all-NA columns when determining the result dtypes. To retain the old behavior, exclude the relevant entries before the concat operation.\n",
      "  final_df = pd.concat([final_df, df])\n"
     ]
    },
    {
     "name": "stdout",
     "output_type": "stream",
     "text": [
      "Took 2.2705044746398926 seconds to finish count number 36\n",
      "Processing Trayvon Palmer...\n",
      "Took 6.7490434646606445 seconds to finish count number 37\n",
      "Processing Walter Palmer...\n",
      "Took 1.5273826122283936 seconds to finish count number 38\n",
      "Processing Kevin Pangos...\n",
      "Took 1.4891703128814697 seconds to finish count number 39\n",
      "Processing Andy Panko...\n",
      "Took 2.3269832134246826 seconds to finish count number 40\n",
      "Processing Georgios Papagiannis...\n",
      "Took 2.555656909942627 seconds to finish count number 41\n",
      "Processing Kostas Papanikolaou...\n",
      "Took 2.433182954788208 seconds to finish count number 42\n",
      "Processing Jannero Pargo...\n",
      "Took 2.556692123413086 seconds to finish count number 43\n",
      "Processing Jeremy Pargo...\n",
      "Took 1.564648151397705 seconds to finish count number 44\n",
      "Processing Estes Parham...\n"
     ]
    },
    {
     "name": "stderr",
     "output_type": "stream",
     "text": [
      "/tmp/ipykernel_4467/1331416308.py:19: FutureWarning: The behavior of DataFrame concatenation with empty or all-NA entries is deprecated. In a future version, this will no longer exclude empty or all-NA columns when determining the result dtypes. To retain the old behavior, exclude the relevant entries before the concat operation.\n",
      "  final_df = pd.concat([final_df, df])\n"
     ]
    },
    {
     "name": "stdout",
     "output_type": "stream",
     "text": [
      "Took 2.3952760696411133 seconds to finish count number 45\n",
      "Processing Robert Parish...\n",
      "Took 1.7947633266448975 seconds to finish count number 46\n",
      "Processing Medford Park...\n"
     ]
    },
    {
     "name": "stderr",
     "output_type": "stream",
     "text": [
      "/tmp/ipykernel_4467/1331416308.py:19: FutureWarning: The behavior of DataFrame concatenation with empty or all-NA entries is deprecated. In a future version, this will no longer exclude empty or all-NA columns when determining the result dtypes. To retain the old behavior, exclude the relevant entries before the concat operation.\n",
      "  final_df = pd.concat([final_df, df])\n"
     ]
    },
    {
     "name": "stdout",
     "output_type": "stream",
     "text": [
      "Took 2.3427376747131348 seconds to finish count number 47\n",
      "Processing Anthony Parker...\n",
      "Took 2.7548818588256836 seconds to finish count number 48\n",
      "Processing Jabari Parker...\n",
      "Took 2.6046924591064453 seconds to finish count number 49\n",
      "Processing Smush Parker...\n",
      "Took 1.5343682765960693 seconds to finish count number 50\n",
      "Processing Sonny Parker...\n",
      "Took 1.519111156463623 seconds to finish count number 51\n",
      "Processing Tony Parker...\n",
      "Took 2.673311233520508 seconds to finish count number 52\n",
      "Processing Jack Parkinson...\n"
     ]
    },
    {
     "name": "stderr",
     "output_type": "stream",
     "text": [
      "/tmp/ipykernel_4467/1331416308.py:19: FutureWarning: The behavior of DataFrame concatenation with empty or all-NA entries is deprecated. In a future version, this will no longer exclude empty or all-NA columns when determining the result dtypes. To retain the old behavior, exclude the relevant entries before the concat operation.\n",
      "  final_df = pd.concat([final_df, df])\n"
     ]
    },
    {
     "name": "stdout",
     "output_type": "stream",
     "text": [
      "Took 8.369545936584473 seconds to finish count number 53\n",
      "Processing Cherokee Parks...\n",
      "Took 12.544695138931274 seconds to finish count number 54\n",
      "Processing Jack Parr...\n"
     ]
    },
    {
     "ename": "ReadTimeout",
     "evalue": "HTTPSConnectionPool(host='stats.nba.com', port=443): Read timed out. (read timeout=30)",
     "output_type": "error",
     "traceback": [
      "\u001b[0;31m---------------------------------------------------------------------------\u001b[0m",
      "\u001b[0;31mtimeout\u001b[0m                                   Traceback (most recent call last)",
      "File \u001b[0;32m~/anaconda3/envs/all-nba/lib/python3.9/site-packages/urllib3/connectionpool.py:536\u001b[0m, in \u001b[0;36mHTTPConnectionPool._make_request\u001b[0;34m(self, conn, method, url, body, headers, retries, timeout, chunked, response_conn, preload_content, decode_content, enforce_content_length)\u001b[0m\n\u001b[1;32m    535\u001b[0m \u001b[39mtry\u001b[39;00m:\n\u001b[0;32m--> 536\u001b[0m     response \u001b[39m=\u001b[39m conn\u001b[39m.\u001b[39;49mgetresponse()\n\u001b[1;32m    537\u001b[0m \u001b[39mexcept\u001b[39;00m (BaseSSLError, \u001b[39mOSError\u001b[39;00m) \u001b[39mas\u001b[39;00m e:\n",
      "File \u001b[0;32m~/anaconda3/envs/all-nba/lib/python3.9/site-packages/urllib3/connection.py:461\u001b[0m, in \u001b[0;36mHTTPConnection.getresponse\u001b[0;34m(self)\u001b[0m\n\u001b[1;32m    460\u001b[0m \u001b[39m# Get the response from http.client.HTTPConnection\u001b[39;00m\n\u001b[0;32m--> 461\u001b[0m httplib_response \u001b[39m=\u001b[39m \u001b[39msuper\u001b[39;49m()\u001b[39m.\u001b[39;49mgetresponse()\n\u001b[1;32m    463\u001b[0m \u001b[39mtry\u001b[39;00m:\n",
      "File \u001b[0;32m~/anaconda3/envs/all-nba/lib/python3.9/http/client.py:1377\u001b[0m, in \u001b[0;36mHTTPConnection.getresponse\u001b[0;34m(self)\u001b[0m\n\u001b[1;32m   1376\u001b[0m \u001b[39mtry\u001b[39;00m:\n\u001b[0;32m-> 1377\u001b[0m     response\u001b[39m.\u001b[39;49mbegin()\n\u001b[1;32m   1378\u001b[0m \u001b[39mexcept\u001b[39;00m \u001b[39mConnectionError\u001b[39;00m:\n",
      "File \u001b[0;32m~/anaconda3/envs/all-nba/lib/python3.9/http/client.py:320\u001b[0m, in \u001b[0;36mHTTPResponse.begin\u001b[0;34m(self)\u001b[0m\n\u001b[1;32m    319\u001b[0m \u001b[39mwhile\u001b[39;00m \u001b[39mTrue\u001b[39;00m:\n\u001b[0;32m--> 320\u001b[0m     version, status, reason \u001b[39m=\u001b[39m \u001b[39mself\u001b[39;49m\u001b[39m.\u001b[39;49m_read_status()\n\u001b[1;32m    321\u001b[0m     \u001b[39mif\u001b[39;00m status \u001b[39m!=\u001b[39m CONTINUE:\n",
      "File \u001b[0;32m~/anaconda3/envs/all-nba/lib/python3.9/http/client.py:281\u001b[0m, in \u001b[0;36mHTTPResponse._read_status\u001b[0;34m(self)\u001b[0m\n\u001b[1;32m    280\u001b[0m \u001b[39mdef\u001b[39;00m \u001b[39m_read_status\u001b[39m(\u001b[39mself\u001b[39m):\n\u001b[0;32m--> 281\u001b[0m     line \u001b[39m=\u001b[39m \u001b[39mstr\u001b[39m(\u001b[39mself\u001b[39;49m\u001b[39m.\u001b[39;49mfp\u001b[39m.\u001b[39;49mreadline(_MAXLINE \u001b[39m+\u001b[39;49m \u001b[39m1\u001b[39;49m), \u001b[39m\"\u001b[39m\u001b[39miso-8859-1\u001b[39m\u001b[39m\"\u001b[39m)\n\u001b[1;32m    282\u001b[0m     \u001b[39mif\u001b[39;00m \u001b[39mlen\u001b[39m(line) \u001b[39m>\u001b[39m _MAXLINE:\n",
      "File \u001b[0;32m~/anaconda3/envs/all-nba/lib/python3.9/socket.py:704\u001b[0m, in \u001b[0;36mSocketIO.readinto\u001b[0;34m(self, b)\u001b[0m\n\u001b[1;32m    703\u001b[0m \u001b[39mtry\u001b[39;00m:\n\u001b[0;32m--> 704\u001b[0m     \u001b[39mreturn\u001b[39;00m \u001b[39mself\u001b[39;49m\u001b[39m.\u001b[39;49m_sock\u001b[39m.\u001b[39;49mrecv_into(b)\n\u001b[1;32m    705\u001b[0m \u001b[39mexcept\u001b[39;00m timeout:\n",
      "File \u001b[0;32m~/anaconda3/envs/all-nba/lib/python3.9/ssl.py:1275\u001b[0m, in \u001b[0;36mSSLSocket.recv_into\u001b[0;34m(self, buffer, nbytes, flags)\u001b[0m\n\u001b[1;32m   1272\u001b[0m         \u001b[39mraise\u001b[39;00m \u001b[39mValueError\u001b[39;00m(\n\u001b[1;32m   1273\u001b[0m           \u001b[39m\"\u001b[39m\u001b[39mnon-zero flags not allowed in calls to recv_into() on \u001b[39m\u001b[39m%s\u001b[39;00m\u001b[39m\"\u001b[39m \u001b[39m%\u001b[39m\n\u001b[1;32m   1274\u001b[0m           \u001b[39mself\u001b[39m\u001b[39m.\u001b[39m\u001b[39m__class__\u001b[39m)\n\u001b[0;32m-> 1275\u001b[0m     \u001b[39mreturn\u001b[39;00m \u001b[39mself\u001b[39;49m\u001b[39m.\u001b[39;49mread(nbytes, buffer)\n\u001b[1;32m   1276\u001b[0m \u001b[39melse\u001b[39;00m:\n",
      "File \u001b[0;32m~/anaconda3/envs/all-nba/lib/python3.9/ssl.py:1133\u001b[0m, in \u001b[0;36mSSLSocket.read\u001b[0;34m(self, len, buffer)\u001b[0m\n\u001b[1;32m   1132\u001b[0m \u001b[39mif\u001b[39;00m buffer \u001b[39mis\u001b[39;00m \u001b[39mnot\u001b[39;00m \u001b[39mNone\u001b[39;00m:\n\u001b[0;32m-> 1133\u001b[0m     \u001b[39mreturn\u001b[39;00m \u001b[39mself\u001b[39;49m\u001b[39m.\u001b[39;49m_sslobj\u001b[39m.\u001b[39;49mread(\u001b[39mlen\u001b[39;49m, buffer)\n\u001b[1;32m   1134\u001b[0m \u001b[39melse\u001b[39;00m:\n",
      "\u001b[0;31mtimeout\u001b[0m: The read operation timed out",
      "\nThe above exception was the direct cause of the following exception:\n",
      "\u001b[0;31mReadTimeoutError\u001b[0m                          Traceback (most recent call last)",
      "File \u001b[0;32m~/anaconda3/envs/all-nba/lib/python3.9/site-packages/requests/adapters.py:486\u001b[0m, in \u001b[0;36mHTTPAdapter.send\u001b[0;34m(self, request, stream, timeout, verify, cert, proxies)\u001b[0m\n\u001b[1;32m    485\u001b[0m \u001b[39mtry\u001b[39;00m:\n\u001b[0;32m--> 486\u001b[0m     resp \u001b[39m=\u001b[39m conn\u001b[39m.\u001b[39;49murlopen(\n\u001b[1;32m    487\u001b[0m         method\u001b[39m=\u001b[39;49mrequest\u001b[39m.\u001b[39;49mmethod,\n\u001b[1;32m    488\u001b[0m         url\u001b[39m=\u001b[39;49murl,\n\u001b[1;32m    489\u001b[0m         body\u001b[39m=\u001b[39;49mrequest\u001b[39m.\u001b[39;49mbody,\n\u001b[1;32m    490\u001b[0m         headers\u001b[39m=\u001b[39;49mrequest\u001b[39m.\u001b[39;49mheaders,\n\u001b[1;32m    491\u001b[0m         redirect\u001b[39m=\u001b[39;49m\u001b[39mFalse\u001b[39;49;00m,\n\u001b[1;32m    492\u001b[0m         assert_same_host\u001b[39m=\u001b[39;49m\u001b[39mFalse\u001b[39;49;00m,\n\u001b[1;32m    493\u001b[0m         preload_content\u001b[39m=\u001b[39;49m\u001b[39mFalse\u001b[39;49;00m,\n\u001b[1;32m    494\u001b[0m         decode_content\u001b[39m=\u001b[39;49m\u001b[39mFalse\u001b[39;49;00m,\n\u001b[1;32m    495\u001b[0m         retries\u001b[39m=\u001b[39;49m\u001b[39mself\u001b[39;49m\u001b[39m.\u001b[39;49mmax_retries,\n\u001b[1;32m    496\u001b[0m         timeout\u001b[39m=\u001b[39;49mtimeout,\n\u001b[1;32m    497\u001b[0m         chunked\u001b[39m=\u001b[39;49mchunked,\n\u001b[1;32m    498\u001b[0m     )\n\u001b[1;32m    500\u001b[0m \u001b[39mexcept\u001b[39;00m (ProtocolError, \u001b[39mOSError\u001b[39;00m) \u001b[39mas\u001b[39;00m err:\n",
      "File \u001b[0;32m~/anaconda3/envs/all-nba/lib/python3.9/site-packages/urllib3/connectionpool.py:844\u001b[0m, in \u001b[0;36mHTTPConnectionPool.urlopen\u001b[0;34m(self, method, url, body, headers, retries, redirect, assert_same_host, timeout, pool_timeout, release_conn, chunked, body_pos, preload_content, decode_content, **response_kw)\u001b[0m\n\u001b[1;32m    842\u001b[0m     new_e \u001b[39m=\u001b[39m ProtocolError(\u001b[39m\"\u001b[39m\u001b[39mConnection aborted.\u001b[39m\u001b[39m\"\u001b[39m, new_e)\n\u001b[0;32m--> 844\u001b[0m retries \u001b[39m=\u001b[39m retries\u001b[39m.\u001b[39;49mincrement(\n\u001b[1;32m    845\u001b[0m     method, url, error\u001b[39m=\u001b[39;49mnew_e, _pool\u001b[39m=\u001b[39;49m\u001b[39mself\u001b[39;49m, _stacktrace\u001b[39m=\u001b[39;49msys\u001b[39m.\u001b[39;49mexc_info()[\u001b[39m2\u001b[39;49m]\n\u001b[1;32m    846\u001b[0m )\n\u001b[1;32m    847\u001b[0m retries\u001b[39m.\u001b[39msleep()\n",
      "File \u001b[0;32m~/anaconda3/envs/all-nba/lib/python3.9/site-packages/urllib3/util/retry.py:470\u001b[0m, in \u001b[0;36mRetry.increment\u001b[0;34m(self, method, url, response, error, _pool, _stacktrace)\u001b[0m\n\u001b[1;32m    469\u001b[0m \u001b[39mif\u001b[39;00m read \u001b[39mis\u001b[39;00m \u001b[39mFalse\u001b[39;00m \u001b[39mor\u001b[39;00m method \u001b[39mis\u001b[39;00m \u001b[39mNone\u001b[39;00m \u001b[39mor\u001b[39;00m \u001b[39mnot\u001b[39;00m \u001b[39mself\u001b[39m\u001b[39m.\u001b[39m_is_method_retryable(method):\n\u001b[0;32m--> 470\u001b[0m     \u001b[39mraise\u001b[39;00m reraise(\u001b[39mtype\u001b[39;49m(error), error, _stacktrace)\n\u001b[1;32m    471\u001b[0m \u001b[39melif\u001b[39;00m read \u001b[39mis\u001b[39;00m \u001b[39mnot\u001b[39;00m \u001b[39mNone\u001b[39;00m:\n",
      "File \u001b[0;32m~/anaconda3/envs/all-nba/lib/python3.9/site-packages/urllib3/util/util.py:39\u001b[0m, in \u001b[0;36mreraise\u001b[0;34m(tp, value, tb)\u001b[0m\n\u001b[1;32m     38\u001b[0m         \u001b[39mraise\u001b[39;00m value\u001b[39m.\u001b[39mwith_traceback(tb)\n\u001b[0;32m---> 39\u001b[0m     \u001b[39mraise\u001b[39;00m value\n\u001b[1;32m     40\u001b[0m \u001b[39mfinally\u001b[39;00m:\n",
      "File \u001b[0;32m~/anaconda3/envs/all-nba/lib/python3.9/site-packages/urllib3/connectionpool.py:790\u001b[0m, in \u001b[0;36mHTTPConnectionPool.urlopen\u001b[0;34m(self, method, url, body, headers, retries, redirect, assert_same_host, timeout, pool_timeout, release_conn, chunked, body_pos, preload_content, decode_content, **response_kw)\u001b[0m\n\u001b[1;32m    789\u001b[0m \u001b[39m# Make the request on the HTTPConnection object\u001b[39;00m\n\u001b[0;32m--> 790\u001b[0m response \u001b[39m=\u001b[39m \u001b[39mself\u001b[39;49m\u001b[39m.\u001b[39;49m_make_request(\n\u001b[1;32m    791\u001b[0m     conn,\n\u001b[1;32m    792\u001b[0m     method,\n\u001b[1;32m    793\u001b[0m     url,\n\u001b[1;32m    794\u001b[0m     timeout\u001b[39m=\u001b[39;49mtimeout_obj,\n\u001b[1;32m    795\u001b[0m     body\u001b[39m=\u001b[39;49mbody,\n\u001b[1;32m    796\u001b[0m     headers\u001b[39m=\u001b[39;49mheaders,\n\u001b[1;32m    797\u001b[0m     chunked\u001b[39m=\u001b[39;49mchunked,\n\u001b[1;32m    798\u001b[0m     retries\u001b[39m=\u001b[39;49mretries,\n\u001b[1;32m    799\u001b[0m     response_conn\u001b[39m=\u001b[39;49mresponse_conn,\n\u001b[1;32m    800\u001b[0m     preload_content\u001b[39m=\u001b[39;49mpreload_content,\n\u001b[1;32m    801\u001b[0m     decode_content\u001b[39m=\u001b[39;49mdecode_content,\n\u001b[1;32m    802\u001b[0m     \u001b[39m*\u001b[39;49m\u001b[39m*\u001b[39;49mresponse_kw,\n\u001b[1;32m    803\u001b[0m )\n\u001b[1;32m    805\u001b[0m \u001b[39m# Everything went great!\u001b[39;00m\n",
      "File \u001b[0;32m~/anaconda3/envs/all-nba/lib/python3.9/site-packages/urllib3/connectionpool.py:538\u001b[0m, in \u001b[0;36mHTTPConnectionPool._make_request\u001b[0;34m(self, conn, method, url, body, headers, retries, timeout, chunked, response_conn, preload_content, decode_content, enforce_content_length)\u001b[0m\n\u001b[1;32m    537\u001b[0m \u001b[39mexcept\u001b[39;00m (BaseSSLError, \u001b[39mOSError\u001b[39;00m) \u001b[39mas\u001b[39;00m e:\n\u001b[0;32m--> 538\u001b[0m     \u001b[39mself\u001b[39;49m\u001b[39m.\u001b[39;49m_raise_timeout(err\u001b[39m=\u001b[39;49me, url\u001b[39m=\u001b[39;49murl, timeout_value\u001b[39m=\u001b[39;49mread_timeout)\n\u001b[1;32m    539\u001b[0m     \u001b[39mraise\u001b[39;00m\n",
      "File \u001b[0;32m~/anaconda3/envs/all-nba/lib/python3.9/site-packages/urllib3/connectionpool.py:370\u001b[0m, in \u001b[0;36mHTTPConnectionPool._raise_timeout\u001b[0;34m(self, err, url, timeout_value)\u001b[0m\n\u001b[1;32m    369\u001b[0m \u001b[39mif\u001b[39;00m \u001b[39misinstance\u001b[39m(err, SocketTimeout):\n\u001b[0;32m--> 370\u001b[0m     \u001b[39mraise\u001b[39;00m ReadTimeoutError(\n\u001b[1;32m    371\u001b[0m         \u001b[39mself\u001b[39m, url, \u001b[39mf\u001b[39m\u001b[39m\"\u001b[39m\u001b[39mRead timed out. (read timeout=\u001b[39m\u001b[39m{\u001b[39;00mtimeout_value\u001b[39m}\u001b[39;00m\u001b[39m)\u001b[39m\u001b[39m\"\u001b[39m\n\u001b[1;32m    372\u001b[0m     ) \u001b[39mfrom\u001b[39;00m \u001b[39merr\u001b[39;00m\n\u001b[1;32m    374\u001b[0m \u001b[39m# See the above comment about EAGAIN in Python 3.\u001b[39;00m\n",
      "\u001b[0;31mReadTimeoutError\u001b[0m: HTTPSConnectionPool(host='stats.nba.com', port=443): Read timed out. (read timeout=30)",
      "\nDuring handling of the above exception, another exception occurred:\n",
      "\u001b[0;31mReadTimeout\u001b[0m                               Traceback (most recent call last)",
      "\u001b[1;32m/home/andrew/dev/all-nba-prediction/pipeline/pipeline.ipynb Cell 13\u001b[0m line \u001b[0;36m8\n\u001b[1;32m      <a href='vscode-notebook-cell:/home/andrew/dev/all-nba-prediction/pipeline/pipeline.ipynb#X43sZmlsZQ%3D%3D?line=5'>6</a>\u001b[0m     chunk_size \u001b[39m=\u001b[39m \u001b[39mlen\u001b[39m(nba_players) \u001b[39m-\u001b[39m start_point\n\u001b[1;32m      <a href='vscode-notebook-cell:/home/andrew/dev/all-nba-prediction/pipeline/pipeline.ipynb#X43sZmlsZQ%3D%3D?line=6'>7</a>\u001b[0m \u001b[39mprint\u001b[39m(\u001b[39mf\u001b[39m\u001b[39m'\u001b[39m\u001b[39mcollecting chunk \u001b[39m\u001b[39m{\u001b[39;00mstart_point\u001b[39m}\u001b[39;00m\u001b[39m through \u001b[39m\u001b[39m{\u001b[39;00mstart_point\u001b[39m \u001b[39m\u001b[39m+\u001b[39m\u001b[39m \u001b[39mchunk_size\u001b[39m}\u001b[39;00m\u001b[39m'\u001b[39m)\n\u001b[0;32m----> <a href='vscode-notebook-cell:/home/andrew/dev/all-nba-prediction/pipeline/pipeline.ipynb#X43sZmlsZQ%3D%3D?line=7'>8</a>\u001b[0m df \u001b[39m=\u001b[39m collect_chunk(nba_players, start_point, chunk_size)\n\u001b[1;32m      <a href='vscode-notebook-cell:/home/andrew/dev/all-nba-prediction/pipeline/pipeline.ipynb#X43sZmlsZQ%3D%3D?line=8'>9</a>\u001b[0m df\u001b[39m.\u001b[39mto_csv(\u001b[39mf\u001b[39m\u001b[39m'\u001b[39m\u001b[39m../data/chunks/players_\u001b[39m\u001b[39m{\u001b[39;00mstart_point\u001b[39m}\u001b[39;00m\u001b[39m_to_\u001b[39m\u001b[39m{\u001b[39;00mstart_point\u001b[39m \u001b[39m\u001b[39m+\u001b[39m\u001b[39m \u001b[39mchunk_size\u001b[39m}\u001b[39;00m\u001b[39m.csv\u001b[39m\u001b[39m'\u001b[39m)\n\u001b[1;32m     <a href='vscode-notebook-cell:/home/andrew/dev/all-nba-prediction/pipeline/pipeline.ipynb#X43sZmlsZQ%3D%3D?line=9'>10</a>\u001b[0m start_point \u001b[39m=\u001b[39m start_point \u001b[39m+\u001b[39m chunk_size\n",
      "\u001b[1;32m/home/andrew/dev/all-nba-prediction/pipeline/pipeline.ipynb Cell 13\u001b[0m line \u001b[0;36m1\n\u001b[1;32m      <a href='vscode-notebook-cell:/home/andrew/dev/all-nba-prediction/pipeline/pipeline.ipynb#X43sZmlsZQ%3D%3D?line=7'>8</a>\u001b[0m start \u001b[39m=\u001b[39m time()\n\u001b[1;32m      <a href='vscode-notebook-cell:/home/andrew/dev/all-nba-prediction/pipeline/pipeline.ipynb#X43sZmlsZQ%3D%3D?line=8'>9</a>\u001b[0m \u001b[39mprint\u001b[39m(\u001b[39mf\u001b[39m\u001b[39m\"\u001b[39m\u001b[39mProcessing \u001b[39m\u001b[39m{\u001b[39;00mname\u001b[39m}\u001b[39;00m\u001b[39m...\u001b[39m\u001b[39m\"\u001b[39m)\n\u001b[0;32m---> <a href='vscode-notebook-cell:/home/andrew/dev/all-nba-prediction/pipeline/pipeline.ipynb#X43sZmlsZQ%3D%3D?line=10'>11</a>\u001b[0m seasons \u001b[39m=\u001b[39m collect_seasons(\u001b[39mid\u001b[39;49m)\n\u001b[1;32m     <a href='vscode-notebook-cell:/home/andrew/dev/all-nba-prediction/pipeline/pipeline.ipynb#X43sZmlsZQ%3D%3D?line=11'>12</a>\u001b[0m awards \u001b[39m=\u001b[39m collect_awards(\u001b[39mid\u001b[39m)\n\u001b[1;32m     <a href='vscode-notebook-cell:/home/andrew/dev/all-nba-prediction/pipeline/pipeline.ipynb#X43sZmlsZQ%3D%3D?line=12'>13</a>\u001b[0m df \u001b[39m=\u001b[39m stat_join(seasons, awards)\n",
      "\u001b[1;32m/home/andrew/dev/all-nba-prediction/pipeline/pipeline.ipynb Cell 13\u001b[0m line \u001b[0;36m6\n\u001b[1;32m      <a href='vscode-notebook-cell:/home/andrew/dev/all-nba-prediction/pipeline/pipeline.ipynb#X43sZmlsZQ%3D%3D?line=2'>3</a>\u001b[0m \u001b[39mdef\u001b[39;00m \u001b[39mcollect_seasons\u001b[39m(\u001b[39mid\u001b[39m):\n\u001b[1;32m      <a href='vscode-notebook-cell:/home/andrew/dev/all-nba-prediction/pipeline/pipeline.ipynb#X43sZmlsZQ%3D%3D?line=3'>4</a>\u001b[0m     season_filter \u001b[39m=\u001b[39m \u001b[39m1998\u001b[39m \u001b[39m# the first year of the modern 3 point era\u001b[39;00m\n\u001b[0;32m----> <a href='vscode-notebook-cell:/home/andrew/dev/all-nba-prediction/pipeline/pipeline.ipynb#X43sZmlsZQ%3D%3D?line=5'>6</a>\u001b[0m     career \u001b[39m=\u001b[39m playercareerstats\u001b[39m.\u001b[39;49mPlayerCareerStats(player_id\u001b[39m=\u001b[39;49m\u001b[39mid\u001b[39;49m)\n\u001b[1;32m      <a href='vscode-notebook-cell:/home/andrew/dev/all-nba-prediction/pipeline/pipeline.ipynb#X43sZmlsZQ%3D%3D?line=6'>7</a>\u001b[0m     df \u001b[39m=\u001b[39m career\u001b[39m.\u001b[39mget_data_frames()[\u001b[39m0\u001b[39m]\n\u001b[1;32m      <a href='vscode-notebook-cell:/home/andrew/dev/all-nba-prediction/pipeline/pipeline.ipynb#X43sZmlsZQ%3D%3D?line=8'>9</a>\u001b[0m     df[\u001b[39m'\u001b[39m\u001b[39mSEASON_ID\u001b[39m\u001b[39m'\u001b[39m] \u001b[39m=\u001b[39m df[\u001b[39m'\u001b[39m\u001b[39mSEASON_ID\u001b[39m\u001b[39m'\u001b[39m]\u001b[39m.\u001b[39mapply(\u001b[39mlambda\u001b[39;00m x: \u001b[39mint\u001b[39m(x[:\u001b[39m4\u001b[39m]) \u001b[39m+\u001b[39m \u001b[39m1\u001b[39m) \u001b[39m#make seasons numeric type\u001b[39;00m\n",
      "File \u001b[0;32m~/anaconda3/envs/all-nba/lib/python3.9/site-packages/nba_api/stats/endpoints/playercareerstats.py:315\u001b[0m, in \u001b[0;36mPlayerCareerStats.__init__\u001b[0;34m(self, player_id, per_mode36, league_id_nullable, proxy, headers, timeout, get_request)\u001b[0m\n\u001b[1;32m    309\u001b[0m \u001b[39mself\u001b[39m\u001b[39m.\u001b[39mparameters \u001b[39m=\u001b[39m {\n\u001b[1;32m    310\u001b[0m     \u001b[39m\"\u001b[39m\u001b[39mPlayerID\u001b[39m\u001b[39m\"\u001b[39m: player_id,\n\u001b[1;32m    311\u001b[0m     \u001b[39m\"\u001b[39m\u001b[39mPerMode\u001b[39m\u001b[39m\"\u001b[39m: per_mode36,\n\u001b[1;32m    312\u001b[0m     \u001b[39m\"\u001b[39m\u001b[39mLeagueID\u001b[39m\u001b[39m\"\u001b[39m: league_id_nullable,\n\u001b[1;32m    313\u001b[0m }\n\u001b[1;32m    314\u001b[0m \u001b[39mif\u001b[39;00m get_request:\n\u001b[0;32m--> 315\u001b[0m     \u001b[39mself\u001b[39;49m\u001b[39m.\u001b[39;49mget_request()\n",
      "File \u001b[0;32m~/anaconda3/envs/all-nba/lib/python3.9/site-packages/nba_api/stats/endpoints/playercareerstats.py:318\u001b[0m, in \u001b[0;36mPlayerCareerStats.get_request\u001b[0;34m(self)\u001b[0m\n\u001b[1;32m    317\u001b[0m \u001b[39mdef\u001b[39;00m \u001b[39mget_request\u001b[39m(\u001b[39mself\u001b[39m):\n\u001b[0;32m--> 318\u001b[0m     \u001b[39mself\u001b[39m\u001b[39m.\u001b[39mnba_response \u001b[39m=\u001b[39m NBAStatsHTTP()\u001b[39m.\u001b[39;49msend_api_request(\n\u001b[1;32m    319\u001b[0m         endpoint\u001b[39m=\u001b[39;49m\u001b[39mself\u001b[39;49m\u001b[39m.\u001b[39;49mendpoint,\n\u001b[1;32m    320\u001b[0m         parameters\u001b[39m=\u001b[39;49m\u001b[39mself\u001b[39;49m\u001b[39m.\u001b[39;49mparameters,\n\u001b[1;32m    321\u001b[0m         proxy\u001b[39m=\u001b[39;49m\u001b[39mself\u001b[39;49m\u001b[39m.\u001b[39;49mproxy,\n\u001b[1;32m    322\u001b[0m         headers\u001b[39m=\u001b[39;49m\u001b[39mself\u001b[39;49m\u001b[39m.\u001b[39;49mheaders,\n\u001b[1;32m    323\u001b[0m         timeout\u001b[39m=\u001b[39;49m\u001b[39mself\u001b[39;49m\u001b[39m.\u001b[39;49mtimeout,\n\u001b[1;32m    324\u001b[0m     )\n\u001b[1;32m    325\u001b[0m     \u001b[39mself\u001b[39m\u001b[39m.\u001b[39mload_response()\n",
      "File \u001b[0;32m~/anaconda3/envs/all-nba/lib/python3.9/site-packages/nba_api/library/http.py:146\u001b[0m, in \u001b[0;36mNBAHTTP.send_api_request\u001b[0;34m(self, endpoint, parameters, referer, proxy, headers, timeout, raise_exception_on_error)\u001b[0m\n\u001b[1;32m    143\u001b[0m         \u001b[39mprint\u001b[39m(\u001b[39m\"\u001b[39m\u001b[39mloading from file...\u001b[39m\u001b[39m\"\u001b[39m)\n\u001b[1;32m    145\u001b[0m \u001b[39mif\u001b[39;00m \u001b[39mnot\u001b[39;00m contents:\n\u001b[0;32m--> 146\u001b[0m     response \u001b[39m=\u001b[39m requests\u001b[39m.\u001b[39;49mget(\n\u001b[1;32m    147\u001b[0m         url\u001b[39m=\u001b[39;49mbase_url,\n\u001b[1;32m    148\u001b[0m         params\u001b[39m=\u001b[39;49mparameters,\n\u001b[1;32m    149\u001b[0m         headers\u001b[39m=\u001b[39;49mrequest_headers,\n\u001b[1;32m    150\u001b[0m         proxies\u001b[39m=\u001b[39;49mproxies,\n\u001b[1;32m    151\u001b[0m         timeout\u001b[39m=\u001b[39;49mtimeout,\n\u001b[1;32m    152\u001b[0m     )\n\u001b[1;32m    153\u001b[0m     url \u001b[39m=\u001b[39m response\u001b[39m.\u001b[39murl\n\u001b[1;32m    154\u001b[0m     status_code \u001b[39m=\u001b[39m response\u001b[39m.\u001b[39mstatus_code\n",
      "File \u001b[0;32m~/anaconda3/envs/all-nba/lib/python3.9/site-packages/requests/api.py:73\u001b[0m, in \u001b[0;36mget\u001b[0;34m(url, params, **kwargs)\u001b[0m\n\u001b[1;32m     62\u001b[0m \u001b[39mdef\u001b[39;00m \u001b[39mget\u001b[39m(url, params\u001b[39m=\u001b[39m\u001b[39mNone\u001b[39;00m, \u001b[39m*\u001b[39m\u001b[39m*\u001b[39mkwargs):\n\u001b[1;32m     63\u001b[0m \u001b[39m    \u001b[39m\u001b[39mr\u001b[39m\u001b[39m\"\"\"Sends a GET request.\u001b[39;00m\n\u001b[1;32m     64\u001b[0m \n\u001b[1;32m     65\u001b[0m \u001b[39m    :param url: URL for the new :class:`Request` object.\u001b[39;00m\n\u001b[0;32m   (...)\u001b[0m\n\u001b[1;32m     70\u001b[0m \u001b[39m    :rtype: requests.Response\u001b[39;00m\n\u001b[1;32m     71\u001b[0m \u001b[39m    \"\"\"\u001b[39;00m\n\u001b[0;32m---> 73\u001b[0m     \u001b[39mreturn\u001b[39;00m request(\u001b[39m\"\u001b[39;49m\u001b[39mget\u001b[39;49m\u001b[39m\"\u001b[39;49m, url, params\u001b[39m=\u001b[39;49mparams, \u001b[39m*\u001b[39;49m\u001b[39m*\u001b[39;49mkwargs)\n",
      "File \u001b[0;32m~/anaconda3/envs/all-nba/lib/python3.9/site-packages/requests/api.py:59\u001b[0m, in \u001b[0;36mrequest\u001b[0;34m(method, url, **kwargs)\u001b[0m\n\u001b[1;32m     55\u001b[0m \u001b[39m# By using the 'with' statement we are sure the session is closed, thus we\u001b[39;00m\n\u001b[1;32m     56\u001b[0m \u001b[39m# avoid leaving sockets open which can trigger a ResourceWarning in some\u001b[39;00m\n\u001b[1;32m     57\u001b[0m \u001b[39m# cases, and look like a memory leak in others.\u001b[39;00m\n\u001b[1;32m     58\u001b[0m \u001b[39mwith\u001b[39;00m sessions\u001b[39m.\u001b[39mSession() \u001b[39mas\u001b[39;00m session:\n\u001b[0;32m---> 59\u001b[0m     \u001b[39mreturn\u001b[39;00m session\u001b[39m.\u001b[39;49mrequest(method\u001b[39m=\u001b[39;49mmethod, url\u001b[39m=\u001b[39;49murl, \u001b[39m*\u001b[39;49m\u001b[39m*\u001b[39;49mkwargs)\n",
      "File \u001b[0;32m~/anaconda3/envs/all-nba/lib/python3.9/site-packages/requests/sessions.py:589\u001b[0m, in \u001b[0;36mSession.request\u001b[0;34m(self, method, url, params, data, headers, cookies, files, auth, timeout, allow_redirects, proxies, hooks, stream, verify, cert, json)\u001b[0m\n\u001b[1;32m    584\u001b[0m send_kwargs \u001b[39m=\u001b[39m {\n\u001b[1;32m    585\u001b[0m     \u001b[39m\"\u001b[39m\u001b[39mtimeout\u001b[39m\u001b[39m\"\u001b[39m: timeout,\n\u001b[1;32m    586\u001b[0m     \u001b[39m\"\u001b[39m\u001b[39mallow_redirects\u001b[39m\u001b[39m\"\u001b[39m: allow_redirects,\n\u001b[1;32m    587\u001b[0m }\n\u001b[1;32m    588\u001b[0m send_kwargs\u001b[39m.\u001b[39mupdate(settings)\n\u001b[0;32m--> 589\u001b[0m resp \u001b[39m=\u001b[39m \u001b[39mself\u001b[39;49m\u001b[39m.\u001b[39;49msend(prep, \u001b[39m*\u001b[39;49m\u001b[39m*\u001b[39;49msend_kwargs)\n\u001b[1;32m    591\u001b[0m \u001b[39mreturn\u001b[39;00m resp\n",
      "File \u001b[0;32m~/anaconda3/envs/all-nba/lib/python3.9/site-packages/requests/sessions.py:703\u001b[0m, in \u001b[0;36mSession.send\u001b[0;34m(self, request, **kwargs)\u001b[0m\n\u001b[1;32m    700\u001b[0m start \u001b[39m=\u001b[39m preferred_clock()\n\u001b[1;32m    702\u001b[0m \u001b[39m# Send the request\u001b[39;00m\n\u001b[0;32m--> 703\u001b[0m r \u001b[39m=\u001b[39m adapter\u001b[39m.\u001b[39;49msend(request, \u001b[39m*\u001b[39;49m\u001b[39m*\u001b[39;49mkwargs)\n\u001b[1;32m    705\u001b[0m \u001b[39m# Total elapsed time of the request (approximately)\u001b[39;00m\n\u001b[1;32m    706\u001b[0m elapsed \u001b[39m=\u001b[39m preferred_clock() \u001b[39m-\u001b[39m start\n",
      "File \u001b[0;32m~/anaconda3/envs/all-nba/lib/python3.9/site-packages/requests/adapters.py:532\u001b[0m, in \u001b[0;36mHTTPAdapter.send\u001b[0;34m(self, request, stream, timeout, verify, cert, proxies)\u001b[0m\n\u001b[1;32m    530\u001b[0m     \u001b[39mraise\u001b[39;00m SSLError(e, request\u001b[39m=\u001b[39mrequest)\n\u001b[1;32m    531\u001b[0m \u001b[39melif\u001b[39;00m \u001b[39misinstance\u001b[39m(e, ReadTimeoutError):\n\u001b[0;32m--> 532\u001b[0m     \u001b[39mraise\u001b[39;00m ReadTimeout(e, request\u001b[39m=\u001b[39mrequest)\n\u001b[1;32m    533\u001b[0m \u001b[39melif\u001b[39;00m \u001b[39misinstance\u001b[39m(e, _InvalidHeader):\n\u001b[1;32m    534\u001b[0m     \u001b[39mraise\u001b[39;00m InvalidHeader(e, request\u001b[39m=\u001b[39mrequest)\n",
      "\u001b[0;31mReadTimeout\u001b[0m: HTTPSConnectionPool(host='stats.nba.com', port=443): Read timed out. (read timeout=30)"
     ]
    }
   ],
   "source": [
    "chunk_size = 100\n",
    "start_point = 3300\n",
    "\n",
    "while start_point < len(nba_players):\n",
    "    if start_point + chunk_size > len(nba_players):\n",
    "        chunk_size = len(nba_players) - start_point\n",
    "    print(f'collecting chunk {start_point} through {start_point + chunk_size}')\n",
    "    df = collect_chunk(nba_players, start_point, chunk_size)\n",
    "    df.to_csv(f'../data/chunks/players_{start_point}_to_{start_point + chunk_size}.csv')\n",
    "    start_point = start_point + chunk_size"
   ]
  },
  {
   "cell_type": "code",
   "execution_count": null,
   "metadata": {},
   "outputs": [],
   "source": []
  }
 ],
 "metadata": {
  "kernelspec": {
   "display_name": "all-nba-prediction",
   "language": "python",
   "name": "python3"
  },
  "language_info": {
   "codemirror_mode": {
    "name": "ipython",
    "version": 3
   },
   "file_extension": ".py",
   "mimetype": "text/x-python",
   "name": "python",
   "nbconvert_exporter": "python",
   "pygments_lexer": "ipython3",
   "version": "3.9.18"
  }
 },
 "nbformat": 4,
 "nbformat_minor": 2
}
